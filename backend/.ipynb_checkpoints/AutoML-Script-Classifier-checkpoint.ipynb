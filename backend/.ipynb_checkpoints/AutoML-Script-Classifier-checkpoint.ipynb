{
 "cells": [
  {
   "cell_type": "markdown",
   "id": "e1b54b90",
   "metadata": {},
   "source": [
    "### Importing Libraries"
   ]
  },
  {
   "cell_type": "code",
   "execution_count": 209,
   "id": "91fd8058",
   "metadata": {},
   "outputs": [],
   "source": [
    "import pandas as pd\n",
    "import numpy as np\n",
    "import seaborn as sns\n",
    "import matplotlib.pyplot as plt\n",
    "%matplotlib inline\n",
    "\n",
    "from sklearn.metrics import confusion_matrix, accuracy_score"
   ]
  },
  {
   "cell_type": "markdown",
   "id": "6a0562d1",
   "metadata": {},
   "source": [
    "### Loading Dataset"
   ]
  },
  {
   "cell_type": "code",
   "execution_count": 210,
   "id": "b96eac2b",
   "metadata": {},
   "outputs": [
    {
     "data": {
      "text/html": [
       "<div>\n",
       "<style scoped>\n",
       "    .dataframe tbody tr th:only-of-type {\n",
       "        vertical-align: middle;\n",
       "    }\n",
       "\n",
       "    .dataframe tbody tr th {\n",
       "        vertical-align: top;\n",
       "    }\n",
       "\n",
       "    .dataframe thead th {\n",
       "        text-align: right;\n",
       "    }\n",
       "</style>\n",
       "<table border=\"1\" class=\"dataframe\">\n",
       "  <thead>\n",
       "    <tr style=\"text-align: right;\">\n",
       "      <th></th>\n",
       "      <th>age</th>\n",
       "      <th>anaemia</th>\n",
       "      <th>creatinine_phosphokinase</th>\n",
       "      <th>diabetes</th>\n",
       "      <th>ejection_fraction</th>\n",
       "      <th>high_blood_pressure</th>\n",
       "      <th>platelets</th>\n",
       "      <th>serum_creatinine</th>\n",
       "      <th>serum_sodium</th>\n",
       "      <th>sex</th>\n",
       "      <th>smoking</th>\n",
       "      <th>time</th>\n",
       "      <th>DEATH_EVENT</th>\n",
       "    </tr>\n",
       "  </thead>\n",
       "  <tbody>\n",
       "    <tr>\n",
       "      <th>0</th>\n",
       "      <td>75.0</td>\n",
       "      <td>0</td>\n",
       "      <td>582</td>\n",
       "      <td>0</td>\n",
       "      <td>20</td>\n",
       "      <td>1</td>\n",
       "      <td>265000.00</td>\n",
       "      <td>1.9</td>\n",
       "      <td>130</td>\n",
       "      <td>1</td>\n",
       "      <td>0</td>\n",
       "      <td>4</td>\n",
       "      <td>1</td>\n",
       "    </tr>\n",
       "    <tr>\n",
       "      <th>1</th>\n",
       "      <td>55.0</td>\n",
       "      <td>0</td>\n",
       "      <td>7861</td>\n",
       "      <td>0</td>\n",
       "      <td>38</td>\n",
       "      <td>0</td>\n",
       "      <td>263358.03</td>\n",
       "      <td>1.1</td>\n",
       "      <td>136</td>\n",
       "      <td>1</td>\n",
       "      <td>0</td>\n",
       "      <td>6</td>\n",
       "      <td>1</td>\n",
       "    </tr>\n",
       "    <tr>\n",
       "      <th>2</th>\n",
       "      <td>65.0</td>\n",
       "      <td>0</td>\n",
       "      <td>146</td>\n",
       "      <td>0</td>\n",
       "      <td>20</td>\n",
       "      <td>0</td>\n",
       "      <td>162000.00</td>\n",
       "      <td>1.3</td>\n",
       "      <td>129</td>\n",
       "      <td>1</td>\n",
       "      <td>1</td>\n",
       "      <td>7</td>\n",
       "      <td>1</td>\n",
       "    </tr>\n",
       "    <tr>\n",
       "      <th>3</th>\n",
       "      <td>50.0</td>\n",
       "      <td>1</td>\n",
       "      <td>111</td>\n",
       "      <td>0</td>\n",
       "      <td>20</td>\n",
       "      <td>0</td>\n",
       "      <td>210000.00</td>\n",
       "      <td>1.9</td>\n",
       "      <td>137</td>\n",
       "      <td>1</td>\n",
       "      <td>0</td>\n",
       "      <td>7</td>\n",
       "      <td>1</td>\n",
       "    </tr>\n",
       "    <tr>\n",
       "      <th>4</th>\n",
       "      <td>65.0</td>\n",
       "      <td>1</td>\n",
       "      <td>160</td>\n",
       "      <td>1</td>\n",
       "      <td>20</td>\n",
       "      <td>0</td>\n",
       "      <td>327000.00</td>\n",
       "      <td>2.7</td>\n",
       "      <td>116</td>\n",
       "      <td>0</td>\n",
       "      <td>0</td>\n",
       "      <td>8</td>\n",
       "      <td>1</td>\n",
       "    </tr>\n",
       "    <tr>\n",
       "      <th>...</th>\n",
       "      <td>...</td>\n",
       "      <td>...</td>\n",
       "      <td>...</td>\n",
       "      <td>...</td>\n",
       "      <td>...</td>\n",
       "      <td>...</td>\n",
       "      <td>...</td>\n",
       "      <td>...</td>\n",
       "      <td>...</td>\n",
       "      <td>...</td>\n",
       "      <td>...</td>\n",
       "      <td>...</td>\n",
       "      <td>...</td>\n",
       "    </tr>\n",
       "    <tr>\n",
       "      <th>294</th>\n",
       "      <td>62.0</td>\n",
       "      <td>0</td>\n",
       "      <td>61</td>\n",
       "      <td>1</td>\n",
       "      <td>38</td>\n",
       "      <td>1</td>\n",
       "      <td>155000.00</td>\n",
       "      <td>1.1</td>\n",
       "      <td>143</td>\n",
       "      <td>1</td>\n",
       "      <td>1</td>\n",
       "      <td>270</td>\n",
       "      <td>0</td>\n",
       "    </tr>\n",
       "    <tr>\n",
       "      <th>295</th>\n",
       "      <td>55.0</td>\n",
       "      <td>0</td>\n",
       "      <td>1820</td>\n",
       "      <td>0</td>\n",
       "      <td>38</td>\n",
       "      <td>0</td>\n",
       "      <td>270000.00</td>\n",
       "      <td>1.2</td>\n",
       "      <td>139</td>\n",
       "      <td>0</td>\n",
       "      <td>0</td>\n",
       "      <td>271</td>\n",
       "      <td>0</td>\n",
       "    </tr>\n",
       "    <tr>\n",
       "      <th>296</th>\n",
       "      <td>45.0</td>\n",
       "      <td>0</td>\n",
       "      <td>2060</td>\n",
       "      <td>1</td>\n",
       "      <td>60</td>\n",
       "      <td>0</td>\n",
       "      <td>742000.00</td>\n",
       "      <td>0.8</td>\n",
       "      <td>138</td>\n",
       "      <td>0</td>\n",
       "      <td>0</td>\n",
       "      <td>278</td>\n",
       "      <td>0</td>\n",
       "    </tr>\n",
       "    <tr>\n",
       "      <th>297</th>\n",
       "      <td>45.0</td>\n",
       "      <td>0</td>\n",
       "      <td>2413</td>\n",
       "      <td>0</td>\n",
       "      <td>38</td>\n",
       "      <td>0</td>\n",
       "      <td>140000.00</td>\n",
       "      <td>1.4</td>\n",
       "      <td>140</td>\n",
       "      <td>1</td>\n",
       "      <td>1</td>\n",
       "      <td>280</td>\n",
       "      <td>0</td>\n",
       "    </tr>\n",
       "    <tr>\n",
       "      <th>298</th>\n",
       "      <td>50.0</td>\n",
       "      <td>0</td>\n",
       "      <td>196</td>\n",
       "      <td>0</td>\n",
       "      <td>45</td>\n",
       "      <td>0</td>\n",
       "      <td>395000.00</td>\n",
       "      <td>1.6</td>\n",
       "      <td>136</td>\n",
       "      <td>1</td>\n",
       "      <td>1</td>\n",
       "      <td>285</td>\n",
       "      <td>0</td>\n",
       "    </tr>\n",
       "  </tbody>\n",
       "</table>\n",
       "<p>299 rows × 13 columns</p>\n",
       "</div>"
      ],
      "text/plain": [
       "      age  anaemia  creatinine_phosphokinase  diabetes  ejection_fraction  \\\n",
       "0    75.0        0                       582         0                 20   \n",
       "1    55.0        0                      7861         0                 38   \n",
       "2    65.0        0                       146         0                 20   \n",
       "3    50.0        1                       111         0                 20   \n",
       "4    65.0        1                       160         1                 20   \n",
       "..    ...      ...                       ...       ...                ...   \n",
       "294  62.0        0                        61         1                 38   \n",
       "295  55.0        0                      1820         0                 38   \n",
       "296  45.0        0                      2060         1                 60   \n",
       "297  45.0        0                      2413         0                 38   \n",
       "298  50.0        0                       196         0                 45   \n",
       "\n",
       "     high_blood_pressure  platelets  serum_creatinine  serum_sodium  sex  \\\n",
       "0                      1  265000.00               1.9           130    1   \n",
       "1                      0  263358.03               1.1           136    1   \n",
       "2                      0  162000.00               1.3           129    1   \n",
       "3                      0  210000.00               1.9           137    1   \n",
       "4                      0  327000.00               2.7           116    0   \n",
       "..                   ...        ...               ...           ...  ...   \n",
       "294                    1  155000.00               1.1           143    1   \n",
       "295                    0  270000.00               1.2           139    0   \n",
       "296                    0  742000.00               0.8           138    0   \n",
       "297                    0  140000.00               1.4           140    1   \n",
       "298                    0  395000.00               1.6           136    1   \n",
       "\n",
       "     smoking  time  DEATH_EVENT  \n",
       "0          0     4            1  \n",
       "1          0     6            1  \n",
       "2          1     7            1  \n",
       "3          0     7            1  \n",
       "4          0     8            1  \n",
       "..       ...   ...          ...  \n",
       "294        1   270            0  \n",
       "295        0   271            0  \n",
       "296        0   278            0  \n",
       "297        1   280            0  \n",
       "298        1   285            0  \n",
       "\n",
       "[299 rows x 13 columns]"
      ]
     },
     "execution_count": 210,
     "metadata": {},
     "output_type": "execute_result"
    }
   ],
   "source": [
    "dataset = pd.read_csv('.//datasets//heart_failure_clinical_records_dataset.csv')\n",
    "target_column = 'DEATH_EVENT'\n",
    "dataset"
   ]
  },
  {
   "cell_type": "code",
   "execution_count": 211,
   "id": "d1ef73f4",
   "metadata": {},
   "outputs": [
    {
     "data": {
      "text/html": [
       "<div>\n",
       "<style scoped>\n",
       "    .dataframe tbody tr th:only-of-type {\n",
       "        vertical-align: middle;\n",
       "    }\n",
       "\n",
       "    .dataframe tbody tr th {\n",
       "        vertical-align: top;\n",
       "    }\n",
       "\n",
       "    .dataframe thead th {\n",
       "        text-align: right;\n",
       "    }\n",
       "</style>\n",
       "<table border=\"1\" class=\"dataframe\">\n",
       "  <thead>\n",
       "    <tr style=\"text-align: right;\">\n",
       "      <th></th>\n",
       "      <th>age</th>\n",
       "      <th>anaemia</th>\n",
       "      <th>creatinine_phosphokinase</th>\n",
       "      <th>diabetes</th>\n",
       "      <th>ejection_fraction</th>\n",
       "      <th>high_blood_pressure</th>\n",
       "      <th>platelets</th>\n",
       "      <th>serum_creatinine</th>\n",
       "      <th>serum_sodium</th>\n",
       "      <th>sex</th>\n",
       "      <th>smoking</th>\n",
       "      <th>time</th>\n",
       "      <th>DEATH_EVENT</th>\n",
       "    </tr>\n",
       "  </thead>\n",
       "  <tbody>\n",
       "    <tr>\n",
       "      <th>0</th>\n",
       "      <td>75.0</td>\n",
       "      <td>0</td>\n",
       "      <td>582</td>\n",
       "      <td>0</td>\n",
       "      <td>20</td>\n",
       "      <td>1</td>\n",
       "      <td>265000.00</td>\n",
       "      <td>1.9</td>\n",
       "      <td>130</td>\n",
       "      <td>1</td>\n",
       "      <td>0</td>\n",
       "      <td>4</td>\n",
       "      <td>1</td>\n",
       "    </tr>\n",
       "    <tr>\n",
       "      <th>1</th>\n",
       "      <td>55.0</td>\n",
       "      <td>0</td>\n",
       "      <td>7861</td>\n",
       "      <td>0</td>\n",
       "      <td>38</td>\n",
       "      <td>0</td>\n",
       "      <td>263358.03</td>\n",
       "      <td>1.1</td>\n",
       "      <td>136</td>\n",
       "      <td>1</td>\n",
       "      <td>0</td>\n",
       "      <td>6</td>\n",
       "      <td>1</td>\n",
       "    </tr>\n",
       "    <tr>\n",
       "      <th>2</th>\n",
       "      <td>65.0</td>\n",
       "      <td>0</td>\n",
       "      <td>146</td>\n",
       "      <td>0</td>\n",
       "      <td>20</td>\n",
       "      <td>0</td>\n",
       "      <td>162000.00</td>\n",
       "      <td>1.3</td>\n",
       "      <td>129</td>\n",
       "      <td>1</td>\n",
       "      <td>1</td>\n",
       "      <td>7</td>\n",
       "      <td>1</td>\n",
       "    </tr>\n",
       "    <tr>\n",
       "      <th>3</th>\n",
       "      <td>50.0</td>\n",
       "      <td>1</td>\n",
       "      <td>111</td>\n",
       "      <td>0</td>\n",
       "      <td>20</td>\n",
       "      <td>0</td>\n",
       "      <td>210000.00</td>\n",
       "      <td>1.9</td>\n",
       "      <td>137</td>\n",
       "      <td>1</td>\n",
       "      <td>0</td>\n",
       "      <td>7</td>\n",
       "      <td>1</td>\n",
       "    </tr>\n",
       "    <tr>\n",
       "      <th>4</th>\n",
       "      <td>65.0</td>\n",
       "      <td>1</td>\n",
       "      <td>160</td>\n",
       "      <td>1</td>\n",
       "      <td>20</td>\n",
       "      <td>0</td>\n",
       "      <td>327000.00</td>\n",
       "      <td>2.7</td>\n",
       "      <td>116</td>\n",
       "      <td>0</td>\n",
       "      <td>0</td>\n",
       "      <td>8</td>\n",
       "      <td>1</td>\n",
       "    </tr>\n",
       "    <tr>\n",
       "      <th>...</th>\n",
       "      <td>...</td>\n",
       "      <td>...</td>\n",
       "      <td>...</td>\n",
       "      <td>...</td>\n",
       "      <td>...</td>\n",
       "      <td>...</td>\n",
       "      <td>...</td>\n",
       "      <td>...</td>\n",
       "      <td>...</td>\n",
       "      <td>...</td>\n",
       "      <td>...</td>\n",
       "      <td>...</td>\n",
       "      <td>...</td>\n",
       "    </tr>\n",
       "    <tr>\n",
       "      <th>294</th>\n",
       "      <td>62.0</td>\n",
       "      <td>0</td>\n",
       "      <td>61</td>\n",
       "      <td>1</td>\n",
       "      <td>38</td>\n",
       "      <td>1</td>\n",
       "      <td>155000.00</td>\n",
       "      <td>1.1</td>\n",
       "      <td>143</td>\n",
       "      <td>1</td>\n",
       "      <td>1</td>\n",
       "      <td>270</td>\n",
       "      <td>0</td>\n",
       "    </tr>\n",
       "    <tr>\n",
       "      <th>295</th>\n",
       "      <td>55.0</td>\n",
       "      <td>0</td>\n",
       "      <td>1820</td>\n",
       "      <td>0</td>\n",
       "      <td>38</td>\n",
       "      <td>0</td>\n",
       "      <td>270000.00</td>\n",
       "      <td>1.2</td>\n",
       "      <td>139</td>\n",
       "      <td>0</td>\n",
       "      <td>0</td>\n",
       "      <td>271</td>\n",
       "      <td>0</td>\n",
       "    </tr>\n",
       "    <tr>\n",
       "      <th>296</th>\n",
       "      <td>45.0</td>\n",
       "      <td>0</td>\n",
       "      <td>2060</td>\n",
       "      <td>1</td>\n",
       "      <td>60</td>\n",
       "      <td>0</td>\n",
       "      <td>742000.00</td>\n",
       "      <td>0.8</td>\n",
       "      <td>138</td>\n",
       "      <td>0</td>\n",
       "      <td>0</td>\n",
       "      <td>278</td>\n",
       "      <td>0</td>\n",
       "    </tr>\n",
       "    <tr>\n",
       "      <th>297</th>\n",
       "      <td>45.0</td>\n",
       "      <td>0</td>\n",
       "      <td>2413</td>\n",
       "      <td>0</td>\n",
       "      <td>38</td>\n",
       "      <td>0</td>\n",
       "      <td>140000.00</td>\n",
       "      <td>1.4</td>\n",
       "      <td>140</td>\n",
       "      <td>1</td>\n",
       "      <td>1</td>\n",
       "      <td>280</td>\n",
       "      <td>0</td>\n",
       "    </tr>\n",
       "    <tr>\n",
       "      <th>298</th>\n",
       "      <td>50.0</td>\n",
       "      <td>0</td>\n",
       "      <td>196</td>\n",
       "      <td>0</td>\n",
       "      <td>45</td>\n",
       "      <td>0</td>\n",
       "      <td>395000.00</td>\n",
       "      <td>1.6</td>\n",
       "      <td>136</td>\n",
       "      <td>1</td>\n",
       "      <td>1</td>\n",
       "      <td>285</td>\n",
       "      <td>0</td>\n",
       "    </tr>\n",
       "  </tbody>\n",
       "</table>\n",
       "<p>299 rows × 13 columns</p>\n",
       "</div>"
      ],
      "text/plain": [
       "      age  anaemia  creatinine_phosphokinase  diabetes  ejection_fraction  \\\n",
       "0    75.0        0                       582         0                 20   \n",
       "1    55.0        0                      7861         0                 38   \n",
       "2    65.0        0                       146         0                 20   \n",
       "3    50.0        1                       111         0                 20   \n",
       "4    65.0        1                       160         1                 20   \n",
       "..    ...      ...                       ...       ...                ...   \n",
       "294  62.0        0                        61         1                 38   \n",
       "295  55.0        0                      1820         0                 38   \n",
       "296  45.0        0                      2060         1                 60   \n",
       "297  45.0        0                      2413         0                 38   \n",
       "298  50.0        0                       196         0                 45   \n",
       "\n",
       "     high_blood_pressure  platelets  serum_creatinine  serum_sodium  sex  \\\n",
       "0                      1  265000.00               1.9           130    1   \n",
       "1                      0  263358.03               1.1           136    1   \n",
       "2                      0  162000.00               1.3           129    1   \n",
       "3                      0  210000.00               1.9           137    1   \n",
       "4                      0  327000.00               2.7           116    0   \n",
       "..                   ...        ...               ...           ...  ...   \n",
       "294                    1  155000.00               1.1           143    1   \n",
       "295                    0  270000.00               1.2           139    0   \n",
       "296                    0  742000.00               0.8           138    0   \n",
       "297                    0  140000.00               1.4           140    1   \n",
       "298                    0  395000.00               1.6           136    1   \n",
       "\n",
       "     smoking  time  DEATH_EVENT  \n",
       "0          0     4            1  \n",
       "1          0     6            1  \n",
       "2          1     7            1  \n",
       "3          0     7            1  \n",
       "4          0     8            1  \n",
       "..       ...   ...          ...  \n",
       "294        1   270            0  \n",
       "295        0   271            0  \n",
       "296        0   278            0  \n",
       "297        1   280            0  \n",
       "298        1   285            0  \n",
       "\n",
       "[299 rows x 13 columns]"
      ]
     },
     "execution_count": 211,
     "metadata": {},
     "output_type": "execute_result"
    }
   ],
   "source": [
    "if \"Unnamed: 0\" in dataset.columns:\n",
    "    dataset.drop(\"Unnamed: 0\",axis=1,inplace=True)\n",
    "dataset"
   ]
  },
  {
   "cell_type": "markdown",
   "id": "ad6a1c44",
   "metadata": {},
   "source": [
    "## Preprocessing"
   ]
  },
  {
   "cell_type": "markdown",
   "id": "2c4e2ec0",
   "metadata": {},
   "source": [
    "### Remove Date Columns"
   ]
  },
  {
   "cell_type": "code",
   "execution_count": 212,
   "id": "3bbc3c55",
   "metadata": {},
   "outputs": [],
   "source": [
    "if \"date\" in dataset.columns:\n",
    "    dataset.drop(\"date\",inplace=True,axis=1)\n",
    "    print(\"date Deleted\")\n",
    "if \"Date\" in dataset.columns:\n",
    "    dataset.drop(\"Date\",inplace=True,axis=1)\n",
    "    print(\"Date Deleted\")"
   ]
  },
  {
   "cell_type": "markdown",
   "id": "8d7dfa90",
   "metadata": {},
   "source": [
    "### Remove Dollar signs"
   ]
  },
  {
   "cell_type": "code",
   "execution_count": 213,
   "id": "e0d7c5c1",
   "metadata": {},
   "outputs": [
    {
     "data": {
      "text/plain": [
       "[]"
      ]
     },
     "execution_count": 213,
     "metadata": {},
     "output_type": "execute_result"
    }
   ],
   "source": [
    "dollar = '$'\n",
    "prices_list = []\n",
    "if(len(dataset) > 100):\n",
    "    for column in dataset.columns:\n",
    "        X = dataset[column][:50].values\n",
    "        for val in X:\n",
    "            if( \"$\" in str(val)):\n",
    "                prices_list.append(column)\n",
    "                break;\n",
    "            break;\n",
    "            \n",
    "prices_list"
   ]
  },
  {
   "cell_type": "code",
   "execution_count": 214,
   "id": "46327082",
   "metadata": {},
   "outputs": [
    {
     "data": {
      "text/plain": [
       "[]"
      ]
     },
     "execution_count": 214,
     "metadata": {},
     "output_type": "execute_result"
    }
   ],
   "source": [
    "new_2darray = []\n",
    "if(prices_list):\n",
    "    cost_values = dataset[prices_list].values\n",
    "    for array in cost_values:\n",
    "        new_array = []\n",
    "        for val in array:\n",
    "            new_val = (re.sub(\"[^0-9]\", \"\", val))\n",
    "            if new_val:\n",
    "                new_val = float(new_val)\n",
    "            else:\n",
    "                new_val = np.NaN\n",
    "            new_array.append(new_val)\n",
    "        new_2darray.append(new_array)\n",
    "new_2darray"
   ]
  },
  {
   "cell_type": "code",
   "execution_count": 215,
   "id": "ca62bee6",
   "metadata": {},
   "outputs": [],
   "source": [
    "if(prices_list):\n",
    "    prices_data = pd.DataFrame(new_2darray,columns= prices_list)"
   ]
  },
  {
   "cell_type": "code",
   "execution_count": 216,
   "id": "a7fede30",
   "metadata": {},
   "outputs": [],
   "source": [
    "if(prices_list):\n",
    "    dataset.drop(prices_list,inplace=True,axis=1)"
   ]
  },
  {
   "cell_type": "code",
   "execution_count": 217,
   "id": "a524ac02",
   "metadata": {},
   "outputs": [],
   "source": [
    "if(prices_list):\n",
    "    dataset[prices_list] = prices_data"
   ]
  },
  {
   "cell_type": "markdown",
   "id": "169bc3d5",
   "metadata": {},
   "source": [
    "### Define Index / ID Columns and Target Columns"
   ]
  },
  {
   "cell_type": "code",
   "execution_count": 218,
   "id": "f2f07442",
   "metadata": {},
   "outputs": [],
   "source": [
    "\n",
    "id1 = \"id\""
   ]
  },
  {
   "cell_type": "markdown",
   "id": "09100c0e",
   "metadata": {},
   "source": [
    "### Categorize into numerical and categorical"
   ]
  },
  {
   "cell_type": "code",
   "execution_count": 219,
   "id": "b6e3701e",
   "metadata": {},
   "outputs": [
    {
     "name": "stdout",
     "output_type": "stream",
     "text": [
      "<class 'pandas.core.frame.DataFrame'>\n",
      "RangeIndex: 299 entries, 0 to 298\n",
      "Data columns (total 13 columns):\n",
      " #   Column                    Non-Null Count  Dtype  \n",
      "---  ------                    --------------  -----  \n",
      " 0   age                       299 non-null    float64\n",
      " 1   anaemia                   299 non-null    int64  \n",
      " 2   creatinine_phosphokinase  299 non-null    int64  \n",
      " 3   diabetes                  299 non-null    int64  \n",
      " 4   ejection_fraction         299 non-null    int64  \n",
      " 5   high_blood_pressure       299 non-null    int64  \n",
      " 6   platelets                 299 non-null    float64\n",
      " 7   serum_creatinine          299 non-null    float64\n",
      " 8   serum_sodium              299 non-null    int64  \n",
      " 9   sex                       299 non-null    int64  \n",
      " 10  smoking                   299 non-null    int64  \n",
      " 11  time                      299 non-null    int64  \n",
      " 12  DEATH_EVENT               299 non-null    int64  \n",
      "dtypes: float64(3), int64(10)\n",
      "memory usage: 30.5 KB\n"
     ]
    }
   ],
   "source": [
    "dataset.info()"
   ]
  },
  {
   "cell_type": "code",
   "execution_count": 220,
   "id": "3e097af3",
   "metadata": {},
   "outputs": [
    {
     "data": {
      "text/plain": [
       "age                         float64\n",
       "anaemia                       int64\n",
       "creatinine_phosphokinase      int64\n",
       "diabetes                      int64\n",
       "ejection_fraction             int64\n",
       "high_blood_pressure           int64\n",
       "platelets                   float64\n",
       "serum_creatinine            float64\n",
       "serum_sodium                  int64\n",
       "sex                           int64\n",
       "smoking                       int64\n",
       "time                          int64\n",
       "DEATH_EVENT                   int64\n",
       "dtype: object"
      ]
     },
     "execution_count": 220,
     "metadata": {},
     "output_type": "execute_result"
    }
   ],
   "source": [
    "datatypes = dataset.dtypes\n",
    "datatypes"
   ]
  },
  {
   "cell_type": "code",
   "execution_count": 221,
   "id": "c97e04a1",
   "metadata": {},
   "outputs": [
    {
     "data": {
      "text/plain": [
       "['age',\n",
       " 'anaemia',\n",
       " 'creatinine_phosphokinase',\n",
       " 'diabetes',\n",
       " 'ejection_fraction',\n",
       " 'high_blood_pressure',\n",
       " 'platelets',\n",
       " 'serum_creatinine',\n",
       " 'serum_sodium',\n",
       " 'sex',\n",
       " 'smoking',\n",
       " 'time']"
      ]
     },
     "execution_count": 221,
     "metadata": {},
     "output_type": "execute_result"
    }
   ],
   "source": [
    "cat_cols = []\n",
    "num_cols = []\n",
    "\n",
    "columns = dataset.columns\n",
    "if id1 in dataset.columns:\n",
    "    dataset.drop(id1,inplace=True,axis=1)\n",
    "\n",
    "for i in range(len(datatypes)):\n",
    "    if datatypes.index[i] != target_column:\n",
    "        if datatypes[i]=='object':\n",
    "            unqval = dataset[datatypes.index[i]].nunique()\n",
    "            if (unqval < 30):\n",
    "                cat_cols.append(datatypes.index[i])\n",
    "            else:\n",
    "                del dataset[datatypes.index[i]]\n",
    "                print('Deleted: ',datatypes.index[i])\n",
    "        else:\n",
    "            num_cols.append(datatypes.index[i])\n",
    "num_cols"
   ]
  },
  {
   "cell_type": "code",
   "execution_count": 222,
   "id": "90f863f4",
   "metadata": {},
   "outputs": [
    {
     "data": {
      "text/plain": [
       "[]"
      ]
     },
     "execution_count": 222,
     "metadata": {},
     "output_type": "execute_result"
    }
   ],
   "source": [
    "cat_cols"
   ]
  },
  {
   "cell_type": "code",
   "execution_count": 223,
   "id": "0b38aab5",
   "metadata": {},
   "outputs": [],
   "source": [
    "cat_data = []\n",
    "num_data = []\n",
    "if(len(cat_cols)>0):\n",
    "    cat_data = dataset[cat_cols]\n",
    "if(len(num_cols)>0):\n",
    "    num_data = dataset[num_cols]\n",
    "y_data = dataset[target_column]"
   ]
  },
  {
   "cell_type": "code",
   "execution_count": 224,
   "id": "3853e8f2",
   "metadata": {},
   "outputs": [
    {
     "data": {
      "text/plain": [
       "(      age  anaemia  creatinine_phosphokinase  diabetes  ejection_fraction  \\\n",
       " 0    75.0        0                       582         0                 20   \n",
       " 1    55.0        0                      7861         0                 38   \n",
       " 2    65.0        0                       146         0                 20   \n",
       " 3    50.0        1                       111         0                 20   \n",
       " 4    65.0        1                       160         1                 20   \n",
       " ..    ...      ...                       ...       ...                ...   \n",
       " 294  62.0        0                        61         1                 38   \n",
       " 295  55.0        0                      1820         0                 38   \n",
       " 296  45.0        0                      2060         1                 60   \n",
       " 297  45.0        0                      2413         0                 38   \n",
       " 298  50.0        0                       196         0                 45   \n",
       " \n",
       "      high_blood_pressure  platelets  serum_creatinine  serum_sodium  sex  \\\n",
       " 0                      1  265000.00               1.9           130    1   \n",
       " 1                      0  263358.03               1.1           136    1   \n",
       " 2                      0  162000.00               1.3           129    1   \n",
       " 3                      0  210000.00               1.9           137    1   \n",
       " 4                      0  327000.00               2.7           116    0   \n",
       " ..                   ...        ...               ...           ...  ...   \n",
       " 294                    1  155000.00               1.1           143    1   \n",
       " 295                    0  270000.00               1.2           139    0   \n",
       " 296                    0  742000.00               0.8           138    0   \n",
       " 297                    0  140000.00               1.4           140    1   \n",
       " 298                    0  395000.00               1.6           136    1   \n",
       " \n",
       "      smoking  time  \n",
       " 0          0     4  \n",
       " 1          0     6  \n",
       " 2          1     7  \n",
       " 3          0     7  \n",
       " 4          0     8  \n",
       " ..       ...   ...  \n",
       " 294        1   270  \n",
       " 295        0   271  \n",
       " 296        0   278  \n",
       " 297        1   280  \n",
       " 298        1   285  \n",
       " \n",
       " [299 rows x 12 columns],\n",
       " [])"
      ]
     },
     "execution_count": 224,
     "metadata": {},
     "output_type": "execute_result"
    }
   ],
   "source": [
    "num_data,cat_data"
   ]
  },
  {
   "cell_type": "markdown",
   "id": "6c9be709",
   "metadata": {},
   "source": [
    "### Outlier Detection "
   ]
  },
  {
   "cell_type": "code",
   "execution_count": 225,
   "id": "8b05b629",
   "metadata": {},
   "outputs": [
    {
     "name": "stdout",
     "output_type": "stream",
     "text": [
      "\n",
      " Outliers for Column :  age  Outliers count  0\n",
      "[]\n",
      "\n",
      " Outliers for Column :  anaemia  Outliers count  0\n",
      "[]\n",
      "\n",
      " Outliers for Column :  creatinine_phosphokinase  Outliers count  29\n",
      "[7861, 2656, 1380, 3964, 7702, 5882, 5209, 1876, 1808, 4540, 1548, 1610, 2261, 1846, 2334, 2442, 3966, 1419, 1896, 1767, 2281, 2794, 2017, 2522, 2695, 1688, 1820, 2060, 2413]\n",
      "\n",
      " Outliers for Column :  diabetes  Outliers count  0\n",
      "[]\n",
      "\n",
      " Outliers for Column :  ejection_fraction  Outliers count  2\n",
      "[80, 70]\n",
      "\n",
      " Outliers for Column :  high_blood_pressure  Outliers count  0\n",
      "[]\n",
      "\n",
      " Outliers for Column :  platelets  Outliers count  21\n",
      "[454000.0, 47000.0, 451000.0, 461000.0, 497000.0, 621000.0, 850000.0, 507000.0, 448000.0, 75000.0, 70000.0, 73000.0, 481000.0, 504000.0, 62000.0, 533000.0, 25100.0, 451000.0, 51000.0, 543000.0, 742000.0]\n",
      "\n",
      " Outliers for Column :  serum_creatinine  Outliers count  29\n",
      "[2.7, 9.4, 4.0, 5.8, 3.0, 3.5, 2.3, 3.0, 4.4, 6.8, 2.2, 2.7, 2.3, 2.9, 2.5, 2.3, 3.2, 3.7, 3.4, 6.1, 2.5, 2.4, 2.5, 3.5, 9.0, 5.0, 2.4, 2.7, 3.8]\n",
      "\n",
      " Outliers for Column :  serum_sodium  Outliers count  4\n",
      "[116, 121, 124, 113]\n",
      "\n",
      " Outliers for Column :  sex  Outliers count  0\n",
      "[]\n",
      "\n",
      " Outliers for Column :  smoking  Outliers count  0\n",
      "[]\n",
      "\n",
      " Outliers for Column :  time  Outliers count  0\n",
      "[]\n"
     ]
    }
   ],
   "source": [
    "def outlier_detect(df):\n",
    "    if (len(num_data)>0):        \n",
    "        for i in df.describe().columns:\n",
    "            Q1=df.describe().at['25%',i]\n",
    "            Q3=df.describe().at['75%',i]\n",
    "            IQR=Q3 - Q1\n",
    "            LB=Q1 - 1.5 * IQR\n",
    "            UB=Q3 + 1.5 * IQR\n",
    "            x=np.array(df[i])\n",
    "            p=[]\n",
    "            for j in x:\n",
    "                if j < LB or j>UB:\n",
    "                   p.append(j)\n",
    "            print('\\n Outliers for Column : ', i, ' Outliers count ', len(p))\n",
    "            print(p)\n",
    "    else:\n",
    "        print(\"Num_data is empty\")\n",
    "\n",
    "        \n",
    "outlier_detect(num_data)"
   ]
  },
  {
   "cell_type": "markdown",
   "id": "a0792bac",
   "metadata": {},
   "source": [
    "### Treat Missing Values"
   ]
  },
  {
   "cell_type": "code",
   "execution_count": 226,
   "id": "5fbed2be",
   "metadata": {},
   "outputs": [
    {
     "data": {
      "text/html": [
       "<div>\n",
       "<style scoped>\n",
       "    .dataframe tbody tr th:only-of-type {\n",
       "        vertical-align: middle;\n",
       "    }\n",
       "\n",
       "    .dataframe tbody tr th {\n",
       "        vertical-align: top;\n",
       "    }\n",
       "\n",
       "    .dataframe thead th {\n",
       "        text-align: right;\n",
       "    }\n",
       "</style>\n",
       "<table border=\"1\" class=\"dataframe\">\n",
       "  <thead>\n",
       "    <tr style=\"text-align: right;\">\n",
       "      <th></th>\n",
       "      <th>age</th>\n",
       "      <th>anaemia</th>\n",
       "      <th>creatinine_phosphokinase</th>\n",
       "      <th>diabetes</th>\n",
       "      <th>ejection_fraction</th>\n",
       "      <th>high_blood_pressure</th>\n",
       "      <th>platelets</th>\n",
       "      <th>serum_creatinine</th>\n",
       "      <th>serum_sodium</th>\n",
       "      <th>sex</th>\n",
       "      <th>smoking</th>\n",
       "      <th>time</th>\n",
       "    </tr>\n",
       "  </thead>\n",
       "  <tbody>\n",
       "    <tr>\n",
       "      <th>0</th>\n",
       "      <td>75.0</td>\n",
       "      <td>0.0</td>\n",
       "      <td>582.0</td>\n",
       "      <td>0.0</td>\n",
       "      <td>20.0</td>\n",
       "      <td>1.0</td>\n",
       "      <td>265000.00</td>\n",
       "      <td>1.9</td>\n",
       "      <td>130.0</td>\n",
       "      <td>1.0</td>\n",
       "      <td>0.0</td>\n",
       "      <td>4.0</td>\n",
       "    </tr>\n",
       "    <tr>\n",
       "      <th>1</th>\n",
       "      <td>55.0</td>\n",
       "      <td>0.0</td>\n",
       "      <td>7861.0</td>\n",
       "      <td>0.0</td>\n",
       "      <td>38.0</td>\n",
       "      <td>0.0</td>\n",
       "      <td>263358.03</td>\n",
       "      <td>1.1</td>\n",
       "      <td>136.0</td>\n",
       "      <td>1.0</td>\n",
       "      <td>0.0</td>\n",
       "      <td>6.0</td>\n",
       "    </tr>\n",
       "    <tr>\n",
       "      <th>2</th>\n",
       "      <td>65.0</td>\n",
       "      <td>0.0</td>\n",
       "      <td>146.0</td>\n",
       "      <td>0.0</td>\n",
       "      <td>20.0</td>\n",
       "      <td>0.0</td>\n",
       "      <td>162000.00</td>\n",
       "      <td>1.3</td>\n",
       "      <td>129.0</td>\n",
       "      <td>1.0</td>\n",
       "      <td>1.0</td>\n",
       "      <td>7.0</td>\n",
       "    </tr>\n",
       "    <tr>\n",
       "      <th>3</th>\n",
       "      <td>50.0</td>\n",
       "      <td>1.0</td>\n",
       "      <td>111.0</td>\n",
       "      <td>0.0</td>\n",
       "      <td>20.0</td>\n",
       "      <td>0.0</td>\n",
       "      <td>210000.00</td>\n",
       "      <td>1.9</td>\n",
       "      <td>137.0</td>\n",
       "      <td>1.0</td>\n",
       "      <td>0.0</td>\n",
       "      <td>7.0</td>\n",
       "    </tr>\n",
       "    <tr>\n",
       "      <th>4</th>\n",
       "      <td>65.0</td>\n",
       "      <td>1.0</td>\n",
       "      <td>160.0</td>\n",
       "      <td>1.0</td>\n",
       "      <td>20.0</td>\n",
       "      <td>0.0</td>\n",
       "      <td>327000.00</td>\n",
       "      <td>2.7</td>\n",
       "      <td>116.0</td>\n",
       "      <td>0.0</td>\n",
       "      <td>0.0</td>\n",
       "      <td>8.0</td>\n",
       "    </tr>\n",
       "    <tr>\n",
       "      <th>...</th>\n",
       "      <td>...</td>\n",
       "      <td>...</td>\n",
       "      <td>...</td>\n",
       "      <td>...</td>\n",
       "      <td>...</td>\n",
       "      <td>...</td>\n",
       "      <td>...</td>\n",
       "      <td>...</td>\n",
       "      <td>...</td>\n",
       "      <td>...</td>\n",
       "      <td>...</td>\n",
       "      <td>...</td>\n",
       "    </tr>\n",
       "    <tr>\n",
       "      <th>294</th>\n",
       "      <td>62.0</td>\n",
       "      <td>0.0</td>\n",
       "      <td>61.0</td>\n",
       "      <td>1.0</td>\n",
       "      <td>38.0</td>\n",
       "      <td>1.0</td>\n",
       "      <td>155000.00</td>\n",
       "      <td>1.1</td>\n",
       "      <td>143.0</td>\n",
       "      <td>1.0</td>\n",
       "      <td>1.0</td>\n",
       "      <td>270.0</td>\n",
       "    </tr>\n",
       "    <tr>\n",
       "      <th>295</th>\n",
       "      <td>55.0</td>\n",
       "      <td>0.0</td>\n",
       "      <td>1820.0</td>\n",
       "      <td>0.0</td>\n",
       "      <td>38.0</td>\n",
       "      <td>0.0</td>\n",
       "      <td>270000.00</td>\n",
       "      <td>1.2</td>\n",
       "      <td>139.0</td>\n",
       "      <td>0.0</td>\n",
       "      <td>0.0</td>\n",
       "      <td>271.0</td>\n",
       "    </tr>\n",
       "    <tr>\n",
       "      <th>296</th>\n",
       "      <td>45.0</td>\n",
       "      <td>0.0</td>\n",
       "      <td>2060.0</td>\n",
       "      <td>1.0</td>\n",
       "      <td>60.0</td>\n",
       "      <td>0.0</td>\n",
       "      <td>742000.00</td>\n",
       "      <td>0.8</td>\n",
       "      <td>138.0</td>\n",
       "      <td>0.0</td>\n",
       "      <td>0.0</td>\n",
       "      <td>278.0</td>\n",
       "    </tr>\n",
       "    <tr>\n",
       "      <th>297</th>\n",
       "      <td>45.0</td>\n",
       "      <td>0.0</td>\n",
       "      <td>2413.0</td>\n",
       "      <td>0.0</td>\n",
       "      <td>38.0</td>\n",
       "      <td>0.0</td>\n",
       "      <td>140000.00</td>\n",
       "      <td>1.4</td>\n",
       "      <td>140.0</td>\n",
       "      <td>1.0</td>\n",
       "      <td>1.0</td>\n",
       "      <td>280.0</td>\n",
       "    </tr>\n",
       "    <tr>\n",
       "      <th>298</th>\n",
       "      <td>50.0</td>\n",
       "      <td>0.0</td>\n",
       "      <td>196.0</td>\n",
       "      <td>0.0</td>\n",
       "      <td>45.0</td>\n",
       "      <td>0.0</td>\n",
       "      <td>395000.00</td>\n",
       "      <td>1.6</td>\n",
       "      <td>136.0</td>\n",
       "      <td>1.0</td>\n",
       "      <td>1.0</td>\n",
       "      <td>285.0</td>\n",
       "    </tr>\n",
       "  </tbody>\n",
       "</table>\n",
       "<p>299 rows × 12 columns</p>\n",
       "</div>"
      ],
      "text/plain": [
       "      age  anaemia  creatinine_phosphokinase  diabetes  ejection_fraction  \\\n",
       "0    75.0      0.0                     582.0       0.0               20.0   \n",
       "1    55.0      0.0                    7861.0       0.0               38.0   \n",
       "2    65.0      0.0                     146.0       0.0               20.0   \n",
       "3    50.0      1.0                     111.0       0.0               20.0   \n",
       "4    65.0      1.0                     160.0       1.0               20.0   \n",
       "..    ...      ...                       ...       ...                ...   \n",
       "294  62.0      0.0                      61.0       1.0               38.0   \n",
       "295  55.0      0.0                    1820.0       0.0               38.0   \n",
       "296  45.0      0.0                    2060.0       1.0               60.0   \n",
       "297  45.0      0.0                    2413.0       0.0               38.0   \n",
       "298  50.0      0.0                     196.0       0.0               45.0   \n",
       "\n",
       "     high_blood_pressure  platelets  serum_creatinine  serum_sodium  sex  \\\n",
       "0                    1.0  265000.00               1.9         130.0  1.0   \n",
       "1                    0.0  263358.03               1.1         136.0  1.0   \n",
       "2                    0.0  162000.00               1.3         129.0  1.0   \n",
       "3                    0.0  210000.00               1.9         137.0  1.0   \n",
       "4                    0.0  327000.00               2.7         116.0  0.0   \n",
       "..                   ...        ...               ...           ...  ...   \n",
       "294                  1.0  155000.00               1.1         143.0  1.0   \n",
       "295                  0.0  270000.00               1.2         139.0  0.0   \n",
       "296                  0.0  742000.00               0.8         138.0  0.0   \n",
       "297                  0.0  140000.00               1.4         140.0  1.0   \n",
       "298                  0.0  395000.00               1.6         136.0  1.0   \n",
       "\n",
       "     smoking   time  \n",
       "0        0.0    4.0  \n",
       "1        0.0    6.0  \n",
       "2        1.0    7.0  \n",
       "3        0.0    7.0  \n",
       "4        0.0    8.0  \n",
       "..       ...    ...  \n",
       "294      1.0  270.0  \n",
       "295      0.0  271.0  \n",
       "296      0.0  278.0  \n",
       "297      1.0  280.0  \n",
       "298      1.0  285.0  \n",
       "\n",
       "[299 rows x 12 columns]"
      ]
     },
     "execution_count": 226,
     "metadata": {},
     "output_type": "execute_result"
    }
   ],
   "source": [
    "if len(num_data):\n",
    "    from sklearn.impute import SimpleImputer\n",
    "    imputer = SimpleImputer(missing_values=np.nan, strategy = 'mean')\n",
    "    imputer.fit(num_data.iloc[:,:].values)\n",
    "    num_data = pd.DataFrame(imputer.transform(num_data.iloc[:,:].values))\n",
    "    num_data.columns = num_cols\n",
    "num_data"
   ]
  },
  {
   "cell_type": "code",
   "execution_count": 227,
   "id": "51dbbd0e",
   "metadata": {},
   "outputs": [
    {
     "name": "stdout",
     "output_type": "stream",
     "text": [
      "2\n"
     ]
    },
    {
     "data": {
      "text/html": [
       "<div>\n",
       "<style scoped>\n",
       "    .dataframe tbody tr th:only-of-type {\n",
       "        vertical-align: middle;\n",
       "    }\n",
       "\n",
       "    .dataframe tbody tr th {\n",
       "        vertical-align: top;\n",
       "    }\n",
       "\n",
       "    .dataframe thead th {\n",
       "        text-align: right;\n",
       "    }\n",
       "</style>\n",
       "<table border=\"1\" class=\"dataframe\">\n",
       "  <thead>\n",
       "    <tr style=\"text-align: right;\">\n",
       "      <th></th>\n",
       "      <th>age</th>\n",
       "      <th>anaemia</th>\n",
       "      <th>creatinine_phosphokinase</th>\n",
       "      <th>diabetes</th>\n",
       "      <th>ejection_fraction</th>\n",
       "      <th>high_blood_pressure</th>\n",
       "      <th>platelets</th>\n",
       "      <th>serum_creatinine</th>\n",
       "      <th>serum_sodium</th>\n",
       "      <th>sex</th>\n",
       "      <th>smoking</th>\n",
       "      <th>time</th>\n",
       "      <th>DEATH_EVENT</th>\n",
       "    </tr>\n",
       "  </thead>\n",
       "  <tbody>\n",
       "    <tr>\n",
       "      <th>0</th>\n",
       "      <td>75.0</td>\n",
       "      <td>0.0</td>\n",
       "      <td>582.0</td>\n",
       "      <td>0.0</td>\n",
       "      <td>20.0</td>\n",
       "      <td>1.0</td>\n",
       "      <td>265000.00</td>\n",
       "      <td>1.9</td>\n",
       "      <td>130.0</td>\n",
       "      <td>1.0</td>\n",
       "      <td>0.0</td>\n",
       "      <td>4.0</td>\n",
       "      <td>1</td>\n",
       "    </tr>\n",
       "    <tr>\n",
       "      <th>1</th>\n",
       "      <td>55.0</td>\n",
       "      <td>0.0</td>\n",
       "      <td>7861.0</td>\n",
       "      <td>0.0</td>\n",
       "      <td>38.0</td>\n",
       "      <td>0.0</td>\n",
       "      <td>263358.03</td>\n",
       "      <td>1.1</td>\n",
       "      <td>136.0</td>\n",
       "      <td>1.0</td>\n",
       "      <td>0.0</td>\n",
       "      <td>6.0</td>\n",
       "      <td>1</td>\n",
       "    </tr>\n",
       "    <tr>\n",
       "      <th>2</th>\n",
       "      <td>65.0</td>\n",
       "      <td>0.0</td>\n",
       "      <td>146.0</td>\n",
       "      <td>0.0</td>\n",
       "      <td>20.0</td>\n",
       "      <td>0.0</td>\n",
       "      <td>162000.00</td>\n",
       "      <td>1.3</td>\n",
       "      <td>129.0</td>\n",
       "      <td>1.0</td>\n",
       "      <td>1.0</td>\n",
       "      <td>7.0</td>\n",
       "      <td>1</td>\n",
       "    </tr>\n",
       "    <tr>\n",
       "      <th>3</th>\n",
       "      <td>50.0</td>\n",
       "      <td>1.0</td>\n",
       "      <td>111.0</td>\n",
       "      <td>0.0</td>\n",
       "      <td>20.0</td>\n",
       "      <td>0.0</td>\n",
       "      <td>210000.00</td>\n",
       "      <td>1.9</td>\n",
       "      <td>137.0</td>\n",
       "      <td>1.0</td>\n",
       "      <td>0.0</td>\n",
       "      <td>7.0</td>\n",
       "      <td>1</td>\n",
       "    </tr>\n",
       "    <tr>\n",
       "      <th>4</th>\n",
       "      <td>65.0</td>\n",
       "      <td>1.0</td>\n",
       "      <td>160.0</td>\n",
       "      <td>1.0</td>\n",
       "      <td>20.0</td>\n",
       "      <td>0.0</td>\n",
       "      <td>327000.00</td>\n",
       "      <td>2.7</td>\n",
       "      <td>116.0</td>\n",
       "      <td>0.0</td>\n",
       "      <td>0.0</td>\n",
       "      <td>8.0</td>\n",
       "      <td>1</td>\n",
       "    </tr>\n",
       "    <tr>\n",
       "      <th>...</th>\n",
       "      <td>...</td>\n",
       "      <td>...</td>\n",
       "      <td>...</td>\n",
       "      <td>...</td>\n",
       "      <td>...</td>\n",
       "      <td>...</td>\n",
       "      <td>...</td>\n",
       "      <td>...</td>\n",
       "      <td>...</td>\n",
       "      <td>...</td>\n",
       "      <td>...</td>\n",
       "      <td>...</td>\n",
       "      <td>...</td>\n",
       "    </tr>\n",
       "    <tr>\n",
       "      <th>294</th>\n",
       "      <td>62.0</td>\n",
       "      <td>0.0</td>\n",
       "      <td>61.0</td>\n",
       "      <td>1.0</td>\n",
       "      <td>38.0</td>\n",
       "      <td>1.0</td>\n",
       "      <td>155000.00</td>\n",
       "      <td>1.1</td>\n",
       "      <td>143.0</td>\n",
       "      <td>1.0</td>\n",
       "      <td>1.0</td>\n",
       "      <td>270.0</td>\n",
       "      <td>0</td>\n",
       "    </tr>\n",
       "    <tr>\n",
       "      <th>295</th>\n",
       "      <td>55.0</td>\n",
       "      <td>0.0</td>\n",
       "      <td>1820.0</td>\n",
       "      <td>0.0</td>\n",
       "      <td>38.0</td>\n",
       "      <td>0.0</td>\n",
       "      <td>270000.00</td>\n",
       "      <td>1.2</td>\n",
       "      <td>139.0</td>\n",
       "      <td>0.0</td>\n",
       "      <td>0.0</td>\n",
       "      <td>271.0</td>\n",
       "      <td>0</td>\n",
       "    </tr>\n",
       "    <tr>\n",
       "      <th>296</th>\n",
       "      <td>45.0</td>\n",
       "      <td>0.0</td>\n",
       "      <td>2060.0</td>\n",
       "      <td>1.0</td>\n",
       "      <td>60.0</td>\n",
       "      <td>0.0</td>\n",
       "      <td>742000.00</td>\n",
       "      <td>0.8</td>\n",
       "      <td>138.0</td>\n",
       "      <td>0.0</td>\n",
       "      <td>0.0</td>\n",
       "      <td>278.0</td>\n",
       "      <td>0</td>\n",
       "    </tr>\n",
       "    <tr>\n",
       "      <th>297</th>\n",
       "      <td>45.0</td>\n",
       "      <td>0.0</td>\n",
       "      <td>2413.0</td>\n",
       "      <td>0.0</td>\n",
       "      <td>38.0</td>\n",
       "      <td>0.0</td>\n",
       "      <td>140000.00</td>\n",
       "      <td>1.4</td>\n",
       "      <td>140.0</td>\n",
       "      <td>1.0</td>\n",
       "      <td>1.0</td>\n",
       "      <td>280.0</td>\n",
       "      <td>0</td>\n",
       "    </tr>\n",
       "    <tr>\n",
       "      <th>298</th>\n",
       "      <td>50.0</td>\n",
       "      <td>0.0</td>\n",
       "      <td>196.0</td>\n",
       "      <td>0.0</td>\n",
       "      <td>45.0</td>\n",
       "      <td>0.0</td>\n",
       "      <td>395000.00</td>\n",
       "      <td>1.6</td>\n",
       "      <td>136.0</td>\n",
       "      <td>1.0</td>\n",
       "      <td>1.0</td>\n",
       "      <td>285.0</td>\n",
       "      <td>0</td>\n",
       "    </tr>\n",
       "  </tbody>\n",
       "</table>\n",
       "<p>299 rows × 13 columns</p>\n",
       "</div>"
      ],
      "text/plain": [
       "      age  anaemia  creatinine_phosphokinase  diabetes  ejection_fraction  \\\n",
       "0    75.0      0.0                     582.0       0.0               20.0   \n",
       "1    55.0      0.0                    7861.0       0.0               38.0   \n",
       "2    65.0      0.0                     146.0       0.0               20.0   \n",
       "3    50.0      1.0                     111.0       0.0               20.0   \n",
       "4    65.0      1.0                     160.0       1.0               20.0   \n",
       "..    ...      ...                       ...       ...                ...   \n",
       "294  62.0      0.0                      61.0       1.0               38.0   \n",
       "295  55.0      0.0                    1820.0       0.0               38.0   \n",
       "296  45.0      0.0                    2060.0       1.0               60.0   \n",
       "297  45.0      0.0                    2413.0       0.0               38.0   \n",
       "298  50.0      0.0                     196.0       0.0               45.0   \n",
       "\n",
       "     high_blood_pressure  platelets  serum_creatinine  serum_sodium  sex  \\\n",
       "0                    1.0  265000.00               1.9         130.0  1.0   \n",
       "1                    0.0  263358.03               1.1         136.0  1.0   \n",
       "2                    0.0  162000.00               1.3         129.0  1.0   \n",
       "3                    0.0  210000.00               1.9         137.0  1.0   \n",
       "4                    0.0  327000.00               2.7         116.0  0.0   \n",
       "..                   ...        ...               ...           ...  ...   \n",
       "294                  1.0  155000.00               1.1         143.0  1.0   \n",
       "295                  0.0  270000.00               1.2         139.0  0.0   \n",
       "296                  0.0  742000.00               0.8         138.0  0.0   \n",
       "297                  0.0  140000.00               1.4         140.0  1.0   \n",
       "298                  0.0  395000.00               1.6         136.0  1.0   \n",
       "\n",
       "     smoking   time  DEATH_EVENT  \n",
       "0        0.0    4.0            1  \n",
       "1        0.0    6.0            1  \n",
       "2        1.0    7.0            1  \n",
       "3        0.0    7.0            1  \n",
       "4        0.0    8.0            1  \n",
       "..       ...    ...          ...  \n",
       "294      1.0  270.0            0  \n",
       "295      0.0  271.0            0  \n",
       "296      0.0  278.0            0  \n",
       "297      1.0  280.0            0  \n",
       "298      1.0  285.0            0  \n",
       "\n",
       "[299 rows x 13 columns]"
      ]
     },
     "execution_count": 227,
     "metadata": {},
     "output_type": "execute_result"
    }
   ],
   "source": [
    "if(len(cat_data)>0 and len(num_data)>0):\n",
    "    print(\"1\")\n",
    "    df = pd.concat([num_data,cat_data,y_data],axis=1)\n",
    "    df = df.dropna().reset_index(drop=True)\n",
    "    df.isnull().sum()\n",
    "elif(len(num_data) > 0):\n",
    "    print(\"2\")\n",
    "    df = pd.concat([num_data,y_data],axis=1)\n",
    "    df = df.dropna().reset_index(drop=True)\n",
    "else:\n",
    "    print(\"3\")\n",
    "    df = pd.concat([cat_data,y_data],axis=1)\n",
    "    df = df.dropna().reset_index(drop=True)\n",
    "(df)"
   ]
  },
  {
   "cell_type": "code",
   "execution_count": 228,
   "id": "12a57fe1",
   "metadata": {},
   "outputs": [
    {
     "data": {
      "text/plain": [
       "299"
      ]
     },
     "execution_count": 228,
     "metadata": {},
     "output_type": "execute_result"
    }
   ],
   "source": [
    "cat_data = df[cat_cols]\n",
    "num_data = df[num_cols]\n",
    "y_data = df[target_column]\n",
    "df.drop(target_column,inplace=True,axis=1)\n",
    "len(y_data)"
   ]
  },
  {
   "cell_type": "markdown",
   "id": "9169566a",
   "metadata": {},
   "source": [
    "### One-hot encoding the categorical data"
   ]
  },
  {
   "cell_type": "code",
   "execution_count": 229,
   "id": "b1305257",
   "metadata": {},
   "outputs": [],
   "source": [
    "#if len(cat_cols):\n",
    "from sklearn.preprocessing import OneHotEncoder\n",
    "\n",
    "# Apply one-hot encoder to each column with categorical data\n",
    "OH_encoder = OneHotEncoder(handle_unknown='ignore', sparse=False)\n",
    "X_encoded = pd.DataFrame(OH_encoder.fit_transform(df[cat_cols]))\n",
    "\n",
    "# One-hot encoding removed index; put it back\n",
    "X_encoded.index = df.index\n",
    "\n",
    "# Remove categorical columns (will replace with one-hot encoding)\n",
    "num_X = df.drop(cat_cols, axis=1)\n",
    "\n",
    "# Add one-hot encoded columns to numerical features\n",
    "OH_X = pd.concat([num_X, X_encoded], axis=1)"
   ]
  },
  {
   "cell_type": "code",
   "execution_count": 230,
   "id": "70daf9cf",
   "metadata": {},
   "outputs": [
    {
     "data": {
      "text/html": [
       "<div>\n",
       "<style scoped>\n",
       "    .dataframe tbody tr th:only-of-type {\n",
       "        vertical-align: middle;\n",
       "    }\n",
       "\n",
       "    .dataframe tbody tr th {\n",
       "        vertical-align: top;\n",
       "    }\n",
       "\n",
       "    .dataframe thead th {\n",
       "        text-align: right;\n",
       "    }\n",
       "</style>\n",
       "<table border=\"1\" class=\"dataframe\">\n",
       "  <thead>\n",
       "    <tr style=\"text-align: right;\">\n",
       "      <th></th>\n",
       "      <th>age</th>\n",
       "      <th>anaemia</th>\n",
       "      <th>creatinine_phosphokinase</th>\n",
       "      <th>diabetes</th>\n",
       "      <th>ejection_fraction</th>\n",
       "      <th>high_blood_pressure</th>\n",
       "      <th>platelets</th>\n",
       "      <th>serum_creatinine</th>\n",
       "      <th>serum_sodium</th>\n",
       "      <th>sex</th>\n",
       "      <th>smoking</th>\n",
       "      <th>time</th>\n",
       "    </tr>\n",
       "  </thead>\n",
       "  <tbody>\n",
       "    <tr>\n",
       "      <th>0</th>\n",
       "      <td>75.0</td>\n",
       "      <td>0.0</td>\n",
       "      <td>582.0</td>\n",
       "      <td>0.0</td>\n",
       "      <td>20.0</td>\n",
       "      <td>1.0</td>\n",
       "      <td>265000.00</td>\n",
       "      <td>1.9</td>\n",
       "      <td>130.0</td>\n",
       "      <td>1.0</td>\n",
       "      <td>0.0</td>\n",
       "      <td>4.0</td>\n",
       "    </tr>\n",
       "    <tr>\n",
       "      <th>1</th>\n",
       "      <td>55.0</td>\n",
       "      <td>0.0</td>\n",
       "      <td>7861.0</td>\n",
       "      <td>0.0</td>\n",
       "      <td>38.0</td>\n",
       "      <td>0.0</td>\n",
       "      <td>263358.03</td>\n",
       "      <td>1.1</td>\n",
       "      <td>136.0</td>\n",
       "      <td>1.0</td>\n",
       "      <td>0.0</td>\n",
       "      <td>6.0</td>\n",
       "    </tr>\n",
       "    <tr>\n",
       "      <th>2</th>\n",
       "      <td>65.0</td>\n",
       "      <td>0.0</td>\n",
       "      <td>146.0</td>\n",
       "      <td>0.0</td>\n",
       "      <td>20.0</td>\n",
       "      <td>0.0</td>\n",
       "      <td>162000.00</td>\n",
       "      <td>1.3</td>\n",
       "      <td>129.0</td>\n",
       "      <td>1.0</td>\n",
       "      <td>1.0</td>\n",
       "      <td>7.0</td>\n",
       "    </tr>\n",
       "    <tr>\n",
       "      <th>3</th>\n",
       "      <td>50.0</td>\n",
       "      <td>1.0</td>\n",
       "      <td>111.0</td>\n",
       "      <td>0.0</td>\n",
       "      <td>20.0</td>\n",
       "      <td>0.0</td>\n",
       "      <td>210000.00</td>\n",
       "      <td>1.9</td>\n",
       "      <td>137.0</td>\n",
       "      <td>1.0</td>\n",
       "      <td>0.0</td>\n",
       "      <td>7.0</td>\n",
       "    </tr>\n",
       "    <tr>\n",
       "      <th>4</th>\n",
       "      <td>65.0</td>\n",
       "      <td>1.0</td>\n",
       "      <td>160.0</td>\n",
       "      <td>1.0</td>\n",
       "      <td>20.0</td>\n",
       "      <td>0.0</td>\n",
       "      <td>327000.00</td>\n",
       "      <td>2.7</td>\n",
       "      <td>116.0</td>\n",
       "      <td>0.0</td>\n",
       "      <td>0.0</td>\n",
       "      <td>8.0</td>\n",
       "    </tr>\n",
       "    <tr>\n",
       "      <th>...</th>\n",
       "      <td>...</td>\n",
       "      <td>...</td>\n",
       "      <td>...</td>\n",
       "      <td>...</td>\n",
       "      <td>...</td>\n",
       "      <td>...</td>\n",
       "      <td>...</td>\n",
       "      <td>...</td>\n",
       "      <td>...</td>\n",
       "      <td>...</td>\n",
       "      <td>...</td>\n",
       "      <td>...</td>\n",
       "    </tr>\n",
       "    <tr>\n",
       "      <th>294</th>\n",
       "      <td>62.0</td>\n",
       "      <td>0.0</td>\n",
       "      <td>61.0</td>\n",
       "      <td>1.0</td>\n",
       "      <td>38.0</td>\n",
       "      <td>1.0</td>\n",
       "      <td>155000.00</td>\n",
       "      <td>1.1</td>\n",
       "      <td>143.0</td>\n",
       "      <td>1.0</td>\n",
       "      <td>1.0</td>\n",
       "      <td>270.0</td>\n",
       "    </tr>\n",
       "    <tr>\n",
       "      <th>295</th>\n",
       "      <td>55.0</td>\n",
       "      <td>0.0</td>\n",
       "      <td>1820.0</td>\n",
       "      <td>0.0</td>\n",
       "      <td>38.0</td>\n",
       "      <td>0.0</td>\n",
       "      <td>270000.00</td>\n",
       "      <td>1.2</td>\n",
       "      <td>139.0</td>\n",
       "      <td>0.0</td>\n",
       "      <td>0.0</td>\n",
       "      <td>271.0</td>\n",
       "    </tr>\n",
       "    <tr>\n",
       "      <th>296</th>\n",
       "      <td>45.0</td>\n",
       "      <td>0.0</td>\n",
       "      <td>2060.0</td>\n",
       "      <td>1.0</td>\n",
       "      <td>60.0</td>\n",
       "      <td>0.0</td>\n",
       "      <td>742000.00</td>\n",
       "      <td>0.8</td>\n",
       "      <td>138.0</td>\n",
       "      <td>0.0</td>\n",
       "      <td>0.0</td>\n",
       "      <td>278.0</td>\n",
       "    </tr>\n",
       "    <tr>\n",
       "      <th>297</th>\n",
       "      <td>45.0</td>\n",
       "      <td>0.0</td>\n",
       "      <td>2413.0</td>\n",
       "      <td>0.0</td>\n",
       "      <td>38.0</td>\n",
       "      <td>0.0</td>\n",
       "      <td>140000.00</td>\n",
       "      <td>1.4</td>\n",
       "      <td>140.0</td>\n",
       "      <td>1.0</td>\n",
       "      <td>1.0</td>\n",
       "      <td>280.0</td>\n",
       "    </tr>\n",
       "    <tr>\n",
       "      <th>298</th>\n",
       "      <td>50.0</td>\n",
       "      <td>0.0</td>\n",
       "      <td>196.0</td>\n",
       "      <td>0.0</td>\n",
       "      <td>45.0</td>\n",
       "      <td>0.0</td>\n",
       "      <td>395000.00</td>\n",
       "      <td>1.6</td>\n",
       "      <td>136.0</td>\n",
       "      <td>1.0</td>\n",
       "      <td>1.0</td>\n",
       "      <td>285.0</td>\n",
       "    </tr>\n",
       "  </tbody>\n",
       "</table>\n",
       "<p>299 rows × 12 columns</p>\n",
       "</div>"
      ],
      "text/plain": [
       "      age  anaemia  creatinine_phosphokinase  diabetes  ejection_fraction  \\\n",
       "0    75.0      0.0                     582.0       0.0               20.0   \n",
       "1    55.0      0.0                    7861.0       0.0               38.0   \n",
       "2    65.0      0.0                     146.0       0.0               20.0   \n",
       "3    50.0      1.0                     111.0       0.0               20.0   \n",
       "4    65.0      1.0                     160.0       1.0               20.0   \n",
       "..    ...      ...                       ...       ...                ...   \n",
       "294  62.0      0.0                      61.0       1.0               38.0   \n",
       "295  55.0      0.0                    1820.0       0.0               38.0   \n",
       "296  45.0      0.0                    2060.0       1.0               60.0   \n",
       "297  45.0      0.0                    2413.0       0.0               38.0   \n",
       "298  50.0      0.0                     196.0       0.0               45.0   \n",
       "\n",
       "     high_blood_pressure  platelets  serum_creatinine  serum_sodium  sex  \\\n",
       "0                    1.0  265000.00               1.9         130.0  1.0   \n",
       "1                    0.0  263358.03               1.1         136.0  1.0   \n",
       "2                    0.0  162000.00               1.3         129.0  1.0   \n",
       "3                    0.0  210000.00               1.9         137.0  1.0   \n",
       "4                    0.0  327000.00               2.7         116.0  0.0   \n",
       "..                   ...        ...               ...           ...  ...   \n",
       "294                  1.0  155000.00               1.1         143.0  1.0   \n",
       "295                  0.0  270000.00               1.2         139.0  0.0   \n",
       "296                  0.0  742000.00               0.8         138.0  0.0   \n",
       "297                  0.0  140000.00               1.4         140.0  1.0   \n",
       "298                  0.0  395000.00               1.6         136.0  1.0   \n",
       "\n",
       "     smoking   time  \n",
       "0        0.0    4.0  \n",
       "1        0.0    6.0  \n",
       "2        1.0    7.0  \n",
       "3        0.0    7.0  \n",
       "4        0.0    8.0  \n",
       "..       ...    ...  \n",
       "294      1.0  270.0  \n",
       "295      0.0  271.0  \n",
       "296      0.0  278.0  \n",
       "297      1.0  280.0  \n",
       "298      1.0  285.0  \n",
       "\n",
       "[299 rows x 12 columns]"
      ]
     },
     "execution_count": 230,
     "metadata": {},
     "output_type": "execute_result"
    }
   ],
   "source": [
    "OH_X"
   ]
  },
  {
   "cell_type": "markdown",
   "id": "9ae9ecb1",
   "metadata": {},
   "source": [
    "### Sampling/ Unbalanced Check"
   ]
  },
  {
   "cell_type": "code",
   "execution_count": 231,
   "id": "48a49d14",
   "metadata": {},
   "outputs": [
    {
     "name": "stdout",
     "output_type": "stream",
     "text": [
      "0    203\n",
      "1     96\n",
      "Name: DEATH_EVENT, dtype: int64\n",
      "203\n",
      "96\n",
      "0.4729064039408867\n"
     ]
    }
   ],
   "source": [
    "count = y_data.value_counts()\n",
    "print(count)\n",
    "print(max(count))\n",
    "print(min(count))\n",
    "cond = min(count)/max(count)\n",
    "print(cond)"
   ]
  },
  {
   "cell_type": "markdown",
   "id": "993e52f3",
   "metadata": {},
   "source": [
    "### Label encoding y_data"
   ]
  },
  {
   "cell_type": "code",
   "execution_count": 232,
   "id": "8f6ece0c",
   "metadata": {},
   "outputs": [],
   "source": [
    "from sklearn.preprocessing import LabelEncoder\n",
    "if(y_data.dtypes == \"object\"):\n",
    "    print(y_data.dtypes)\n",
    "    le = LabelEncoder()\n",
    "    y_data = le.fit_transform(y_data)\n",
    "    y_data"
   ]
  },
  {
   "cell_type": "code",
   "execution_count": 233,
   "id": "76820a62",
   "metadata": {},
   "outputs": [],
   "source": [
    "from imblearn.over_sampling import ADASYN\n",
    "from collections import Counter\n",
    "if(cond<0.3):\n",
    "    counter = Counter(y_data)\n",
    "    print('before :',counter)\n",
    "    ADA = ADASYN(random_state=130,sampling_strategy='minority')\n",
    "    OH_X,y_data = ADA.fit_resample(OH_X,y_data)\n",
    "    counter = Counter(y_data)\n",
    "    print(\"after :\",counter)"
   ]
  },
  {
   "cell_type": "markdown",
   "id": "b6aadab6",
   "metadata": {},
   "source": [
    "### Scaling"
   ]
  },
  {
   "cell_type": "code",
   "execution_count": 234,
   "id": "18db5e0b",
   "metadata": {},
   "outputs": [],
   "source": [
    "from sklearn.preprocessing import StandardScaler"
   ]
  },
  {
   "cell_type": "code",
   "execution_count": 235,
   "id": "cf93cd94",
   "metadata": {},
   "outputs": [],
   "source": [
    "sc_x = StandardScaler()"
   ]
  },
  {
   "cell_type": "code",
   "execution_count": 236,
   "id": "10080e97",
   "metadata": {},
   "outputs": [],
   "source": [
    "OH_X = sc_x.fit_transform(OH_X)"
   ]
  },
  {
   "cell_type": "code",
   "execution_count": 237,
   "id": "52222312",
   "metadata": {},
   "outputs": [
    {
     "data": {
      "text/plain": [
       "array([[ 1.19294523e+00, -8.71104775e-01,  1.65728387e-04, ...,\n",
       "         7.35688190e-01, -6.87681906e-01, -1.62950241e+00],\n",
       "       [-4.91279276e-01, -8.71104775e-01,  7.51463953e+00, ...,\n",
       "         7.35688190e-01, -6.87681906e-01, -1.60369074e+00],\n",
       "       [ 3.50832977e-01, -8.71104775e-01, -4.49938761e-01, ...,\n",
       "         7.35688190e-01,  1.45416070e+00, -1.59078490e+00],\n",
       "       ...,\n",
       "       [-1.33339153e+00, -8.71104775e-01,  1.52597865e+00, ...,\n",
       "        -1.35927151e+00, -6.87681906e-01,  1.90669738e+00],\n",
       "       [-1.33339153e+00, -8.71104775e-01,  1.89039811e+00, ...,\n",
       "         7.35688190e-01,  1.45416070e+00,  1.93250906e+00],\n",
       "       [-9.12335403e-01, -8.71104775e-01, -3.98321274e-01, ...,\n",
       "         7.35688190e-01,  1.45416070e+00,  1.99703825e+00]])"
      ]
     },
     "execution_count": 237,
     "metadata": {},
     "output_type": "execute_result"
    }
   ],
   "source": [
    "OH_X"
   ]
  },
  {
   "cell_type": "code",
   "execution_count": 238,
   "id": "70462bb5",
   "metadata": {},
   "outputs": [],
   "source": [
    "model_accuracies = {}"
   ]
  },
  {
   "cell_type": "code",
   "execution_count": 239,
   "id": "e3c77eaa",
   "metadata": {},
   "outputs": [],
   "source": [
    "from sklearn.metrics import roc_auc_score,accuracy_score, classification_report\n",
    "def write_report(model, remarks, model_name):\n",
    " preds = model.predict(X_test)\n",
    " report = classification_report(y_test,preds)\n",
    " balanced_accuracy = '-'\n",
    " roc_score = roc_auc_score(y_test, preds)\n",
    " accuracyscore = accuracy_score(y_test, preds)\n",
    " print(f'\\n{model}\\n {report}\\n  accuracy score: {accuracyscore}\\n Roc auc score: {roc_score}\\n Remarks: {remarks}')\n",
    " with open(\".//reports//\"+model_name+\"_report.txt\", \"w\") as myfile:\n",
    "   myfile.write(f'\\n{model}\\n {report}\\n accuracy score: {accuracyscore}\\n Roc auc score: {roc_score}\\n Remarks: {remarks}')"
   ]
  },
  {
   "cell_type": "markdown",
   "id": "be9b41f7",
   "metadata": {},
   "source": [
    "### Splitting Dataset"
   ]
  },
  {
   "cell_type": "code",
   "execution_count": 240,
   "id": "cc7dbda8",
   "metadata": {},
   "outputs": [],
   "source": [
    "from sklearn.model_selection import train_test_split"
   ]
  },
  {
   "cell_type": "code",
   "execution_count": 241,
   "id": "04361e6d",
   "metadata": {},
   "outputs": [],
   "source": [
    "X_train,X_test,y_train,y_test = train_test_split(OH_X,y_data,test_size=0.2,random_state=0)"
   ]
  },
  {
   "cell_type": "markdown",
   "id": "ff9fb013",
   "metadata": {},
   "source": [
    "## MODEL TRAINING"
   ]
  },
  {
   "cell_type": "markdown",
   "id": "84e29fd5",
   "metadata": {},
   "source": [
    "### Logistic Regression"
   ]
  },
  {
   "cell_type": "code",
   "execution_count": 242,
   "id": "5478410d",
   "metadata": {},
   "outputs": [],
   "source": [
    "from sklearn.linear_model import LogisticRegression\n",
    "LR_classifier = LogisticRegression(random_state = 0)\n",
    "LR_classifier.fit(X_train, y_train)\n",
    "\n",
    "y_pred_lr = LR_classifier.predict(X_test)"
   ]
  },
  {
   "cell_type": "code",
   "execution_count": 243,
   "id": "59bfec40",
   "metadata": {},
   "outputs": [
    {
     "name": "stdout",
     "output_type": "stream",
     "text": [
      "[[36  1]\n",
      " [12 11]]\n",
      "0.7833333333333333\n"
     ]
    }
   ],
   "source": [
    "cm = confusion_matrix(y_test, y_pred_lr)\n",
    "print(cm)\n",
    "lr_accuracy = accuracy_score(y_test, y_pred_lr)\n",
    "model_accuracies[\"LogisticRegression\"] = lr_accuracy\n",
    "print(lr_accuracy)"
   ]
  },
  {
   "cell_type": "code",
   "execution_count": 244,
   "id": "3ddcc4f6",
   "metadata": {},
   "outputs": [
    {
     "name": "stdout",
     "output_type": "stream",
     "text": [
      "\n",
      "LogisticRegression(random_state=0)\n",
      "               precision    recall  f1-score   support\n",
      "\n",
      "           0       0.75      0.97      0.85        37\n",
      "           1       0.92      0.48      0.63        23\n",
      "\n",
      "    accuracy                           0.78        60\n",
      "   macro avg       0.83      0.73      0.74        60\n",
      "weighted avg       0.81      0.78      0.76        60\n",
      "\n",
      "  accuracy score: 0.7833333333333333\n",
      " Roc auc score: 0.7256169212690952\n",
      " Remarks: good Model\n"
     ]
    }
   ],
   "source": [
    "write_report(LR_classifier,\"good Model\",\"Logistic Regression\")"
   ]
  },
  {
   "cell_type": "markdown",
   "id": "a78df415",
   "metadata": {},
   "source": [
    "### Decision Tree Classifier"
   ]
  },
  {
   "cell_type": "code",
   "execution_count": 245,
   "id": "7c0ba2b3",
   "metadata": {},
   "outputs": [],
   "source": [
    "from sklearn.tree import DecisionTreeClassifier\n",
    "DT_classifier = DecisionTreeClassifier(criterion = 'entropy', random_state = 0)\n",
    "DT_classifier.fit(X_train, y_train)\n",
    "\n",
    "y_pred_dr = DT_classifier.predict(X_test)"
   ]
  },
  {
   "cell_type": "code",
   "execution_count": 246,
   "id": "ecac1712",
   "metadata": {},
   "outputs": [
    {
     "name": "stdout",
     "output_type": "stream",
     "text": [
      "[[34  3]\n",
      " [ 6 17]]\n",
      "0.85\n"
     ]
    }
   ],
   "source": [
    "cm = confusion_matrix(y_test, y_pred_dr)\n",
    "print(cm)\n",
    "dt_accuracy = accuracy_score(y_test, y_pred_dr)\n",
    "model_accuracies[\"DecisionTreeClassifer\"] = dt_accuracy\n",
    "print(dt_accuracy)"
   ]
  },
  {
   "cell_type": "code",
   "execution_count": 247,
   "id": "b7d7145f",
   "metadata": {},
   "outputs": [
    {
     "name": "stdout",
     "output_type": "stream",
     "text": [
      "\n",
      "DecisionTreeClassifier(criterion='entropy', random_state=0)\n",
      "               precision    recall  f1-score   support\n",
      "\n",
      "           0       0.85      0.92      0.88        37\n",
      "           1       0.85      0.74      0.79        23\n",
      "\n",
      "    accuracy                           0.85        60\n",
      "   macro avg       0.85      0.83      0.84        60\n",
      "weighted avg       0.85      0.85      0.85        60\n",
      "\n",
      "  accuracy score: 0.85\n",
      " Roc auc score: 0.8290246768507638\n",
      " Remarks: good Model\n"
     ]
    }
   ],
   "source": [
    "write_report(DT_classifier,\"good Model\",\"Decision Tree Classifer\")"
   ]
  },
  {
   "cell_type": "markdown",
   "id": "1c8ffd33",
   "metadata": {},
   "source": [
    "### Random Forest classifier"
   ]
  },
  {
   "cell_type": "code",
   "execution_count": 248,
   "id": "8d1c7350",
   "metadata": {},
   "outputs": [
    {
     "name": "stdout",
     "output_type": "stream",
     "text": [
      "[[36  1]\n",
      " [10 13]] No of Estimators:  10 0.8166666666666667\n",
      "[[35  2]\n",
      " [ 9 14]] No of Estimators:  15 0.8166666666666667\n",
      "[[36  1]\n",
      " [13 10]] No of Estimators:  20 0.7666666666666667\n",
      "[[34  3]\n",
      " [10 13]] No of Estimators:  25 0.7833333333333333\n",
      "[[36  1]\n",
      " [10 13]] No of Estimators:  50 0.8166666666666667\n",
      "[[36  1]\n",
      " [ 8 15]] No of Estimators:  100 0.85\n",
      "[[36  1]\n",
      " [ 8 15]] No of Estimators:  200 0.85\n"
     ]
    }
   ],
   "source": [
    "from sklearn.ensemble import RandomForestClassifier\n",
    "nodes = [10,15,20,25,50,100,200]\n",
    "accuracy =[]\n",
    "for node in nodes:    \n",
    "    RandomForestclassifier = RandomForestClassifier(criterion = 'entropy', random_state=0, n_estimators=node)\n",
    "    RandomForestclassifier.fit(X_train,y_train)\n",
    "    preds = RandomForestclassifier.predict(X_test)\n",
    "    accs = accuracy_score(y_test,preds)\n",
    "    accuracy.append(accs)\n",
    "    print(confusion_matrix(y_test,preds),'No of Estimators: ', node,accs)\n",
    "\n",
    "# sns.lineplot(x=nodes,y=accuracy)\n",
    "model_accuracies[\"RandomForestclassifier\"] = accs"
   ]
  },
  {
   "cell_type": "code",
   "execution_count": 249,
   "id": "67a08ab4",
   "metadata": {
    "scrolled": true
   },
   "outputs": [
    {
     "name": "stdout",
     "output_type": "stream",
     "text": [
      "\n",
      "RandomForestClassifier(criterion='entropy', n_estimators=200, random_state=0)\n",
      "               precision    recall  f1-score   support\n",
      "\n",
      "           0       0.82      0.97      0.89        37\n",
      "           1       0.94      0.65      0.77        23\n",
      "\n",
      "    accuracy                           0.85        60\n",
      "   macro avg       0.88      0.81      0.83        60\n",
      "weighted avg       0.86      0.85      0.84        60\n",
      "\n",
      "  accuracy score: 0.85\n",
      " Roc auc score: 0.8125734430082258\n",
      " Remarks: good Model\n"
     ]
    }
   ],
   "source": [
    "write_report(RandomForestclassifier,\"good Model\",\"RandomForestClassifier\")"
   ]
  },
  {
   "cell_type": "markdown",
   "id": "065d28bb",
   "metadata": {},
   "source": [
    "### XgBoost Classifier"
   ]
  },
  {
   "cell_type": "code",
   "execution_count": 250,
   "id": "c1daecf1",
   "metadata": {},
   "outputs": [
    {
     "name": "stdout",
     "output_type": "stream",
     "text": [
      "[10:40:39] WARNING: C:/Users/Administrator/workspace/xgboost-win64_release_1.3.0/src/learner.cc:1061: Starting in XGBoost 1.3.0, the default evaluation metric used with the objective 'binary:logistic' was changed from 'error' to 'logloss'. Explicitly set eval_metric if you'd like to restore the old behavior.\n",
      "[[33  4]\n",
      " [ 7 16]]\n"
     ]
    },
    {
     "name": "stderr",
     "output_type": "stream",
     "text": [
      "C:\\Anaconda3\\envs\\tensorflow_en\\lib\\site-packages\\xgboost\\sklearn.py:888: UserWarning: The use of label encoder in XGBClassifier is deprecated and will be removed in a future release. To remove this warning, do the following: 1) Pass option use_label_encoder=False when constructing XGBClassifier object; and 2) Encode your labels (y) as integers starting with 0, i.e. 0, 1, 2, ..., [num_class - 1].\n",
      "  warnings.warn(label_encoder_deprecation_msg, UserWarning)\n"
     ]
    }
   ],
   "source": [
    "from xgboost import XGBClassifier   #XGBoostClassifier\n",
    "XGboostclassifier = XGBClassifier(max_depth=6)\n",
    "XGboostclassifier.fit(X_train, y_train)\n",
    "y_pred = XGboostclassifier.predict(X_test)\n",
    "cm = confusion_matrix(y_test, y_pred)\n",
    "print(cm)\n",
    "xgboost_accuracy = accuracy_score(y_test, y_pred)\n",
    "model_accuracies['XGboostclassifier'] = xgboost_accuracy"
   ]
  },
  {
   "cell_type": "code",
   "execution_count": 251,
   "id": "2a196647",
   "metadata": {},
   "outputs": [
    {
     "name": "stdout",
     "output_type": "stream",
     "text": [
      "\n",
      "XGBClassifier(base_score=0.5, booster='gbtree', colsample_bylevel=1,\n",
      "              colsample_bynode=1, colsample_bytree=1, gamma=0, gpu_id=-1,\n",
      "              importance_type='gain', interaction_constraints='',\n",
      "              learning_rate=0.300000012, max_delta_step=0, max_depth=6,\n",
      "              min_child_weight=1, missing=nan, monotone_constraints='()',\n",
      "              n_estimators=100, n_jobs=8, num_parallel_tree=1, random_state=0,\n",
      "              reg_alpha=0, reg_lambda=1, scale_pos_weight=1, subsample=1,\n",
      "              tree_method='exact', validate_parameters=1, verbosity=None)\n",
      "               precision    recall  f1-score   support\n",
      "\n",
      "           0       0.82      0.89      0.86        37\n",
      "           1       0.80      0.70      0.74        23\n",
      "\n",
      "    accuracy                           0.82        60\n",
      "   macro avg       0.81      0.79      0.80        60\n",
      "weighted avg       0.82      0.82      0.81        60\n",
      "\n",
      "  accuracy score: 0.8166666666666667\n",
      " Roc auc score: 0.7937720329024677\n",
      " Remarks: good Model\n"
     ]
    }
   ],
   "source": [
    "write_report(XGboostclassifier,\"good Model\",\"XGboostclassifier\")"
   ]
  },
  {
   "cell_type": "markdown",
   "id": "49a17867",
   "metadata": {},
   "source": [
    "### SVM Classifier\n"
   ]
  },
  {
   "cell_type": "code",
   "execution_count": 252,
   "id": "88d75da2",
   "metadata": {},
   "outputs": [],
   "source": [
    "from sklearn.svm import SVC\n",
    "SVCclassifier = SVC(kernel=\"rbf\", random_state=0)\n",
    "SVCclassifier.fit(X_train, y_train)\n",
    "y_pred_svm = SVCclassifier.predict(X_test)"
   ]
  },
  {
   "cell_type": "code",
   "execution_count": 253,
   "id": "8034cb64",
   "metadata": {},
   "outputs": [
    {
     "name": "stdout",
     "output_type": "stream",
     "text": [
      "[[36  1]\n",
      " [10 13]]\n"
     ]
    }
   ],
   "source": [
    "cm = confusion_matrix(y_test, y_pred_svm)\n",
    "print(cm)\n",
    "svc_accuracy = accuracy_score(y_test, y_pred_svm)\n",
    "model_accuracies[\"SVCclassifier\"] = svc_accuracy"
   ]
  },
  {
   "cell_type": "code",
   "execution_count": 254,
   "id": "28070319",
   "metadata": {},
   "outputs": [
    {
     "name": "stdout",
     "output_type": "stream",
     "text": [
      "\n",
      "SVC(random_state=0)\n",
      "               precision    recall  f1-score   support\n",
      "\n",
      "           0       0.78      0.97      0.87        37\n",
      "           1       0.93      0.57      0.70        23\n",
      "\n",
      "    accuracy                           0.82        60\n",
      "   macro avg       0.86      0.77      0.79        60\n",
      "weighted avg       0.84      0.82      0.80        60\n",
      "\n",
      "  accuracy score: 0.8166666666666667\n",
      " Roc auc score: 0.7690951821386603\n",
      " Remarks: good Model\n"
     ]
    }
   ],
   "source": [
    "write_report(SVCclassifier,\"good Model\",\"SVCclassifier\")"
   ]
  },
  {
   "cell_type": "markdown",
   "id": "d73249f8",
   "metadata": {},
   "source": [
    "### Naive Bayes "
   ]
  },
  {
   "cell_type": "code",
   "execution_count": 255,
   "id": "48cf0506",
   "metadata": {},
   "outputs": [],
   "source": [
    "from sklearn.naive_bayes import GaussianNB\n",
    "GaussianNBclassifier = GaussianNB()\n",
    "GaussianNBclassifier.fit(X_train, y_train)\n",
    "y_pred_nb = GaussianNBclassifier.predict(X_test)"
   ]
  },
  {
   "cell_type": "code",
   "execution_count": 256,
   "id": "1981b82b",
   "metadata": {},
   "outputs": [
    {
     "name": "stdout",
     "output_type": "stream",
     "text": [
      "[[34  3]\n",
      " [16  7]]\n"
     ]
    }
   ],
   "source": [
    "cm = confusion_matrix(y_test, y_pred_nb)\n",
    "print(cm)\n",
    "nb_accuracy = accuracy_score(y_test, y_pred_nb)\n",
    "model_accuracies[\"GaussianNBclassifie\"] = nb_accuracy"
   ]
  },
  {
   "cell_type": "code",
   "execution_count": 257,
   "id": "0c4801fd",
   "metadata": {},
   "outputs": [
    {
     "name": "stdout",
     "output_type": "stream",
     "text": [
      "\n",
      "GaussianNB()\n",
      "               precision    recall  f1-score   support\n",
      "\n",
      "           0       0.68      0.92      0.78        37\n",
      "           1       0.70      0.30      0.42        23\n",
      "\n",
      "    accuracy                           0.68        60\n",
      "   macro avg       0.69      0.61      0.60        60\n",
      "weighted avg       0.69      0.68      0.64        60\n",
      "\n",
      "  accuracy score: 0.6833333333333333\n",
      " Roc auc score: 0.6116333725029377\n",
      " Remarks: good Model\n"
     ]
    }
   ],
   "source": [
    "write_report(GaussianNBclassifier,\"good Model\",\"GaussianNBclassifier\")"
   ]
  },
  {
   "cell_type": "markdown",
   "id": "53334cba",
   "metadata": {},
   "source": [
    "### Ada Boost"
   ]
  },
  {
   "cell_type": "code",
   "execution_count": 258,
   "id": "c3b7c0ee",
   "metadata": {},
   "outputs": [],
   "source": [
    "from sklearn.ensemble import AdaBoostClassifier\n",
    "AdaboostClassifier = AdaBoostClassifier(n_estimators=100,learning_rate=1)\n",
    "model = AdaboostClassifier.fit(X_train, y_train)\n",
    "y_pred_ada = AdaboostClassifier.predict(X_test)"
   ]
  },
  {
   "cell_type": "code",
   "execution_count": 259,
   "id": "86c0a916",
   "metadata": {},
   "outputs": [
    {
     "name": "stdout",
     "output_type": "stream",
     "text": [
      "[[33  4]\n",
      " [10 13]]\n"
     ]
    }
   ],
   "source": [
    "cm = confusion_matrix(y_test, y_pred_ada)\n",
    "print(cm)\n",
    "adaboost_accuracy = accuracy_score(y_test, y_pred_ada)\n",
    "model_accuracies[\"AdaboostClassifier\"] = adaboost_accuracy"
   ]
  },
  {
   "cell_type": "code",
   "execution_count": 260,
   "id": "c057f3a1",
   "metadata": {},
   "outputs": [
    {
     "name": "stdout",
     "output_type": "stream",
     "text": [
      "\n",
      "AdaBoostClassifier(learning_rate=1, n_estimators=100)\n",
      "               precision    recall  f1-score   support\n",
      "\n",
      "           0       0.77      0.89      0.82        37\n",
      "           1       0.76      0.57      0.65        23\n",
      "\n",
      "    accuracy                           0.77        60\n",
      "   macro avg       0.77      0.73      0.74        60\n",
      "weighted avg       0.77      0.77      0.76        60\n",
      "\n",
      "  accuracy score: 0.7666666666666667\n",
      " Roc auc score: 0.7285546415981198\n",
      " Remarks: Good report\n"
     ]
    }
   ],
   "source": [
    "write_report(AdaboostClassifier,\"Good report\",\"AdaboostClassifier\")"
   ]
  },
  {
   "cell_type": "markdown",
   "id": "a0509daf",
   "metadata": {},
   "source": [
    "### Finding the best model"
   ]
  },
  {
   "cell_type": "code",
   "execution_count": 261,
   "id": "8defe701",
   "metadata": {},
   "outputs": [
    {
     "name": "stdout",
     "output_type": "stream",
     "text": [
      "DecisionTreeClassifer\n",
      "0.85\n"
     ]
    }
   ],
   "source": [
    "bestmodel = max(model_accuracies, key = model_accuracies.get)\n",
    "print(bestmodel)\n",
    "print(model_accuracies[bestmodel])"
   ]
  },
  {
   "cell_type": "code",
   "execution_count": 262,
   "id": "bd99b494",
   "metadata": {},
   "outputs": [],
   "source": [
    "# rfc=RandomForestClassifier(random_state=42)"
   ]
  },
  {
   "cell_type": "code",
   "execution_count": 263,
   "id": "021bcac7",
   "metadata": {},
   "outputs": [],
   "source": [
    "# param_grid = { \n",
    "#     'n_estimators': [200, 500],\n",
    "#     'max_features': ['auto', 'sqrt', 'log2'],\n",
    "#     'max_depth' : [4,5,6,7,8],\n",
    "#     'criterion' :['gini', 'entropy']\n",
    "# }"
   ]
  },
  {
   "cell_type": "code",
   "execution_count": 264,
   "id": "2b3e8800",
   "metadata": {},
   "outputs": [],
   "source": [
    "# from sklearn.model_selection import GridSearchCV\n",
    "# CV_rfc = GridSearchCV(estimator=rfc, param_grid=param_grid, cv= 5)\n",
    "# CV_rfc.fit(X_train, y_train)\n",
    "# CV_rfc.best_params_"
   ]
  },
  {
   "cell_type": "code",
   "execution_count": 265,
   "id": "cc70aa22",
   "metadata": {},
   "outputs": [],
   "source": [
    "# rfc=RandomForestClassifier(random_state=42,criterion= 'gini',max_depth=4,max_features= 'auto',n_estimators= 200)"
   ]
  },
  {
   "cell_type": "code",
   "execution_count": 266,
   "id": "fc13d92e",
   "metadata": {},
   "outputs": [],
   "source": [
    "# rfc.fit(X_train, y_train)\n",
    "# preds = rfc.predict(X_test)\n",
    "# accs = accuracy_score(y_test,preds)\n",
    "# accuracy.append(accs)\n",
    "# print(confusion_matrix(y_test,preds),'Accuracy: ',accs)"
   ]
  }
 ],
 "metadata": {
  "kernelspec": {
   "display_name": "Python 3",
   "language": "python",
   "name": "python3"
  },
  "language_info": {
   "codemirror_mode": {
    "name": "ipython",
    "version": 3
   },
   "file_extension": ".py",
   "mimetype": "text/x-python",
   "name": "python",
   "nbconvert_exporter": "python",
   "pygments_lexer": "ipython3",
   "version": "3.7.10"
  }
 },
 "nbformat": 4,
 "nbformat_minor": 5
}
