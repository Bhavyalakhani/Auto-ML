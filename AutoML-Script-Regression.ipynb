{
 "cells": [
  {
   "cell_type": "code",
   "execution_count": 1,
<<<<<<< HEAD
   "id": "5ad0a966",
=======
   "id": "buried-nepal",
>>>>>>> f97285ceeb05b31cc1083aaec13c0f54310dbd46
   "metadata": {},
   "outputs": [],
   "source": [
    "import pandas as pd\n",
    "import numpy as np\n",
    "import seaborn as sns\n",
    "import matplotlib.pyplot as plt\n",
    "%matplotlib inline"
   ]
  },
  {
   "cell_type": "code",
   "execution_count": 2,
<<<<<<< HEAD
   "id": "75fb842d",
=======
   "id": "structured-display",
>>>>>>> f97285ceeb05b31cc1083aaec13c0f54310dbd46
   "metadata": {},
   "outputs": [
    {
     "data": {
      "text/html": [
       "<div>\n",
       "<style scoped>\n",
       "    .dataframe tbody tr th:only-of-type {\n",
       "        vertical-align: middle;\n",
       "    }\n",
       "\n",
       "    .dataframe tbody tr th {\n",
       "        vertical-align: top;\n",
       "    }\n",
       "\n",
       "    .dataframe thead th {\n",
       "        text-align: right;\n",
       "    }\n",
       "</style>\n",
       "<table border=\"1\" class=\"dataframe\">\n",
       "  <thead>\n",
       "    <tr style=\"text-align: right;\">\n",
       "      <th></th>\n",
       "      <th>Unnamed: 0</th>\n",
       "      <th>city</th>\n",
       "      <th>area</th>\n",
       "      <th>rooms</th>\n",
       "      <th>bathroom</th>\n",
       "      <th>parking spaces</th>\n",
       "      <th>floor</th>\n",
       "      <th>animal</th>\n",
       "      <th>furniture</th>\n",
       "      <th>hoa</th>\n",
       "      <th>rent amount</th>\n",
       "      <th>property tax</th>\n",
       "      <th>fire insurance</th>\n",
       "      <th>total</th>\n",
       "    </tr>\n",
       "  </thead>\n",
       "  <tbody>\n",
       "    <tr>\n",
       "      <th>0</th>\n",
       "      <td>0</td>\n",
       "      <td>1</td>\n",
       "      <td>240</td>\n",
       "      <td>3</td>\n",
       "      <td>3</td>\n",
       "      <td>4</td>\n",
       "      <td>-</td>\n",
       "      <td>acept</td>\n",
       "      <td>furnished</td>\n",
       "      <td>R$0</td>\n",
       "      <td>R$8,000</td>\n",
       "      <td>R$1,000</td>\n",
       "      <td>R$121</td>\n",
       "      <td>R$9,121</td>\n",
       "    </tr>\n",
       "    <tr>\n",
       "      <th>1</th>\n",
       "      <td>1</td>\n",
       "      <td>0</td>\n",
       "      <td>64</td>\n",
       "      <td>2</td>\n",
       "      <td>1</td>\n",
       "      <td>1</td>\n",
       "      <td>10</td>\n",
       "      <td>acept</td>\n",
       "      <td>not furnished</td>\n",
       "      <td>R$540</td>\n",
       "      <td>R$820</td>\n",
       "      <td>R$122</td>\n",
       "      <td>R$11</td>\n",
       "      <td>R$1,493</td>\n",
       "    </tr>\n",
       "    <tr>\n",
       "      <th>2</th>\n",
       "      <td>2</td>\n",
       "      <td>1</td>\n",
       "      <td>443</td>\n",
       "      <td>5</td>\n",
       "      <td>5</td>\n",
       "      <td>4</td>\n",
       "      <td>3</td>\n",
       "      <td>acept</td>\n",
       "      <td>furnished</td>\n",
       "      <td>R$4,172</td>\n",
       "      <td>R$7,000</td>\n",
       "      <td>R$1,417</td>\n",
       "      <td>R$89</td>\n",
       "      <td>R$12,680</td>\n",
       "    </tr>\n",
       "    <tr>\n",
       "      <th>3</th>\n",
       "      <td>3</td>\n",
       "      <td>1</td>\n",
       "      <td>73</td>\n",
       "      <td>2</td>\n",
       "      <td>2</td>\n",
       "      <td>1</td>\n",
       "      <td>12</td>\n",
       "      <td>acept</td>\n",
       "      <td>not furnished</td>\n",
       "      <td>R$700</td>\n",
       "      <td>R$1,250</td>\n",
       "      <td>R$150</td>\n",
       "      <td>R$16</td>\n",
       "      <td>R$2,116</td>\n",
       "    </tr>\n",
       "    <tr>\n",
       "      <th>4</th>\n",
       "      <td>4</td>\n",
       "      <td>1</td>\n",
       "      <td>19</td>\n",
       "      <td>1</td>\n",
       "      <td>1</td>\n",
       "      <td>0</td>\n",
       "      <td>-</td>\n",
       "      <td>not acept</td>\n",
       "      <td>not furnished</td>\n",
       "      <td>R$0</td>\n",
       "      <td>R$1,200</td>\n",
       "      <td>R$41</td>\n",
       "      <td>R$16</td>\n",
       "      <td>R$1,257</td>\n",
       "    </tr>\n",
       "    <tr>\n",
       "      <th>...</th>\n",
       "      <td>...</td>\n",
       "      <td>...</td>\n",
       "      <td>...</td>\n",
       "      <td>...</td>\n",
       "      <td>...</td>\n",
       "      <td>...</td>\n",
       "      <td>...</td>\n",
       "      <td>...</td>\n",
       "      <td>...</td>\n",
       "      <td>...</td>\n",
       "      <td>...</td>\n",
       "      <td>...</td>\n",
       "      <td>...</td>\n",
       "      <td>...</td>\n",
       "    </tr>\n",
       "    <tr>\n",
       "      <th>6075</th>\n",
       "      <td>6075</td>\n",
       "      <td>1</td>\n",
       "      <td>50</td>\n",
       "      <td>2</td>\n",
       "      <td>1</td>\n",
       "      <td>1</td>\n",
       "      <td>2</td>\n",
       "      <td>acept</td>\n",
       "      <td>not furnished</td>\n",
       "      <td>R$420</td>\n",
       "      <td>R$1,150</td>\n",
       "      <td>R$0</td>\n",
       "      <td>R$15</td>\n",
       "      <td>R$1,585</td>\n",
       "    </tr>\n",
       "    <tr>\n",
       "      <th>6076</th>\n",
       "      <td>6076</td>\n",
       "      <td>1</td>\n",
       "      <td>84</td>\n",
       "      <td>2</td>\n",
       "      <td>2</td>\n",
       "      <td>1</td>\n",
       "      <td>16</td>\n",
       "      <td>not acept</td>\n",
       "      <td>furnished</td>\n",
       "      <td>R$768</td>\n",
       "      <td>R$2,900</td>\n",
       "      <td>R$63</td>\n",
       "      <td>R$37</td>\n",
       "      <td>R$3,768</td>\n",
       "    </tr>\n",
       "    <tr>\n",
       "      <th>6077</th>\n",
       "      <td>6077</td>\n",
       "      <td>0</td>\n",
       "      <td>48</td>\n",
       "      <td>1</td>\n",
       "      <td>1</td>\n",
       "      <td>0</td>\n",
       "      <td>13</td>\n",
       "      <td>acept</td>\n",
       "      <td>not furnished</td>\n",
       "      <td>R$250</td>\n",
       "      <td>R$950</td>\n",
       "      <td>R$42</td>\n",
       "      <td>R$13</td>\n",
       "      <td>R$1,255</td>\n",
       "    </tr>\n",
       "    <tr>\n",
       "      <th>6078</th>\n",
       "      <td>6078</td>\n",
       "      <td>1</td>\n",
       "      <td>160</td>\n",
       "      <td>3</td>\n",
       "      <td>2</td>\n",
       "      <td>2</td>\n",
       "      <td>-</td>\n",
       "      <td>not acept</td>\n",
       "      <td>not furnished</td>\n",
       "      <td>R$0</td>\n",
       "      <td>R$3,500</td>\n",
       "      <td>R$250</td>\n",
       "      <td>R$53</td>\n",
       "      <td>R$3,803</td>\n",
       "    </tr>\n",
       "    <tr>\n",
       "      <th>6079</th>\n",
       "      <td>6079</td>\n",
       "      <td>1</td>\n",
       "      <td>60</td>\n",
       "      <td>2</td>\n",
       "      <td>1</td>\n",
       "      <td>1</td>\n",
       "      <td>4</td>\n",
       "      <td>acept</td>\n",
       "      <td>furnished</td>\n",
       "      <td>R$489</td>\n",
       "      <td>R$1,900</td>\n",
       "      <td>R$0</td>\n",
       "      <td>R$25</td>\n",
       "      <td>R$2,414</td>\n",
       "    </tr>\n",
       "  </tbody>\n",
       "</table>\n",
       "<p>6080 rows × 14 columns</p>\n",
       "</div>"
      ],
      "text/plain": [
       "      Unnamed: 0  city  area  rooms  bathroom  parking spaces floor  \\\n",
       "0              0     1   240      3         3               4     -   \n",
       "1              1     0    64      2         1               1    10   \n",
       "2              2     1   443      5         5               4     3   \n",
       "3              3     1    73      2         2               1    12   \n",
       "4              4     1    19      1         1               0     -   \n",
       "...          ...   ...   ...    ...       ...             ...   ...   \n",
       "6075        6075     1    50      2         1               1     2   \n",
       "6076        6076     1    84      2         2               1    16   \n",
       "6077        6077     0    48      1         1               0    13   \n",
       "6078        6078     1   160      3         2               2     -   \n",
       "6079        6079     1    60      2         1               1     4   \n",
       "\n",
       "         animal      furniture      hoa rent amount property tax  \\\n",
       "0         acept      furnished      R$0     R$8,000      R$1,000   \n",
       "1         acept  not furnished    R$540       R$820        R$122   \n",
       "2         acept      furnished  R$4,172     R$7,000      R$1,417   \n",
       "3         acept  not furnished    R$700     R$1,250        R$150   \n",
       "4     not acept  not furnished      R$0     R$1,200         R$41   \n",
       "...         ...            ...      ...         ...          ...   \n",
       "6075      acept  not furnished    R$420     R$1,150          R$0   \n",
       "6076  not acept      furnished    R$768     R$2,900         R$63   \n",
       "6077      acept  not furnished    R$250       R$950         R$42   \n",
       "6078  not acept  not furnished      R$0     R$3,500        R$250   \n",
       "6079      acept      furnished    R$489     R$1,900          R$0   \n",
       "\n",
       "     fire insurance     total  \n",
       "0             R$121   R$9,121  \n",
       "1              R$11   R$1,493  \n",
       "2              R$89  R$12,680  \n",
       "3              R$16   R$2,116  \n",
       "4              R$16   R$1,257  \n",
       "...             ...       ...  \n",
       "6075           R$15   R$1,585  \n",
       "6076           R$37   R$3,768  \n",
       "6077           R$13   R$1,255  \n",
       "6078           R$53   R$3,803  \n",
       "6079           R$25   R$2,414  \n",
       "\n",
       "[6080 rows x 14 columns]"
      ]
     },
     "execution_count": 2,
     "metadata": {},
     "output_type": "execute_result"
    }
   ],
   "source": [
    "dataset = pd.read_csv('dataset-regression/dataset_houses.csv')\n",
    "dataset"
   ]
  },
  {
   "cell_type": "code",
<<<<<<< HEAD
   "execution_count": 7,
   "id": "2d6469cf",
   "metadata": {},
   "outputs": [
    {
     "data": {
      "text/plain": [
       "Index(['Unnamed: 0', 'city', 'area', 'rooms', 'bathroom', 'parking spaces',\n",
       "       'floor', 'animal', 'furniture', 'hoa', 'rent amount', 'property tax',\n",
       "       'fire insurance', 'total'],\n",
       "      dtype='object')"
      ]
     },
     "execution_count": 7,
     "metadata": {},
     "output_type": "execute_result"
    }
   ],
   "source": [
    "dataset.columns"
   ]
  },
  {
   "cell_type": "code",
   "execution_count": 8,
   "id": "a9205ce6",
   "metadata": {},
   "outputs": [],
   "source": [
    "if \"Unnamed: 0\" in dataset.columns:\n",
    "    dataset.drop([\"Unnamed: 0\"],axis=1,inplace=True)"
   ]
  },
  {
   "cell_type": "code",
   "execution_count": 9,
   "id": "34a91f24",
   "metadata": {},
   "outputs": [
    {
     "data": {
      "text/plain": [
       "Index(['city', 'area', 'rooms', 'bathroom', 'parking spaces', 'floor',\n",
       "       'animal', 'furniture', 'hoa', 'rent amount', 'property tax',\n",
       "       'fire insurance', 'total'],\n",
       "      dtype='object')"
      ]
     },
     "execution_count": 9,
     "metadata": {},
     "output_type": "execute_result"
    }
   ],
   "source": [
    "dataset.columns"
   ]
  },
  {
   "cell_type": "code",
   "execution_count": 10,
   "id": "64f50cdb",
=======
   "execution_count": 3,
   "id": "turkish-profession",
>>>>>>> f97285ceeb05b31cc1083aaec13c0f54310dbd46
   "metadata": {},
   "outputs": [],
   "source": [
    "if \"id\" in dataset.columns:\n",
    "    dataset.drop(\"id\",axis=1,inplace=True)\n",
    "if \"date\" or \"Date\"  in dataset.columns:\n",
    "    if(\"Date\" in dataset.columns):\n",
    "        dataset.drop(\"Date\",axis=1,inplace=True)\n",
    "    elif(\"date\" in dataset.columns):\n",
    "        dataset.drop(\"date\",axis=1,inplace=True)\n",
    "        "
   ]
  },
  {
   "cell_type": "code",
<<<<<<< HEAD
   "execution_count": 11,
   "id": "6bcf47a2",
=======
   "execution_count": 4,
   "id": "approved-series",
>>>>>>> f97285ceeb05b31cc1083aaec13c0f54310dbd46
   "metadata": {
    "scrolled": true
   },
   "outputs": [
    {
     "name": "stdout",
     "output_type": "stream",
     "text": [
      "<class 'pandas.core.frame.DataFrame'>\n",
      "RangeIndex: 6080 entries, 0 to 6079\n",
      "Data columns (total 13 columns):\n",
      " #   Column          Non-Null Count  Dtype \n",
      "---  ------          --------------  ----- \n",
      " 0   city            6080 non-null   int64 \n",
      " 1   area            6080 non-null   int64 \n",
      " 2   rooms           6080 non-null   int64 \n",
      " 3   bathroom        6080 non-null   int64 \n",
      " 4   parking spaces  6080 non-null   int64 \n",
      " 5   floor           6080 non-null   object\n",
      " 6   animal          6080 non-null   object\n",
      " 7   furniture       6080 non-null   object\n",
      " 8   hoa             6080 non-null   object\n",
      " 9   rent amount     6080 non-null   object\n",
      " 10  property tax    6080 non-null   object\n",
      " 11  fire insurance  6080 non-null   object\n",
      " 12  total           6080 non-null   object\n",
      "dtypes: int64(5), object(8)\n",
      "memory usage: 617.6+ KB\n"
     ]
    }
   ],
   "source": [
    "dataset.info()"
   ]
  },
  {
   "cell_type": "code",
<<<<<<< HEAD
   "execution_count": 12,
   "id": "610bb4a4",
=======
   "execution_count": 5,
   "id": "floppy-reduction",
>>>>>>> f97285ceeb05b31cc1083aaec13c0f54310dbd46
   "metadata": {},
   "outputs": [
    {
     "data": {
      "text/plain": [
       "city               int64\n",
       "area               int64\n",
       "rooms              int64\n",
       "bathroom           int64\n",
       "parking spaces     int64\n",
       "floor             object\n",
       "animal            object\n",
       "furniture         object\n",
       "hoa               object\n",
       "rent amount       object\n",
       "property tax      object\n",
       "fire insurance    object\n",
       "total             object\n",
       "dtype: object"
      ]
     },
<<<<<<< HEAD
     "execution_count": 12,
=======
     "execution_count": 5,
>>>>>>> f97285ceeb05b31cc1083aaec13c0f54310dbd46
     "metadata": {},
     "output_type": "execute_result"
    }
   ],
   "source": [
    "datatypes = dataset.dtypes\n",
    "datatypes"
   ]
  },
  {
   "cell_type": "code",
<<<<<<< HEAD
   "execution_count": 13,
   "id": "8f02c7d9",
=======
   "execution_count": 6,
   "id": "logical-variable",
>>>>>>> f97285ceeb05b31cc1083aaec13c0f54310dbd46
   "metadata": {},
   "outputs": [
    {
     "name": "stdout",
     "output_type": "stream",
     "text": [
      "Deleted:  hoa\n",
      "Deleted:  rent amount\n",
      "Deleted:  property tax\n"
     ]
    },
    {
     "data": {
      "text/plain": [
       "['city', 'area', 'rooms', 'bathroom', 'parking spaces']"
      ]
     },
<<<<<<< HEAD
     "execution_count": 13,
=======
     "execution_count": 6,
>>>>>>> f97285ceeb05b31cc1083aaec13c0f54310dbd46
     "metadata": {},
     "output_type": "execute_result"
    }
   ],
   "source": [
    "cat_cols = []\n",
    "num_cols = []\n",
    "id1 = \"id\"\n",
    "target_column = 'total'\n",
    "for i in range(len(datatypes)):\n",
    "    if datatypes.index[i] != target_column:\n",
    "        if datatypes[i]=='object':\n",
    "            unqval = dataset[datatypes.index[i]].nunique()\n",
    "            if (unqval < 300):\n",
    "                cat_cols.append(datatypes.index[i])\n",
    "            else:\n",
    "                del dataset[datatypes.index[i]]\n",
    "                print('Deleted: ',datatypes.index[i])\n",
    "        else:\n",
    "            num_cols.append(datatypes.index[i])\n",
    "num_cols"
   ]
  },
  {
   "cell_type": "code",
<<<<<<< HEAD
   "execution_count": 14,
   "id": "1e08bb37",
=======
   "execution_count": 7,
   "id": "sized-transsexual",
>>>>>>> f97285ceeb05b31cc1083aaec13c0f54310dbd46
   "metadata": {},
   "outputs": [
    {
     "data": {
      "text/plain": [
       "['floor', 'animal', 'furniture', 'fire insurance']"
      ]
     },
<<<<<<< HEAD
     "execution_count": 14,
=======
     "execution_count": 7,
>>>>>>> f97285ceeb05b31cc1083aaec13c0f54310dbd46
     "metadata": {},
     "output_type": "execute_result"
    }
   ],
   "source": [
    "cat_cols"
   ]
  },
  {
   "cell_type": "code",
<<<<<<< HEAD
   "execution_count": 101,
   "id": "328e4ba4",
=======
   "execution_count": 8,
   "id": "parallel-teach",
>>>>>>> f97285ceeb05b31cc1083aaec13c0f54310dbd46
   "metadata": {},
   "outputs": [],
   "source": [
    "cat_data = []\n",
    "num_data = []\n",
    "if(len(cat_cols)>0):\n",
    "    cat_data = dataset[cat_cols]\n",
    "if(len(num_cols)>0):\n",
    "    num_data = dataset[num_cols]\n",
    "y_data = dataset[target_column]"
   ]
  },
  {
   "cell_type": "code",
<<<<<<< HEAD
   "execution_count": 102,
   "id": "9ce677a2",
=======
   "execution_count": 9,
   "id": "tough-sponsorship",
>>>>>>> f97285ceeb05b31cc1083aaec13c0f54310dbd46
   "metadata": {},
   "outputs": [
    {
     "data": {
      "text/plain": [
       "(       year  mileage  tax   mpg  engineSize\n",
       " 0      2017    15735  150  55.4         1.4\n",
       " 1      2016    36203   20  64.2         2.0\n",
       " 2      2016    29946   30  55.4         1.4\n",
       " 3      2017    25952  145  67.3         2.0\n",
       " 4      2019     1998  145  49.6         1.0\n",
       " ...     ...      ...  ...   ...         ...\n",
       " 10663  2020     4018  145  49.6         1.0\n",
       " 10664  2020     1978  150  49.6         1.0\n",
       " 10665  2020      609  150  49.6         1.0\n",
       " 10666  2017     8646  150  47.9         1.4\n",
       " 10667  2016    11855  150  47.9         1.4\n",
       " \n",
       " [10668 rows x 5 columns],\n",
       "       model transmission fuelType\n",
       " 0        A1       Manual   Petrol\n",
       " 1        A6    Automatic   Diesel\n",
       " 2        A1       Manual   Petrol\n",
       " 3        A4    Automatic   Diesel\n",
       " 4        A3       Manual   Petrol\n",
       " ...     ...          ...      ...\n",
       " 10663    A3       Manual   Petrol\n",
       " 10664    A3       Manual   Petrol\n",
       " 10665    A3       Manual   Petrol\n",
       " 10666    Q3    Automatic   Petrol\n",
       " 10667    Q3       Manual   Petrol\n",
       " \n",
       " [10668 rows x 3 columns])"
      ]
     },
     "execution_count": 9,
     "metadata": {},
     "output_type": "execute_result"
    }
   ],
   "source": [
    "num_data,cat_data"
   ]
  },
  {
   "cell_type": "code",
<<<<<<< HEAD
   "execution_count": 103,
   "id": "0e0de7b2",
=======
   "execution_count": 10,
   "id": "modified-separation",
>>>>>>> f97285ceeb05b31cc1083aaec13c0f54310dbd46
   "metadata": {},
   "outputs": [
    {
     "data": {
      "text/html": [
       "<div>\n",
       "<style scoped>\n",
       "    .dataframe tbody tr th:only-of-type {\n",
       "        vertical-align: middle;\n",
       "    }\n",
       "\n",
       "    .dataframe tbody tr th {\n",
       "        vertical-align: top;\n",
       "    }\n",
       "\n",
       "    .dataframe thead th {\n",
       "        text-align: right;\n",
       "    }\n",
       "</style>\n",
       "<table border=\"1\" class=\"dataframe\">\n",
       "  <thead>\n",
       "    <tr style=\"text-align: right;\">\n",
       "      <th></th>\n",
       "      <th>year</th>\n",
       "      <th>mileage</th>\n",
       "      <th>tax</th>\n",
       "      <th>mpg</th>\n",
       "      <th>engineSize</th>\n",
       "    </tr>\n",
       "  </thead>\n",
       "  <tbody>\n",
       "    <tr>\n",
       "      <th>0</th>\n",
       "      <td>2017.0</td>\n",
       "      <td>15735.0</td>\n",
       "      <td>150.0</td>\n",
       "      <td>55.4</td>\n",
       "      <td>1.4</td>\n",
       "    </tr>\n",
       "    <tr>\n",
       "      <th>1</th>\n",
       "      <td>2016.0</td>\n",
       "      <td>36203.0</td>\n",
       "      <td>20.0</td>\n",
       "      <td>64.2</td>\n",
       "      <td>2.0</td>\n",
       "    </tr>\n",
       "    <tr>\n",
       "      <th>2</th>\n",
       "      <td>2016.0</td>\n",
       "      <td>29946.0</td>\n",
       "      <td>30.0</td>\n",
       "      <td>55.4</td>\n",
       "      <td>1.4</td>\n",
       "    </tr>\n",
       "    <tr>\n",
       "      <th>3</th>\n",
       "      <td>2017.0</td>\n",
       "      <td>25952.0</td>\n",
       "      <td>145.0</td>\n",
       "      <td>67.3</td>\n",
       "      <td>2.0</td>\n",
       "    </tr>\n",
       "    <tr>\n",
       "      <th>4</th>\n",
       "      <td>2019.0</td>\n",
       "      <td>1998.0</td>\n",
       "      <td>145.0</td>\n",
       "      <td>49.6</td>\n",
       "      <td>1.0</td>\n",
       "    </tr>\n",
       "    <tr>\n",
       "      <th>...</th>\n",
       "      <td>...</td>\n",
       "      <td>...</td>\n",
       "      <td>...</td>\n",
       "      <td>...</td>\n",
       "      <td>...</td>\n",
       "    </tr>\n",
       "    <tr>\n",
       "      <th>10663</th>\n",
       "      <td>2020.0</td>\n",
       "      <td>4018.0</td>\n",
       "      <td>145.0</td>\n",
       "      <td>49.6</td>\n",
       "      <td>1.0</td>\n",
       "    </tr>\n",
       "    <tr>\n",
       "      <th>10664</th>\n",
       "      <td>2020.0</td>\n",
       "      <td>1978.0</td>\n",
       "      <td>150.0</td>\n",
       "      <td>49.6</td>\n",
       "      <td>1.0</td>\n",
       "    </tr>\n",
       "    <tr>\n",
       "      <th>10665</th>\n",
       "      <td>2020.0</td>\n",
       "      <td>609.0</td>\n",
       "      <td>150.0</td>\n",
       "      <td>49.6</td>\n",
       "      <td>1.0</td>\n",
       "    </tr>\n",
       "    <tr>\n",
       "      <th>10666</th>\n",
       "      <td>2017.0</td>\n",
       "      <td>8646.0</td>\n",
       "      <td>150.0</td>\n",
       "      <td>47.9</td>\n",
       "      <td>1.4</td>\n",
       "    </tr>\n",
       "    <tr>\n",
       "      <th>10667</th>\n",
       "      <td>2016.0</td>\n",
       "      <td>11855.0</td>\n",
       "      <td>150.0</td>\n",
       "      <td>47.9</td>\n",
       "      <td>1.4</td>\n",
       "    </tr>\n",
       "  </tbody>\n",
       "</table>\n",
       "<p>10668 rows × 5 columns</p>\n",
       "</div>"
      ],
      "text/plain": [
       "         year  mileage    tax   mpg  engineSize\n",
       "0      2017.0  15735.0  150.0  55.4         1.4\n",
       "1      2016.0  36203.0   20.0  64.2         2.0\n",
       "2      2016.0  29946.0   30.0  55.4         1.4\n",
       "3      2017.0  25952.0  145.0  67.3         2.0\n",
       "4      2019.0   1998.0  145.0  49.6         1.0\n",
       "...       ...      ...    ...   ...         ...\n",
       "10663  2020.0   4018.0  145.0  49.6         1.0\n",
       "10664  2020.0   1978.0  150.0  49.6         1.0\n",
       "10665  2020.0    609.0  150.0  49.6         1.0\n",
       "10666  2017.0   8646.0  150.0  47.9         1.4\n",
       "10667  2016.0  11855.0  150.0  47.9         1.4\n",
       "\n",
       "[10668 rows x 5 columns]"
      ]
     },
     "execution_count": 10,
     "metadata": {},
     "output_type": "execute_result"
    }
   ],
   "source": [
    "if len(num_data):\n",
    "    from sklearn.impute import SimpleImputer\n",
    "    imputer = SimpleImputer(missing_values=np.nan, strategy = 'mean')\n",
    "    imputer.fit(num_data.iloc[:,:].values)\n",
    "    num_data = pd.DataFrame(imputer.transform(num_data.iloc[:,:].values))\n",
    "    num_data.columns = num_cols\n",
    "num_data"
   ]
  },
  {
   "cell_type": "code",
<<<<<<< HEAD
   "execution_count": 104,
   "id": "13435c93",
=======
   "execution_count": 11,
   "id": "computational-healing",
>>>>>>> f97285ceeb05b31cc1083aaec13c0f54310dbd46
   "metadata": {},
   "outputs": [
    {
     "name": "stdout",
     "output_type": "stream",
     "text": [
      "1\n"
     ]
    },
    {
     "data": {
      "text/html": [
       "<div>\n",
       "<style scoped>\n",
       "    .dataframe tbody tr th:only-of-type {\n",
       "        vertical-align: middle;\n",
       "    }\n",
       "\n",
       "    .dataframe tbody tr th {\n",
       "        vertical-align: top;\n",
       "    }\n",
       "\n",
       "    .dataframe thead th {\n",
       "        text-align: right;\n",
       "    }\n",
       "</style>\n",
       "<table border=\"1\" class=\"dataframe\">\n",
       "  <thead>\n",
       "    <tr style=\"text-align: right;\">\n",
       "      <th></th>\n",
       "      <th>year</th>\n",
       "      <th>mileage</th>\n",
       "      <th>tax</th>\n",
       "      <th>mpg</th>\n",
       "      <th>engineSize</th>\n",
       "      <th>model</th>\n",
       "      <th>transmission</th>\n",
       "      <th>fuelType</th>\n",
       "      <th>price</th>\n",
       "    </tr>\n",
       "  </thead>\n",
       "  <tbody>\n",
       "    <tr>\n",
       "      <th>0</th>\n",
       "      <td>2017.0</td>\n",
       "      <td>15735.0</td>\n",
       "      <td>150.0</td>\n",
       "      <td>55.4</td>\n",
       "      <td>1.4</td>\n",
       "      <td>A1</td>\n",
       "      <td>Manual</td>\n",
       "      <td>Petrol</td>\n",
       "      <td>12500</td>\n",
       "    </tr>\n",
       "    <tr>\n",
       "      <th>1</th>\n",
       "      <td>2016.0</td>\n",
       "      <td>36203.0</td>\n",
       "      <td>20.0</td>\n",
       "      <td>64.2</td>\n",
       "      <td>2.0</td>\n",
       "      <td>A6</td>\n",
       "      <td>Automatic</td>\n",
       "      <td>Diesel</td>\n",
       "      <td>16500</td>\n",
       "    </tr>\n",
       "    <tr>\n",
       "      <th>2</th>\n",
       "      <td>2016.0</td>\n",
       "      <td>29946.0</td>\n",
       "      <td>30.0</td>\n",
       "      <td>55.4</td>\n",
       "      <td>1.4</td>\n",
       "      <td>A1</td>\n",
       "      <td>Manual</td>\n",
       "      <td>Petrol</td>\n",
       "      <td>11000</td>\n",
       "    </tr>\n",
       "    <tr>\n",
       "      <th>3</th>\n",
       "      <td>2017.0</td>\n",
       "      <td>25952.0</td>\n",
       "      <td>145.0</td>\n",
       "      <td>67.3</td>\n",
       "      <td>2.0</td>\n",
       "      <td>A4</td>\n",
       "      <td>Automatic</td>\n",
       "      <td>Diesel</td>\n",
       "      <td>16800</td>\n",
       "    </tr>\n",
       "    <tr>\n",
       "      <th>4</th>\n",
       "      <td>2019.0</td>\n",
       "      <td>1998.0</td>\n",
       "      <td>145.0</td>\n",
       "      <td>49.6</td>\n",
       "      <td>1.0</td>\n",
       "      <td>A3</td>\n",
       "      <td>Manual</td>\n",
       "      <td>Petrol</td>\n",
       "      <td>17300</td>\n",
       "    </tr>\n",
       "    <tr>\n",
       "      <th>...</th>\n",
       "      <td>...</td>\n",
       "      <td>...</td>\n",
       "      <td>...</td>\n",
       "      <td>...</td>\n",
       "      <td>...</td>\n",
       "      <td>...</td>\n",
       "      <td>...</td>\n",
       "      <td>...</td>\n",
       "      <td>...</td>\n",
       "    </tr>\n",
       "    <tr>\n",
       "      <th>10663</th>\n",
       "      <td>2020.0</td>\n",
       "      <td>4018.0</td>\n",
       "      <td>145.0</td>\n",
       "      <td>49.6</td>\n",
       "      <td>1.0</td>\n",
       "      <td>A3</td>\n",
       "      <td>Manual</td>\n",
       "      <td>Petrol</td>\n",
       "      <td>16999</td>\n",
       "    </tr>\n",
       "    <tr>\n",
       "      <th>10664</th>\n",
       "      <td>2020.0</td>\n",
       "      <td>1978.0</td>\n",
       "      <td>150.0</td>\n",
       "      <td>49.6</td>\n",
       "      <td>1.0</td>\n",
       "      <td>A3</td>\n",
       "      <td>Manual</td>\n",
       "      <td>Petrol</td>\n",
       "      <td>16999</td>\n",
       "    </tr>\n",
       "    <tr>\n",
       "      <th>10665</th>\n",
       "      <td>2020.0</td>\n",
       "      <td>609.0</td>\n",
       "      <td>150.0</td>\n",
       "      <td>49.6</td>\n",
       "      <td>1.0</td>\n",
       "      <td>A3</td>\n",
       "      <td>Manual</td>\n",
       "      <td>Petrol</td>\n",
       "      <td>17199</td>\n",
       "    </tr>\n",
       "    <tr>\n",
       "      <th>10666</th>\n",
       "      <td>2017.0</td>\n",
       "      <td>8646.0</td>\n",
       "      <td>150.0</td>\n",
       "      <td>47.9</td>\n",
       "      <td>1.4</td>\n",
       "      <td>Q3</td>\n",
       "      <td>Automatic</td>\n",
       "      <td>Petrol</td>\n",
       "      <td>19499</td>\n",
       "    </tr>\n",
       "    <tr>\n",
       "      <th>10667</th>\n",
       "      <td>2016.0</td>\n",
       "      <td>11855.0</td>\n",
       "      <td>150.0</td>\n",
       "      <td>47.9</td>\n",
       "      <td>1.4</td>\n",
       "      <td>Q3</td>\n",
       "      <td>Manual</td>\n",
       "      <td>Petrol</td>\n",
       "      <td>15999</td>\n",
       "    </tr>\n",
       "  </tbody>\n",
       "</table>\n",
       "<p>10668 rows × 9 columns</p>\n",
       "</div>"
      ],
      "text/plain": [
       "         year  mileage    tax   mpg  engineSize model transmission fuelType  \\\n",
       "0      2017.0  15735.0  150.0  55.4         1.4    A1       Manual   Petrol   \n",
       "1      2016.0  36203.0   20.0  64.2         2.0    A6    Automatic   Diesel   \n",
       "2      2016.0  29946.0   30.0  55.4         1.4    A1       Manual   Petrol   \n",
       "3      2017.0  25952.0  145.0  67.3         2.0    A4    Automatic   Diesel   \n",
       "4      2019.0   1998.0  145.0  49.6         1.0    A3       Manual   Petrol   \n",
       "...       ...      ...    ...   ...         ...   ...          ...      ...   \n",
       "10663  2020.0   4018.0  145.0  49.6         1.0    A3       Manual   Petrol   \n",
       "10664  2020.0   1978.0  150.0  49.6         1.0    A3       Manual   Petrol   \n",
       "10665  2020.0    609.0  150.0  49.6         1.0    A3       Manual   Petrol   \n",
       "10666  2017.0   8646.0  150.0  47.9         1.4    Q3    Automatic   Petrol   \n",
       "10667  2016.0  11855.0  150.0  47.9         1.4    Q3       Manual   Petrol   \n",
       "\n",
       "       price  \n",
       "0      12500  \n",
       "1      16500  \n",
       "2      11000  \n",
       "3      16800  \n",
       "4      17300  \n",
       "...      ...  \n",
       "10663  16999  \n",
       "10664  16999  \n",
       "10665  17199  \n",
       "10666  19499  \n",
       "10667  15999  \n",
       "\n",
       "[10668 rows x 9 columns]"
      ]
     },
     "execution_count": 11,
     "metadata": {},
     "output_type": "execute_result"
    }
   ],
   "source": [
    "if(len(cat_data)>0 and len(num_data)>0):\n",
    "    print(\"1\")\n",
    "    df = pd.concat([num_data,cat_data,y_data],axis=1)\n",
    "    df = df.dropna().reset_index(drop=True)\n",
    "    df.isnull().sum()\n",
    "elif(len(num_data) > 0):\n",
    "    print(\"2\")\n",
    "    df = pd.concat([num_data,y_data],axis=1)\n",
    "    df = df.dropna().reset_index(drop=True)\n",
    "else:\n",
    "    print(\"3\")\n",
    "    df = pd.concat([cat_data,y_data],axis=1)\n",
    "    df = df.dropna().reset_index(drop=True)\n",
    "(df)"
   ]
  },
  {
   "cell_type": "code",
<<<<<<< HEAD
   "execution_count": 105,
   "id": "468399fb",
=======
   "execution_count": 12,
   "id": "circular-thomson",
>>>>>>> f97285ceeb05b31cc1083aaec13c0f54310dbd46
   "metadata": {},
   "outputs": [
    {
     "data": {
      "text/plain": [
       "10668"
      ]
     },
     "execution_count": 12,
     "metadata": {},
     "output_type": "execute_result"
    }
   ],
   "source": [
    "cat_data = df[cat_cols]\n",
    "num_data = df[num_cols]\n",
    "y_data = df[target_column]\n",
    "df.drop(target_column,inplace=True,axis=1)\n",
    "len(y_data)"
   ]
  },
  {
   "cell_type": "code",
<<<<<<< HEAD
   "execution_count": 106,
   "id": "b76c2e98",
=======
   "execution_count": 13,
   "id": "negative-veteran",
>>>>>>> f97285ceeb05b31cc1083aaec13c0f54310dbd46
   "metadata": {},
   "outputs": [
    {
     "data": {
      "text/plain": [
       "0        12500\n",
       "1        16500\n",
       "2        11000\n",
       "3        16800\n",
       "4        17300\n",
       "         ...  \n",
       "10663    16999\n",
       "10664    16999\n",
       "10665    17199\n",
       "10666    19499\n",
       "10667    15999\n",
       "Name: price, Length: 10668, dtype: int64"
      ]
     },
     "execution_count": 13,
     "metadata": {},
     "output_type": "execute_result"
    }
   ],
   "source": [
    "y_data"
   ]
  },
  {
   "cell_type": "code",
<<<<<<< HEAD
   "execution_count": 107,
   "id": "e1f63061",
=======
   "execution_count": 14,
   "id": "dental-carroll",
>>>>>>> f97285ceeb05b31cc1083aaec13c0f54310dbd46
   "metadata": {},
   "outputs": [
    {
     "data": {
      "text/html": [
       "<div>\n",
       "<style scoped>\n",
       "    .dataframe tbody tr th:only-of-type {\n",
       "        vertical-align: middle;\n",
       "    }\n",
       "\n",
       "    .dataframe tbody tr th {\n",
       "        vertical-align: top;\n",
       "    }\n",
       "\n",
       "    .dataframe thead th {\n",
       "        text-align: right;\n",
       "    }\n",
       "</style>\n",
       "<table border=\"1\" class=\"dataframe\">\n",
       "  <thead>\n",
       "    <tr style=\"text-align: right;\">\n",
       "      <th></th>\n",
       "      <th>year</th>\n",
       "      <th>mileage</th>\n",
       "      <th>tax</th>\n",
       "      <th>mpg</th>\n",
       "      <th>engineSize</th>\n",
       "      <th>model</th>\n",
       "      <th>transmission</th>\n",
       "      <th>fuelType</th>\n",
       "    </tr>\n",
       "  </thead>\n",
       "  <tbody>\n",
       "    <tr>\n",
       "      <th>0</th>\n",
       "      <td>2017.0</td>\n",
       "      <td>15735.0</td>\n",
       "      <td>150.0</td>\n",
       "      <td>55.4</td>\n",
       "      <td>1.4</td>\n",
       "      <td>A1</td>\n",
       "      <td>Manual</td>\n",
       "      <td>Petrol</td>\n",
       "    </tr>\n",
       "    <tr>\n",
       "      <th>1</th>\n",
       "      <td>2016.0</td>\n",
       "      <td>36203.0</td>\n",
       "      <td>20.0</td>\n",
       "      <td>64.2</td>\n",
       "      <td>2.0</td>\n",
       "      <td>A6</td>\n",
       "      <td>Automatic</td>\n",
       "      <td>Diesel</td>\n",
       "    </tr>\n",
       "    <tr>\n",
       "      <th>2</th>\n",
       "      <td>2016.0</td>\n",
       "      <td>29946.0</td>\n",
       "      <td>30.0</td>\n",
       "      <td>55.4</td>\n",
       "      <td>1.4</td>\n",
       "      <td>A1</td>\n",
       "      <td>Manual</td>\n",
       "      <td>Petrol</td>\n",
       "    </tr>\n",
       "    <tr>\n",
       "      <th>3</th>\n",
       "      <td>2017.0</td>\n",
       "      <td>25952.0</td>\n",
       "      <td>145.0</td>\n",
       "      <td>67.3</td>\n",
       "      <td>2.0</td>\n",
       "      <td>A4</td>\n",
       "      <td>Automatic</td>\n",
       "      <td>Diesel</td>\n",
       "    </tr>\n",
       "    <tr>\n",
       "      <th>4</th>\n",
       "      <td>2019.0</td>\n",
       "      <td>1998.0</td>\n",
       "      <td>145.0</td>\n",
       "      <td>49.6</td>\n",
       "      <td>1.0</td>\n",
       "      <td>A3</td>\n",
       "      <td>Manual</td>\n",
       "      <td>Petrol</td>\n",
       "    </tr>\n",
       "    <tr>\n",
       "      <th>...</th>\n",
       "      <td>...</td>\n",
       "      <td>...</td>\n",
       "      <td>...</td>\n",
       "      <td>...</td>\n",
       "      <td>...</td>\n",
       "      <td>...</td>\n",
       "      <td>...</td>\n",
       "      <td>...</td>\n",
       "    </tr>\n",
       "    <tr>\n",
       "      <th>10663</th>\n",
       "      <td>2020.0</td>\n",
       "      <td>4018.0</td>\n",
       "      <td>145.0</td>\n",
       "      <td>49.6</td>\n",
       "      <td>1.0</td>\n",
       "      <td>A3</td>\n",
       "      <td>Manual</td>\n",
       "      <td>Petrol</td>\n",
       "    </tr>\n",
       "    <tr>\n",
       "      <th>10664</th>\n",
       "      <td>2020.0</td>\n",
       "      <td>1978.0</td>\n",
       "      <td>150.0</td>\n",
       "      <td>49.6</td>\n",
       "      <td>1.0</td>\n",
       "      <td>A3</td>\n",
       "      <td>Manual</td>\n",
       "      <td>Petrol</td>\n",
       "    </tr>\n",
       "    <tr>\n",
       "      <th>10665</th>\n",
       "      <td>2020.0</td>\n",
       "      <td>609.0</td>\n",
       "      <td>150.0</td>\n",
       "      <td>49.6</td>\n",
       "      <td>1.0</td>\n",
       "      <td>A3</td>\n",
       "      <td>Manual</td>\n",
       "      <td>Petrol</td>\n",
       "    </tr>\n",
       "    <tr>\n",
       "      <th>10666</th>\n",
       "      <td>2017.0</td>\n",
       "      <td>8646.0</td>\n",
       "      <td>150.0</td>\n",
       "      <td>47.9</td>\n",
       "      <td>1.4</td>\n",
       "      <td>Q3</td>\n",
       "      <td>Automatic</td>\n",
       "      <td>Petrol</td>\n",
       "    </tr>\n",
       "    <tr>\n",
       "      <th>10667</th>\n",
       "      <td>2016.0</td>\n",
       "      <td>11855.0</td>\n",
       "      <td>150.0</td>\n",
       "      <td>47.9</td>\n",
       "      <td>1.4</td>\n",
       "      <td>Q3</td>\n",
       "      <td>Manual</td>\n",
       "      <td>Petrol</td>\n",
       "    </tr>\n",
       "  </tbody>\n",
       "</table>\n",
       "<p>10668 rows × 8 columns</p>\n",
       "</div>"
      ],
      "text/plain": [
       "         year  mileage    tax   mpg  engineSize model transmission fuelType\n",
       "0      2017.0  15735.0  150.0  55.4         1.4    A1       Manual   Petrol\n",
       "1      2016.0  36203.0   20.0  64.2         2.0    A6    Automatic   Diesel\n",
       "2      2016.0  29946.0   30.0  55.4         1.4    A1       Manual   Petrol\n",
       "3      2017.0  25952.0  145.0  67.3         2.0    A4    Automatic   Diesel\n",
       "4      2019.0   1998.0  145.0  49.6         1.0    A3       Manual   Petrol\n",
       "...       ...      ...    ...   ...         ...   ...          ...      ...\n",
       "10663  2020.0   4018.0  145.0  49.6         1.0    A3       Manual   Petrol\n",
       "10664  2020.0   1978.0  150.0  49.6         1.0    A3       Manual   Petrol\n",
       "10665  2020.0    609.0  150.0  49.6         1.0    A3       Manual   Petrol\n",
       "10666  2017.0   8646.0  150.0  47.9         1.4    Q3    Automatic   Petrol\n",
       "10667  2016.0  11855.0  150.0  47.9         1.4    Q3       Manual   Petrol\n",
       "\n",
       "[10668 rows x 8 columns]"
      ]
     },
     "execution_count": 14,
     "metadata": {},
     "output_type": "execute_result"
    }
   ],
   "source": [
    "df"
   ]
  },
  {
   "cell_type": "code",
<<<<<<< HEAD
   "execution_count": 108,
   "id": "1beafdc7",
=======
   "execution_count": 15,
   "id": "skilled-stylus",
>>>>>>> f97285ceeb05b31cc1083aaec13c0f54310dbd46
   "metadata": {},
   "outputs": [],
   "source": [
    "#if len(cat_cols):\n",
    "from sklearn.preprocessing import OneHotEncoder\n",
    "\n",
    "# Apply one-hot encoder to each column with categorical data\n",
    "OH_encoder = OneHotEncoder(handle_unknown='ignore', sparse=False)\n",
    "X_encoded = pd.DataFrame(OH_encoder.fit_transform(df[cat_cols]))\n",
    "\n",
    "# One-hot encoding removed index; put it back\n",
    "X_encoded.index = df.index\n",
    "\n",
    "# Remove categorical columns (will replace with one-hot encoding)\n",
    "num_X = df.drop(cat_cols, axis=1)\n",
    "\n",
    "# Add one-hot encoded columns to numerical features\n",
    "OH_X = pd.concat([num_X, X_encoded], axis=1)"
   ]
  },
  {
   "cell_type": "code",
<<<<<<< HEAD
   "execution_count": 109,
   "id": "6411b8d9",
=======
   "execution_count": 16,
   "id": "average-superintendent",
>>>>>>> f97285ceeb05b31cc1083aaec13c0f54310dbd46
   "metadata": {},
   "outputs": [
    {
     "data": {
      "text/html": [
       "<div>\n",
       "<style scoped>\n",
       "    .dataframe tbody tr th:only-of-type {\n",
       "        vertical-align: middle;\n",
       "    }\n",
       "\n",
       "    .dataframe tbody tr th {\n",
       "        vertical-align: top;\n",
       "    }\n",
       "\n",
       "    .dataframe thead th {\n",
       "        text-align: right;\n",
       "    }\n",
       "</style>\n",
       "<table border=\"1\" class=\"dataframe\">\n",
       "  <thead>\n",
       "    <tr style=\"text-align: right;\">\n",
       "      <th></th>\n",
       "      <th>year</th>\n",
       "      <th>mileage</th>\n",
       "      <th>tax</th>\n",
       "      <th>mpg</th>\n",
       "      <th>engineSize</th>\n",
       "      <th>0</th>\n",
       "      <th>1</th>\n",
       "      <th>2</th>\n",
       "      <th>3</th>\n",
       "      <th>4</th>\n",
       "      <th>...</th>\n",
       "      <th>22</th>\n",
       "      <th>23</th>\n",
       "      <th>24</th>\n",
       "      <th>25</th>\n",
       "      <th>26</th>\n",
       "      <th>27</th>\n",
       "      <th>28</th>\n",
       "      <th>29</th>\n",
       "      <th>30</th>\n",
       "      <th>31</th>\n",
       "    </tr>\n",
       "  </thead>\n",
       "  <tbody>\n",
       "    <tr>\n",
       "      <th>0</th>\n",
       "      <td>2017.0</td>\n",
       "      <td>15735.0</td>\n",
       "      <td>150.0</td>\n",
       "      <td>55.4</td>\n",
       "      <td>1.4</td>\n",
       "      <td>1.0</td>\n",
       "      <td>0.0</td>\n",
       "      <td>0.0</td>\n",
       "      <td>0.0</td>\n",
       "      <td>0.0</td>\n",
       "      <td>...</td>\n",
       "      <td>0.0</td>\n",
       "      <td>0.0</td>\n",
       "      <td>0.0</td>\n",
       "      <td>0.0</td>\n",
       "      <td>0.0</td>\n",
       "      <td>1.0</td>\n",
       "      <td>0.0</td>\n",
       "      <td>0.0</td>\n",
       "      <td>0.0</td>\n",
       "      <td>1.0</td>\n",
       "    </tr>\n",
       "    <tr>\n",
       "      <th>1</th>\n",
       "      <td>2016.0</td>\n",
       "      <td>36203.0</td>\n",
       "      <td>20.0</td>\n",
       "      <td>64.2</td>\n",
       "      <td>2.0</td>\n",
       "      <td>0.0</td>\n",
       "      <td>0.0</td>\n",
       "      <td>0.0</td>\n",
       "      <td>0.0</td>\n",
       "      <td>0.0</td>\n",
       "      <td>...</td>\n",
       "      <td>0.0</td>\n",
       "      <td>0.0</td>\n",
       "      <td>0.0</td>\n",
       "      <td>0.0</td>\n",
       "      <td>1.0</td>\n",
       "      <td>0.0</td>\n",
       "      <td>0.0</td>\n",
       "      <td>1.0</td>\n",
       "      <td>0.0</td>\n",
       "      <td>0.0</td>\n",
       "    </tr>\n",
       "    <tr>\n",
       "      <th>2</th>\n",
       "      <td>2016.0</td>\n",
       "      <td>29946.0</td>\n",
       "      <td>30.0</td>\n",
       "      <td>55.4</td>\n",
       "      <td>1.4</td>\n",
       "      <td>1.0</td>\n",
       "      <td>0.0</td>\n",
       "      <td>0.0</td>\n",
       "      <td>0.0</td>\n",
       "      <td>0.0</td>\n",
       "      <td>...</td>\n",
       "      <td>0.0</td>\n",
       "      <td>0.0</td>\n",
       "      <td>0.0</td>\n",
       "      <td>0.0</td>\n",
       "      <td>0.0</td>\n",
       "      <td>1.0</td>\n",
       "      <td>0.0</td>\n",
       "      <td>0.0</td>\n",
       "      <td>0.0</td>\n",
       "      <td>1.0</td>\n",
       "    </tr>\n",
       "    <tr>\n",
       "      <th>3</th>\n",
       "      <td>2017.0</td>\n",
       "      <td>25952.0</td>\n",
       "      <td>145.0</td>\n",
       "      <td>67.3</td>\n",
       "      <td>2.0</td>\n",
       "      <td>0.0</td>\n",
       "      <td>0.0</td>\n",
       "      <td>0.0</td>\n",
       "      <td>1.0</td>\n",
       "      <td>0.0</td>\n",
       "      <td>...</td>\n",
       "      <td>0.0</td>\n",
       "      <td>0.0</td>\n",
       "      <td>0.0</td>\n",
       "      <td>0.0</td>\n",
       "      <td>1.0</td>\n",
       "      <td>0.0</td>\n",
       "      <td>0.0</td>\n",
       "      <td>1.0</td>\n",
       "      <td>0.0</td>\n",
       "      <td>0.0</td>\n",
       "    </tr>\n",
       "    <tr>\n",
       "      <th>4</th>\n",
       "      <td>2019.0</td>\n",
       "      <td>1998.0</td>\n",
       "      <td>145.0</td>\n",
       "      <td>49.6</td>\n",
       "      <td>1.0</td>\n",
       "      <td>0.0</td>\n",
       "      <td>0.0</td>\n",
       "      <td>1.0</td>\n",
       "      <td>0.0</td>\n",
       "      <td>0.0</td>\n",
       "      <td>...</td>\n",
       "      <td>0.0</td>\n",
       "      <td>0.0</td>\n",
       "      <td>0.0</td>\n",
       "      <td>0.0</td>\n",
       "      <td>0.0</td>\n",
       "      <td>1.0</td>\n",
       "      <td>0.0</td>\n",
       "      <td>0.0</td>\n",
       "      <td>0.0</td>\n",
       "      <td>1.0</td>\n",
       "    </tr>\n",
       "    <tr>\n",
       "      <th>...</th>\n",
       "      <td>...</td>\n",
       "      <td>...</td>\n",
       "      <td>...</td>\n",
       "      <td>...</td>\n",
       "      <td>...</td>\n",
       "      <td>...</td>\n",
       "      <td>...</td>\n",
       "      <td>...</td>\n",
       "      <td>...</td>\n",
       "      <td>...</td>\n",
       "      <td>...</td>\n",
       "      <td>...</td>\n",
       "      <td>...</td>\n",
       "      <td>...</td>\n",
       "      <td>...</td>\n",
       "      <td>...</td>\n",
       "      <td>...</td>\n",
       "      <td>...</td>\n",
       "      <td>...</td>\n",
       "      <td>...</td>\n",
       "      <td>...</td>\n",
       "    </tr>\n",
       "    <tr>\n",
       "      <th>10663</th>\n",
       "      <td>2020.0</td>\n",
       "      <td>4018.0</td>\n",
       "      <td>145.0</td>\n",
       "      <td>49.6</td>\n",
       "      <td>1.0</td>\n",
       "      <td>0.0</td>\n",
       "      <td>0.0</td>\n",
       "      <td>1.0</td>\n",
       "      <td>0.0</td>\n",
       "      <td>0.0</td>\n",
       "      <td>...</td>\n",
       "      <td>0.0</td>\n",
       "      <td>0.0</td>\n",
       "      <td>0.0</td>\n",
       "      <td>0.0</td>\n",
       "      <td>0.0</td>\n",
       "      <td>1.0</td>\n",
       "      <td>0.0</td>\n",
       "      <td>0.0</td>\n",
       "      <td>0.0</td>\n",
       "      <td>1.0</td>\n",
       "    </tr>\n",
       "    <tr>\n",
       "      <th>10664</th>\n",
       "      <td>2020.0</td>\n",
       "      <td>1978.0</td>\n",
       "      <td>150.0</td>\n",
       "      <td>49.6</td>\n",
       "      <td>1.0</td>\n",
       "      <td>0.0</td>\n",
       "      <td>0.0</td>\n",
       "      <td>1.0</td>\n",
       "      <td>0.0</td>\n",
       "      <td>0.0</td>\n",
       "      <td>...</td>\n",
       "      <td>0.0</td>\n",
       "      <td>0.0</td>\n",
       "      <td>0.0</td>\n",
       "      <td>0.0</td>\n",
       "      <td>0.0</td>\n",
       "      <td>1.0</td>\n",
       "      <td>0.0</td>\n",
       "      <td>0.0</td>\n",
       "      <td>0.0</td>\n",
       "      <td>1.0</td>\n",
       "    </tr>\n",
       "    <tr>\n",
       "      <th>10665</th>\n",
       "      <td>2020.0</td>\n",
       "      <td>609.0</td>\n",
       "      <td>150.0</td>\n",
       "      <td>49.6</td>\n",
       "      <td>1.0</td>\n",
       "      <td>0.0</td>\n",
       "      <td>0.0</td>\n",
       "      <td>1.0</td>\n",
       "      <td>0.0</td>\n",
       "      <td>0.0</td>\n",
       "      <td>...</td>\n",
       "      <td>0.0</td>\n",
       "      <td>0.0</td>\n",
       "      <td>0.0</td>\n",
       "      <td>0.0</td>\n",
       "      <td>0.0</td>\n",
       "      <td>1.0</td>\n",
       "      <td>0.0</td>\n",
       "      <td>0.0</td>\n",
       "      <td>0.0</td>\n",
       "      <td>1.0</td>\n",
       "    </tr>\n",
       "    <tr>\n",
       "      <th>10666</th>\n",
       "      <td>2017.0</td>\n",
       "      <td>8646.0</td>\n",
       "      <td>150.0</td>\n",
       "      <td>47.9</td>\n",
       "      <td>1.4</td>\n",
       "      <td>0.0</td>\n",
       "      <td>0.0</td>\n",
       "      <td>0.0</td>\n",
       "      <td>0.0</td>\n",
       "      <td>0.0</td>\n",
       "      <td>...</td>\n",
       "      <td>0.0</td>\n",
       "      <td>0.0</td>\n",
       "      <td>0.0</td>\n",
       "      <td>0.0</td>\n",
       "      <td>1.0</td>\n",
       "      <td>0.0</td>\n",
       "      <td>0.0</td>\n",
       "      <td>0.0</td>\n",
       "      <td>0.0</td>\n",
       "      <td>1.0</td>\n",
       "    </tr>\n",
       "    <tr>\n",
       "      <th>10667</th>\n",
       "      <td>2016.0</td>\n",
       "      <td>11855.0</td>\n",
       "      <td>150.0</td>\n",
       "      <td>47.9</td>\n",
       "      <td>1.4</td>\n",
       "      <td>0.0</td>\n",
       "      <td>0.0</td>\n",
       "      <td>0.0</td>\n",
       "      <td>0.0</td>\n",
       "      <td>0.0</td>\n",
       "      <td>...</td>\n",
       "      <td>0.0</td>\n",
       "      <td>0.0</td>\n",
       "      <td>0.0</td>\n",
       "      <td>0.0</td>\n",
       "      <td>0.0</td>\n",
       "      <td>1.0</td>\n",
       "      <td>0.0</td>\n",
       "      <td>0.0</td>\n",
       "      <td>0.0</td>\n",
       "      <td>1.0</td>\n",
       "    </tr>\n",
       "  </tbody>\n",
       "</table>\n",
       "<p>10668 rows × 37 columns</p>\n",
       "</div>"
      ],
      "text/plain": [
       "         year  mileage    tax   mpg  engineSize    0    1    2    3    4  ...  \\\n",
       "0      2017.0  15735.0  150.0  55.4         1.4  1.0  0.0  0.0  0.0  0.0  ...   \n",
       "1      2016.0  36203.0   20.0  64.2         2.0  0.0  0.0  0.0  0.0  0.0  ...   \n",
       "2      2016.0  29946.0   30.0  55.4         1.4  1.0  0.0  0.0  0.0  0.0  ...   \n",
       "3      2017.0  25952.0  145.0  67.3         2.0  0.0  0.0  0.0  1.0  0.0  ...   \n",
       "4      2019.0   1998.0  145.0  49.6         1.0  0.0  0.0  1.0  0.0  0.0  ...   \n",
       "...       ...      ...    ...   ...         ...  ...  ...  ...  ...  ...  ...   \n",
       "10663  2020.0   4018.0  145.0  49.6         1.0  0.0  0.0  1.0  0.0  0.0  ...   \n",
       "10664  2020.0   1978.0  150.0  49.6         1.0  0.0  0.0  1.0  0.0  0.0  ...   \n",
       "10665  2020.0    609.0  150.0  49.6         1.0  0.0  0.0  1.0  0.0  0.0  ...   \n",
       "10666  2017.0   8646.0  150.0  47.9         1.4  0.0  0.0  0.0  0.0  0.0  ...   \n",
       "10667  2016.0  11855.0  150.0  47.9         1.4  0.0  0.0  0.0  0.0  0.0  ...   \n",
       "\n",
       "        22   23   24   25   26   27   28   29   30   31  \n",
       "0      0.0  0.0  0.0  0.0  0.0  1.0  0.0  0.0  0.0  1.0  \n",
       "1      0.0  0.0  0.0  0.0  1.0  0.0  0.0  1.0  0.0  0.0  \n",
       "2      0.0  0.0  0.0  0.0  0.0  1.0  0.0  0.0  0.0  1.0  \n",
       "3      0.0  0.0  0.0  0.0  1.0  0.0  0.0  1.0  0.0  0.0  \n",
       "4      0.0  0.0  0.0  0.0  0.0  1.0  0.0  0.0  0.0  1.0  \n",
       "...    ...  ...  ...  ...  ...  ...  ...  ...  ...  ...  \n",
       "10663  0.0  0.0  0.0  0.0  0.0  1.0  0.0  0.0  0.0  1.0  \n",
       "10664  0.0  0.0  0.0  0.0  0.0  1.0  0.0  0.0  0.0  1.0  \n",
       "10665  0.0  0.0  0.0  0.0  0.0  1.0  0.0  0.0  0.0  1.0  \n",
       "10666  0.0  0.0  0.0  0.0  1.0  0.0  0.0  0.0  0.0  1.0  \n",
       "10667  0.0  0.0  0.0  0.0  0.0  1.0  0.0  0.0  0.0  1.0  \n",
       "\n",
       "[10668 rows x 37 columns]"
      ]
     },
     "execution_count": 16,
     "metadata": {},
     "output_type": "execute_result"
    }
   ],
   "source": [
    "OH_X"
   ]
  },
  {
   "cell_type": "code",
<<<<<<< HEAD
   "execution_count": 110,
   "id": "1197a3bd",
=======
   "execution_count": 17,
   "id": "incredible-capacity",
>>>>>>> f97285ceeb05b31cc1083aaec13c0f54310dbd46
   "metadata": {},
   "outputs": [
    {
     "data": {
      "text/plain": [
       "10668"
      ]
     },
     "execution_count": 17,
     "metadata": {},
     "output_type": "execute_result"
    }
   ],
   "source": [
    "count = y_data.value_counts()\n",
    "count\n",
    "len(y_data)"
   ]
  },
  {
   "cell_type": "code",
<<<<<<< HEAD
   "execution_count": 111,
   "id": "e0663a69",
=======
   "execution_count": 18,
   "id": "greek-announcement",
>>>>>>> f97285ceeb05b31cc1083aaec13c0f54310dbd46
   "metadata": {},
   "outputs": [],
   "source": [
    "from sklearn.preprocessing import StandardScaler\n",
    "sc_x = StandardScaler()\n",
    "OH_X = sc_x.fit_transform(OH_X)"
   ]
  },
  {
   "cell_type": "code",
<<<<<<< HEAD
   "execution_count": 112,
   "id": "5dd5cef4",
=======
   "execution_count": 19,
   "id": "incredible-evolution",
>>>>>>> f97285ceeb05b31cc1083aaec13c0f54310dbd46
   "metadata": {},
   "outputs": [],
   "source": [
    "y_data = y_data.iloc[:].values\n",
    "y_data = y_data.reshape(len(y_data),1)"
   ]
  },
  {
   "cell_type": "code",
<<<<<<< HEAD
   "execution_count": 113,
   "id": "821c3fdc",
=======
   "execution_count": 20,
   "id": "hidden-borough",
>>>>>>> f97285ceeb05b31cc1083aaec13c0f54310dbd46
   "metadata": {},
   "outputs": [
    {
     "data": {
      "text/plain": [
       "(10668, 1)"
      ]
     },
     "execution_count": 20,
     "metadata": {},
     "output_type": "execute_result"
    }
   ],
   "source": [
    "sc_y = StandardScaler()\n",
    "y_data = sc_y.fit_transform(y_data)\n",
    "y_data.shape"
   ]
  },
  {
   "cell_type": "code",
<<<<<<< HEAD
   "execution_count": 114,
   "id": "39358233",
=======
   "execution_count": 21,
   "id": "criminal-retailer",
>>>>>>> f97285ceeb05b31cc1083aaec13c0f54310dbd46
   "metadata": {},
   "outputs": [
    {
     "data": {
      "text/plain": [
       "(10668, 37)"
      ]
     },
     "execution_count": 21,
     "metadata": {},
     "output_type": "execute_result"
    }
   ],
   "source": [
    "OH_X.shape"
   ]
  },
  {
   "cell_type": "code",
<<<<<<< HEAD
   "execution_count": 115,
   "id": "d2b6481f",
=======
   "execution_count": 22,
   "id": "worthy-building",
>>>>>>> f97285ceeb05b31cc1083aaec13c0f54310dbd46
   "metadata": {},
   "outputs": [
    {
     "data": {
      "text/plain": [
       "array([[-0.04644979, -0.3868356 ,  0.35714729, ..., -1.04664348,\n",
       "        -0.05129892,  1.05216498],\n",
       "       [-0.50783377,  0.48398914, -1.57832278, ...,  0.95543518,\n",
       "        -0.05129892, -0.95042129],\n",
       "       [-0.50783377,  0.21778089, -1.42944047, ..., -1.04664348,\n",
       "        -0.05129892,  1.05216498],\n",
       "       ...,\n",
       "       [ 1.33770214, -1.03038137,  0.35714729, ..., -1.04664348,\n",
       "        -0.05129892,  1.05216498],\n",
       "       [-0.04644979, -0.68844184,  0.35714729, ..., -1.04664348,\n",
       "        -0.05129892,  1.05216498],\n",
       "       [-0.50783377, -0.55191279,  0.35714729, ..., -1.04664348,\n",
       "        -0.05129892,  1.05216498]])"
      ]
     },
     "execution_count": 22,
     "metadata": {},
     "output_type": "execute_result"
    }
   ],
   "source": [
    "OH_X"
   ]
  },
  {
   "cell_type": "code",
<<<<<<< HEAD
   "execution_count": 116,
   "id": "eedd9cec",
=======
   "execution_count": 23,
   "id": "fixed-yacht",
>>>>>>> f97285ceeb05b31cc1083aaec13c0f54310dbd46
   "metadata": {},
   "outputs": [
    {
     "data": {
      "text/plain": [
       "array([[-0.88752136],\n",
       "       [-0.54605815],\n",
       "       [-1.01557006],\n",
       "       ...,\n",
       "       [-0.48638745],\n",
       "       [-0.29004611],\n",
       "       [-0.58882641]])"
      ]
     },
     "execution_count": 23,
     "metadata": {},
     "output_type": "execute_result"
    }
   ],
   "source": [
    "y_data"
   ]
  },
  {
   "cell_type": "code",
<<<<<<< HEAD
   "execution_count": 117,
   "id": "b8a2cb67",
=======
   "execution_count": 24,
   "id": "continental-voluntary",
>>>>>>> f97285ceeb05b31cc1083aaec13c0f54310dbd46
   "metadata": {},
   "outputs": [],
   "source": [
    "from sklearn.model_selection import train_test_split"
   ]
  },
  {
   "cell_type": "code",
<<<<<<< HEAD
   "execution_count": 118,
   "id": "16805902",
=======
   "execution_count": 25,
   "id": "taken-illustration",
>>>>>>> f97285ceeb05b31cc1083aaec13c0f54310dbd46
   "metadata": {},
   "outputs": [],
   "source": [
    "X_train,X_test,y_train,y_test = train_test_split(OH_X,y_data,test_size=0.2,random_state=0)"
   ]
  },
  {
   "cell_type": "code",
<<<<<<< HEAD
   "execution_count": 119,
   "id": "342100d4",
=======
   "execution_count": 26,
   "id": "diverse-victim",
>>>>>>> f97285ceeb05b31cc1083aaec13c0f54310dbd46
   "metadata": {},
   "outputs": [],
   "source": [
    "# from sklearn.ensemble import RandomForestRegressor\n",
    "# from sklearn.metrics import accuracy_score,confusion_matrix\n",
    "# nodes = [10,15,20,25,50,100,200]\n",
    "# accuracy =[]\n",
    "# for node in nodes:    \n",
    "#     model = RandomForestRegressor(random_state=0, n_estimators=node)\n",
    "#     model.fit(X_train,y_train)\n",
    "#     preds = model.predict(X_test)"
   ]
  },
  {
   "cell_type": "code",
<<<<<<< HEAD
   "execution_count": 120,
   "id": "5ada0bdd",
=======
   "execution_count": 27,
   "id": "graphic-turkish",
>>>>>>> f97285ceeb05b31cc1083aaec13c0f54310dbd46
   "metadata": {},
   "outputs": [],
   "source": [
    "#     accs = accuracy_score(y_test,preds)\n",
    "#     accuracy.append(accs)\n",
    "#     print(confusion_matrix(y_test,preds),'No of Estimators: ', node,accs)"
   ]
  },
  {
   "cell_type": "code",
<<<<<<< HEAD
   "execution_count": 121,
   "id": "b32b3ba2",
=======
   "execution_count": 28,
   "id": "amazing-bulletin",
>>>>>>> f97285ceeb05b31cc1083aaec13c0f54310dbd46
   "metadata": {},
   "outputs": [
    {
     "name": "stderr",
     "output_type": "stream",
     "text": [
      "C:\\ProgramData\\Anaconda3\\lib\\site-packages\\sklearn\\utils\\validation.py:63: DataConversionWarning: A column-vector y was passed when a 1d array was expected. Please change the shape of y to (n_samples, ), for example using ravel().\n",
      "  return f(*args, **kwargs)\n"
     ]
    },
    {
     "data": {
      "text/plain": [
       "SVR()"
      ]
     },
     "execution_count": 28,
     "metadata": {},
     "output_type": "execute_result"
    }
   ],
   "source": [
    "from sklearn.svm import SVR\n",
    "regressor = SVR(kernel = 'rbf')\n",
    "regressor.fit(X_train, y_train)"
   ]
  },
  {
   "cell_type": "code",
<<<<<<< HEAD
   "execution_count": 122,
   "id": "760a1922",
=======
   "execution_count": null,
   "id": "stuck-catalyst",
   "metadata": {},
   "outputs": [],
   "source": [
    "from sklearn.model_selection import GridSearchCV\n",
    "#parameters = [{'C': [1, 10, 100, 1000], 'kernel': ['linear']},\n",
    " #             {'C': [1, 10, 100, 1000], 'kernel': ['rbf'], 'gamma': [0.1, 0.2, 0.3, 0.4, 0.5, 0.6, 0.7, 0.8, 0.9]}]\n",
    "parameters={\n",
    "            'C': [0.1, 1, 100, 1000],\n",
    "            'epsilon': [0.01, 0.1, 1, 5, 10],\n",
    "            'gamma': [0.005, 0.1, 1, 3, 5]\n",
    "        }\n",
    "grid_search = GridSearchCV(estimator = regressor,\n",
    "                           param_grid = parameters,\n",
    "                           scoring = 'accuracy',\n",
    "                           cv = 10,\n",
    "                           n_jobs = -1)\n",
    "grid_search = grid_search.fit(X_train, y_train)\n",
    "best_accuracy = grid_search.best_score_\n",
    "best_parameters = grid_search.best_params_\n",
    "print(\"Best Accuracy: {:.2f} %\".format(best_accuracy*100))\n",
    "print(\"Best Parameters:\", best_parameters)"
   ]
  },
  {
   "cell_type": "code",
   "execution_count": null,
   "id": "adjacent-contemporary",
>>>>>>> f97285ceeb05b31cc1083aaec13c0f54310dbd46
   "metadata": {},
   "outputs": [],
   "source": [
    "preds = sc_y.inverse_transform(regressor.predict(X_test))"
   ]
  },
  {
   "cell_type": "code",
<<<<<<< HEAD
   "execution_count": 123,
   "id": "64932fe9",
=======
   "execution_count": null,
   "id": "fatal-force",
>>>>>>> f97285ceeb05b31cc1083aaec13c0f54310dbd46
   "metadata": {},
   "outputs": [],
   "source": [
    "preds[:10],sc_y.inverse_transform(y_test)[:10]"
   ]
  },
  {
   "cell_type": "code",
<<<<<<< HEAD
   "execution_count": 124,
   "id": "5c1f2361",
=======
   "execution_count": null,
   "id": "reserved-sunday",
>>>>>>> f97285ceeb05b31cc1083aaec13c0f54310dbd46
   "metadata": {},
   "outputs": [],
   "source": [
    "from sklearn.metrics import r2_score"
   ]
  },
  {
   "cell_type": "code",
<<<<<<< HEAD
   "execution_count": 128,
   "id": "826e9fd6",
   "metadata": {},
   "outputs": [
    {
     "data": {
      "text/plain": [
       "0.9430409396398176"
      ]
     },
     "execution_count": 128,
     "metadata": {},
     "output_type": "execute_result"
    }
   ],
=======
   "execution_count": null,
   "id": "secret-glenn",
   "metadata": {},
   "outputs": [],
>>>>>>> f97285ceeb05b31cc1083aaec13c0f54310dbd46
   "source": [
    "r2_score(preds,sc_y.inverse_transform(y_test))"
   ]
  },
  {
   "cell_type": "code",
<<<<<<< HEAD
   "execution_count": 129,
   "id": "f709a300",
=======
   "execution_count": null,
   "id": "duplicate-rochester",
>>>>>>> f97285ceeb05b31cc1083aaec13c0f54310dbd46
   "metadata": {},
   "outputs": [],
   "source": [
    "from xgboost import XGBRegressor   #XGBoostClassifier\n",
    "classifier = XGBRegressor(max_depth=6)\n",
    "classifier.fit(X_train, y_train)\n",
    "y_pred = classifier.predict(X_test)"
   ]
  },
  {
   "cell_type": "code",
<<<<<<< HEAD
   "execution_count": 130,
   "id": "19320916",
   "metadata": {},
   "outputs": [
    {
     "data": {
      "text/plain": [
       "0.9606264479389935"
      ]
     },
     "execution_count": 130,
     "metadata": {},
     "output_type": "execute_result"
    }
   ],
=======
   "execution_count": null,
   "id": "greatest-hindu",
   "metadata": {},
   "outputs": [],
>>>>>>> f97285ceeb05b31cc1083aaec13c0f54310dbd46
   "source": [
    "r2_score(sc_y.inverse_transform(y_pred),sc_y.inverse_transform(y_test))"
   ]
  },
  {
   "cell_type": "code",
   "execution_count": null,
<<<<<<< HEAD
   "id": "80768d72",
=======
   "id": "sealed-chick",
>>>>>>> f97285ceeb05b31cc1083aaec13c0f54310dbd46
   "metadata": {},
   "outputs": [],
   "source": []
  }
 ],
 "metadata": {
  "kernelspec": {
   "display_name": "Python 3",
   "language": "python",
   "name": "python3"
  },
  "language_info": {
   "codemirror_mode": {
    "name": "ipython",
    "version": 3
   },
   "file_extension": ".py",
   "mimetype": "text/x-python",
   "name": "python",
   "nbconvert_exporter": "python",
   "pygments_lexer": "ipython3",
   "version": "3.7.10"
  }
 },
 "nbformat": 4,
 "nbformat_minor": 5
}
