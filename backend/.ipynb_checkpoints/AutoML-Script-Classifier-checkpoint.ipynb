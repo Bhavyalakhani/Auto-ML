{
 "cells": [
  {
   "cell_type": "markdown",
   "id": "e2b1a7d3",
   "metadata": {},
   "source": [
    "### Importing Libraries"
   ]
  },
  {
   "cell_type": "code",
   "execution_count": 117,
   "id": "bf450188",
   "metadata": {},
   "outputs": [],
   "source": [
    "import pandas as pd\n",
    "import numpy as np\n",
    "import seaborn as sns\n",
    "import matplotlib.pyplot as plt\n",
    "%matplotlib inline\n",
    "\n",
    "from sklearn.metrics import confusion_matrix, accuracy_score"
   ]
  },
  {
   "cell_type": "markdown",
   "id": "43ac6d3e",
   "metadata": {},
   "source": [
    "### Loading Dataset"
   ]
  },
  {
   "cell_type": "code",
   "execution_count": 118,
   "id": "e7ca8f5f",
   "metadata": {},
   "outputs": [
    {
     "data": {
      "text/html": [
       "<div>\n",
       "<style scoped>\n",
       "    .dataframe tbody tr th:only-of-type {\n",
       "        vertical-align: middle;\n",
       "    }\n",
       "\n",
       "    .dataframe tbody tr th {\n",
       "        vertical-align: top;\n",
       "    }\n",
       "\n",
       "    .dataframe thead th {\n",
       "        text-align: right;\n",
       "    }\n",
       "</style>\n",
       "<table border=\"1\" class=\"dataframe\">\n",
       "  <thead>\n",
       "    <tr style=\"text-align: right;\">\n",
       "      <th></th>\n",
       "      <th>id</th>\n",
       "      <th>gender</th>\n",
       "      <th>age</th>\n",
       "      <th>hypertension</th>\n",
       "      <th>heart_disease</th>\n",
       "      <th>ever_married</th>\n",
       "      <th>work_type</th>\n",
       "      <th>Residence_type</th>\n",
       "      <th>avg_glucose_level</th>\n",
       "      <th>bmi</th>\n",
       "      <th>smoking_status</th>\n",
       "      <th>stroke</th>\n",
       "    </tr>\n",
       "  </thead>\n",
       "  <tbody>\n",
       "    <tr>\n",
       "      <th>0</th>\n",
       "      <td>9046</td>\n",
       "      <td>Male</td>\n",
       "      <td>67.0</td>\n",
       "      <td>0</td>\n",
       "      <td>1</td>\n",
       "      <td>Yes</td>\n",
       "      <td>Private</td>\n",
       "      <td>Urban</td>\n",
       "      <td>228.69</td>\n",
       "      <td>36.6</td>\n",
       "      <td>formerly smoked</td>\n",
       "      <td>1</td>\n",
       "    </tr>\n",
       "    <tr>\n",
       "      <th>1</th>\n",
       "      <td>51676</td>\n",
       "      <td>Female</td>\n",
       "      <td>61.0</td>\n",
       "      <td>0</td>\n",
       "      <td>0</td>\n",
       "      <td>Yes</td>\n",
       "      <td>Self-employed</td>\n",
       "      <td>Rural</td>\n",
       "      <td>202.21</td>\n",
       "      <td>NaN</td>\n",
       "      <td>never smoked</td>\n",
       "      <td>1</td>\n",
       "    </tr>\n",
       "    <tr>\n",
       "      <th>2</th>\n",
       "      <td>31112</td>\n",
       "      <td>Male</td>\n",
       "      <td>80.0</td>\n",
       "      <td>0</td>\n",
       "      <td>1</td>\n",
       "      <td>Yes</td>\n",
       "      <td>Private</td>\n",
       "      <td>Rural</td>\n",
       "      <td>105.92</td>\n",
       "      <td>32.5</td>\n",
       "      <td>never smoked</td>\n",
       "      <td>1</td>\n",
       "    </tr>\n",
       "    <tr>\n",
       "      <th>3</th>\n",
       "      <td>60182</td>\n",
       "      <td>Female</td>\n",
       "      <td>49.0</td>\n",
       "      <td>0</td>\n",
       "      <td>0</td>\n",
       "      <td>Yes</td>\n",
       "      <td>Private</td>\n",
       "      <td>Urban</td>\n",
       "      <td>171.23</td>\n",
       "      <td>34.4</td>\n",
       "      <td>smokes</td>\n",
       "      <td>1</td>\n",
       "    </tr>\n",
       "    <tr>\n",
       "      <th>4</th>\n",
       "      <td>1665</td>\n",
       "      <td>Female</td>\n",
       "      <td>79.0</td>\n",
       "      <td>1</td>\n",
       "      <td>0</td>\n",
       "      <td>Yes</td>\n",
       "      <td>Self-employed</td>\n",
       "      <td>Rural</td>\n",
       "      <td>174.12</td>\n",
       "      <td>24.0</td>\n",
       "      <td>never smoked</td>\n",
       "      <td>1</td>\n",
       "    </tr>\n",
       "    <tr>\n",
       "      <th>...</th>\n",
       "      <td>...</td>\n",
       "      <td>...</td>\n",
       "      <td>...</td>\n",
       "      <td>...</td>\n",
       "      <td>...</td>\n",
       "      <td>...</td>\n",
       "      <td>...</td>\n",
       "      <td>...</td>\n",
       "      <td>...</td>\n",
       "      <td>...</td>\n",
       "      <td>...</td>\n",
       "      <td>...</td>\n",
       "    </tr>\n",
       "    <tr>\n",
       "      <th>5105</th>\n",
       "      <td>18234</td>\n",
       "      <td>Female</td>\n",
       "      <td>80.0</td>\n",
       "      <td>1</td>\n",
       "      <td>0</td>\n",
       "      <td>Yes</td>\n",
       "      <td>Private</td>\n",
       "      <td>Urban</td>\n",
       "      <td>83.75</td>\n",
       "      <td>NaN</td>\n",
       "      <td>never smoked</td>\n",
       "      <td>0</td>\n",
       "    </tr>\n",
       "    <tr>\n",
       "      <th>5106</th>\n",
       "      <td>44873</td>\n",
       "      <td>Female</td>\n",
       "      <td>81.0</td>\n",
       "      <td>0</td>\n",
       "      <td>0</td>\n",
       "      <td>Yes</td>\n",
       "      <td>Self-employed</td>\n",
       "      <td>Urban</td>\n",
       "      <td>125.20</td>\n",
       "      <td>40.0</td>\n",
       "      <td>never smoked</td>\n",
       "      <td>0</td>\n",
       "    </tr>\n",
       "    <tr>\n",
       "      <th>5107</th>\n",
       "      <td>19723</td>\n",
       "      <td>Female</td>\n",
       "      <td>35.0</td>\n",
       "      <td>0</td>\n",
       "      <td>0</td>\n",
       "      <td>Yes</td>\n",
       "      <td>Self-employed</td>\n",
       "      <td>Rural</td>\n",
       "      <td>82.99</td>\n",
       "      <td>30.6</td>\n",
       "      <td>never smoked</td>\n",
       "      <td>0</td>\n",
       "    </tr>\n",
       "    <tr>\n",
       "      <th>5108</th>\n",
       "      <td>37544</td>\n",
       "      <td>Male</td>\n",
       "      <td>51.0</td>\n",
       "      <td>0</td>\n",
       "      <td>0</td>\n",
       "      <td>Yes</td>\n",
       "      <td>Private</td>\n",
       "      <td>Rural</td>\n",
       "      <td>166.29</td>\n",
       "      <td>25.6</td>\n",
       "      <td>formerly smoked</td>\n",
       "      <td>0</td>\n",
       "    </tr>\n",
       "    <tr>\n",
       "      <th>5109</th>\n",
       "      <td>44679</td>\n",
       "      <td>Female</td>\n",
       "      <td>44.0</td>\n",
       "      <td>0</td>\n",
       "      <td>0</td>\n",
       "      <td>Yes</td>\n",
       "      <td>Govt_job</td>\n",
       "      <td>Urban</td>\n",
       "      <td>85.28</td>\n",
       "      <td>26.2</td>\n",
       "      <td>Unknown</td>\n",
       "      <td>0</td>\n",
       "    </tr>\n",
       "  </tbody>\n",
       "</table>\n",
       "<p>5110 rows × 12 columns</p>\n",
       "</div>"
      ],
      "text/plain": [
       "         id  gender   age  hypertension  heart_disease ever_married  \\\n",
       "0      9046    Male  67.0             0              1          Yes   \n",
       "1     51676  Female  61.0             0              0          Yes   \n",
       "2     31112    Male  80.0             0              1          Yes   \n",
       "3     60182  Female  49.0             0              0          Yes   \n",
       "4      1665  Female  79.0             1              0          Yes   \n",
       "...     ...     ...   ...           ...            ...          ...   \n",
       "5105  18234  Female  80.0             1              0          Yes   \n",
       "5106  44873  Female  81.0             0              0          Yes   \n",
       "5107  19723  Female  35.0             0              0          Yes   \n",
       "5108  37544    Male  51.0             0              0          Yes   \n",
       "5109  44679  Female  44.0             0              0          Yes   \n",
       "\n",
       "          work_type Residence_type  avg_glucose_level   bmi   smoking_status  \\\n",
       "0           Private          Urban             228.69  36.6  formerly smoked   \n",
       "1     Self-employed          Rural             202.21   NaN     never smoked   \n",
       "2           Private          Rural             105.92  32.5     never smoked   \n",
       "3           Private          Urban             171.23  34.4           smokes   \n",
       "4     Self-employed          Rural             174.12  24.0     never smoked   \n",
       "...             ...            ...                ...   ...              ...   \n",
       "5105        Private          Urban              83.75   NaN     never smoked   \n",
       "5106  Self-employed          Urban             125.20  40.0     never smoked   \n",
       "5107  Self-employed          Rural              82.99  30.6     never smoked   \n",
       "5108        Private          Rural             166.29  25.6  formerly smoked   \n",
       "5109       Govt_job          Urban              85.28  26.2          Unknown   \n",
       "\n",
       "      stroke  \n",
       "0          1  \n",
       "1          1  \n",
       "2          1  \n",
       "3          1  \n",
       "4          1  \n",
       "...      ...  \n",
       "5105       0  \n",
       "5106       0  \n",
       "5107       0  \n",
       "5108       0  \n",
       "5109       0  \n",
       "\n",
       "[5110 rows x 12 columns]"
      ]
     },
     "execution_count": 118,
     "metadata": {},
     "output_type": "execute_result"
    }
   ],
   "source": [
    "dataset = pd.read_csv('.//datasets//healthcare-dataset-stroke-data.csv')\n",
    "target_column = 'stroke'\n",
    "dataset"
   ]
  },
  {
   "cell_type": "code",
   "execution_count": 119,
   "id": "feefe235",
   "metadata": {},
   "outputs": [
    {
     "data": {
      "text/html": [
       "<div>\n",
       "<style scoped>\n",
       "    .dataframe tbody tr th:only-of-type {\n",
       "        vertical-align: middle;\n",
       "    }\n",
       "\n",
       "    .dataframe tbody tr th {\n",
       "        vertical-align: top;\n",
       "    }\n",
       "\n",
       "    .dataframe thead th {\n",
       "        text-align: right;\n",
       "    }\n",
       "</style>\n",
       "<table border=\"1\" class=\"dataframe\">\n",
       "  <thead>\n",
       "    <tr style=\"text-align: right;\">\n",
       "      <th></th>\n",
       "      <th>id</th>\n",
       "      <th>gender</th>\n",
       "      <th>age</th>\n",
       "      <th>hypertension</th>\n",
       "      <th>heart_disease</th>\n",
       "      <th>ever_married</th>\n",
       "      <th>work_type</th>\n",
       "      <th>Residence_type</th>\n",
       "      <th>avg_glucose_level</th>\n",
       "      <th>bmi</th>\n",
       "      <th>smoking_status</th>\n",
       "      <th>stroke</th>\n",
       "    </tr>\n",
       "  </thead>\n",
       "  <tbody>\n",
       "    <tr>\n",
       "      <th>0</th>\n",
       "      <td>9046</td>\n",
       "      <td>Male</td>\n",
       "      <td>67.0</td>\n",
       "      <td>0</td>\n",
       "      <td>1</td>\n",
       "      <td>Yes</td>\n",
       "      <td>Private</td>\n",
       "      <td>Urban</td>\n",
       "      <td>228.69</td>\n",
       "      <td>36.6</td>\n",
       "      <td>formerly smoked</td>\n",
       "      <td>1</td>\n",
       "    </tr>\n",
       "    <tr>\n",
       "      <th>1</th>\n",
       "      <td>51676</td>\n",
       "      <td>Female</td>\n",
       "      <td>61.0</td>\n",
       "      <td>0</td>\n",
       "      <td>0</td>\n",
       "      <td>Yes</td>\n",
       "      <td>Self-employed</td>\n",
       "      <td>Rural</td>\n",
       "      <td>202.21</td>\n",
       "      <td>NaN</td>\n",
       "      <td>never smoked</td>\n",
       "      <td>1</td>\n",
       "    </tr>\n",
       "    <tr>\n",
       "      <th>2</th>\n",
       "      <td>31112</td>\n",
       "      <td>Male</td>\n",
       "      <td>80.0</td>\n",
       "      <td>0</td>\n",
       "      <td>1</td>\n",
       "      <td>Yes</td>\n",
       "      <td>Private</td>\n",
       "      <td>Rural</td>\n",
       "      <td>105.92</td>\n",
       "      <td>32.5</td>\n",
       "      <td>never smoked</td>\n",
       "      <td>1</td>\n",
       "    </tr>\n",
       "    <tr>\n",
       "      <th>3</th>\n",
       "      <td>60182</td>\n",
       "      <td>Female</td>\n",
       "      <td>49.0</td>\n",
       "      <td>0</td>\n",
       "      <td>0</td>\n",
       "      <td>Yes</td>\n",
       "      <td>Private</td>\n",
       "      <td>Urban</td>\n",
       "      <td>171.23</td>\n",
       "      <td>34.4</td>\n",
       "      <td>smokes</td>\n",
       "      <td>1</td>\n",
       "    </tr>\n",
       "    <tr>\n",
       "      <th>4</th>\n",
       "      <td>1665</td>\n",
       "      <td>Female</td>\n",
       "      <td>79.0</td>\n",
       "      <td>1</td>\n",
       "      <td>0</td>\n",
       "      <td>Yes</td>\n",
       "      <td>Self-employed</td>\n",
       "      <td>Rural</td>\n",
       "      <td>174.12</td>\n",
       "      <td>24.0</td>\n",
       "      <td>never smoked</td>\n",
       "      <td>1</td>\n",
       "    </tr>\n",
       "    <tr>\n",
       "      <th>...</th>\n",
       "      <td>...</td>\n",
       "      <td>...</td>\n",
       "      <td>...</td>\n",
       "      <td>...</td>\n",
       "      <td>...</td>\n",
       "      <td>...</td>\n",
       "      <td>...</td>\n",
       "      <td>...</td>\n",
       "      <td>...</td>\n",
       "      <td>...</td>\n",
       "      <td>...</td>\n",
       "      <td>...</td>\n",
       "    </tr>\n",
       "    <tr>\n",
       "      <th>5105</th>\n",
       "      <td>18234</td>\n",
       "      <td>Female</td>\n",
       "      <td>80.0</td>\n",
       "      <td>1</td>\n",
       "      <td>0</td>\n",
       "      <td>Yes</td>\n",
       "      <td>Private</td>\n",
       "      <td>Urban</td>\n",
       "      <td>83.75</td>\n",
       "      <td>NaN</td>\n",
       "      <td>never smoked</td>\n",
       "      <td>0</td>\n",
       "    </tr>\n",
       "    <tr>\n",
       "      <th>5106</th>\n",
       "      <td>44873</td>\n",
       "      <td>Female</td>\n",
       "      <td>81.0</td>\n",
       "      <td>0</td>\n",
       "      <td>0</td>\n",
       "      <td>Yes</td>\n",
       "      <td>Self-employed</td>\n",
       "      <td>Urban</td>\n",
       "      <td>125.20</td>\n",
       "      <td>40.0</td>\n",
       "      <td>never smoked</td>\n",
       "      <td>0</td>\n",
       "    </tr>\n",
       "    <tr>\n",
       "      <th>5107</th>\n",
       "      <td>19723</td>\n",
       "      <td>Female</td>\n",
       "      <td>35.0</td>\n",
       "      <td>0</td>\n",
       "      <td>0</td>\n",
       "      <td>Yes</td>\n",
       "      <td>Self-employed</td>\n",
       "      <td>Rural</td>\n",
       "      <td>82.99</td>\n",
       "      <td>30.6</td>\n",
       "      <td>never smoked</td>\n",
       "      <td>0</td>\n",
       "    </tr>\n",
       "    <tr>\n",
       "      <th>5108</th>\n",
       "      <td>37544</td>\n",
       "      <td>Male</td>\n",
       "      <td>51.0</td>\n",
       "      <td>0</td>\n",
       "      <td>0</td>\n",
       "      <td>Yes</td>\n",
       "      <td>Private</td>\n",
       "      <td>Rural</td>\n",
       "      <td>166.29</td>\n",
       "      <td>25.6</td>\n",
       "      <td>formerly smoked</td>\n",
       "      <td>0</td>\n",
       "    </tr>\n",
       "    <tr>\n",
       "      <th>5109</th>\n",
       "      <td>44679</td>\n",
       "      <td>Female</td>\n",
       "      <td>44.0</td>\n",
       "      <td>0</td>\n",
       "      <td>0</td>\n",
       "      <td>Yes</td>\n",
       "      <td>Govt_job</td>\n",
       "      <td>Urban</td>\n",
       "      <td>85.28</td>\n",
       "      <td>26.2</td>\n",
       "      <td>Unknown</td>\n",
       "      <td>0</td>\n",
       "    </tr>\n",
       "  </tbody>\n",
       "</table>\n",
       "<p>5110 rows × 12 columns</p>\n",
       "</div>"
      ],
      "text/plain": [
       "         id  gender   age  hypertension  heart_disease ever_married  \\\n",
       "0      9046    Male  67.0             0              1          Yes   \n",
       "1     51676  Female  61.0             0              0          Yes   \n",
       "2     31112    Male  80.0             0              1          Yes   \n",
       "3     60182  Female  49.0             0              0          Yes   \n",
       "4      1665  Female  79.0             1              0          Yes   \n",
       "...     ...     ...   ...           ...            ...          ...   \n",
       "5105  18234  Female  80.0             1              0          Yes   \n",
       "5106  44873  Female  81.0             0              0          Yes   \n",
       "5107  19723  Female  35.0             0              0          Yes   \n",
       "5108  37544    Male  51.0             0              0          Yes   \n",
       "5109  44679  Female  44.0             0              0          Yes   \n",
       "\n",
       "          work_type Residence_type  avg_glucose_level   bmi   smoking_status  \\\n",
       "0           Private          Urban             228.69  36.6  formerly smoked   \n",
       "1     Self-employed          Rural             202.21   NaN     never smoked   \n",
       "2           Private          Rural             105.92  32.5     never smoked   \n",
       "3           Private          Urban             171.23  34.4           smokes   \n",
       "4     Self-employed          Rural             174.12  24.0     never smoked   \n",
       "...             ...            ...                ...   ...              ...   \n",
       "5105        Private          Urban              83.75   NaN     never smoked   \n",
       "5106  Self-employed          Urban             125.20  40.0     never smoked   \n",
       "5107  Self-employed          Rural              82.99  30.6     never smoked   \n",
       "5108        Private          Rural             166.29  25.6  formerly smoked   \n",
       "5109       Govt_job          Urban              85.28  26.2          Unknown   \n",
       "\n",
       "      stroke  \n",
       "0          1  \n",
       "1          1  \n",
       "2          1  \n",
       "3          1  \n",
       "4          1  \n",
       "...      ...  \n",
       "5105       0  \n",
       "5106       0  \n",
       "5107       0  \n",
       "5108       0  \n",
       "5109       0  \n",
       "\n",
       "[5110 rows x 12 columns]"
      ]
     },
     "execution_count": 119,
     "metadata": {},
     "output_type": "execute_result"
    }
   ],
   "source": [
    "if \"Unnamed: 0\" in dataset.columns:\n",
    "    dataset.drop(\"Unnamed: 0\",axis=1,inplace=True)\n",
    "dataset"
   ]
  },
  {
   "cell_type": "markdown",
   "id": "c3e0ad19",
   "metadata": {},
   "source": [
    "## Preprocessing"
   ]
  },
  {
   "cell_type": "markdown",
   "id": "d57feed0",
   "metadata": {},
   "source": [
    "### Remove Date Columns"
   ]
  },
  {
   "cell_type": "code",
   "execution_count": 120,
   "id": "fb1fef6e",
   "metadata": {},
   "outputs": [],
   "source": [
    "if \"date\" in dataset.columns:\n",
    "    dataset.drop(\"date\",inplace=True,axis=1)\n",
    "    print(\"date Deleted\")\n",
    "if \"Date\" in dataset.columns:\n",
    "    dataset.drop(\"Date\",inplace=True,axis=1)\n",
    "    print(\"Date Deleted\")"
   ]
  },
  {
   "cell_type": "markdown",
   "id": "cf50914d",
   "metadata": {},
   "source": [
    "### Remove Dollar signs"
   ]
  },
  {
   "cell_type": "code",
   "execution_count": 121,
   "id": "f796336c",
   "metadata": {},
   "outputs": [
    {
     "data": {
      "text/plain": [
       "[]"
      ]
     },
     "execution_count": 121,
     "metadata": {},
     "output_type": "execute_result"
    }
   ],
   "source": [
    "dollar = '$'\n",
    "prices_list = []\n",
    "if(len(dataset) > 100):\n",
    "    for column in dataset.columns:\n",
    "        X = dataset[column][:50].values\n",
    "        for val in X:\n",
    "            if( \"$\" in str(val)):\n",
    "                prices_list.append(column)\n",
    "                break;\n",
    "            break;\n",
    "            \n",
    "prices_list"
   ]
  },
  {
   "cell_type": "code",
   "execution_count": 122,
   "id": "1000015f",
   "metadata": {},
   "outputs": [
    {
     "data": {
      "text/plain": [
       "[]"
      ]
     },
     "execution_count": 122,
     "metadata": {},
     "output_type": "execute_result"
    }
   ],
   "source": [
    "new_2darray = []\n",
    "if(prices_list):\n",
    "    cost_values = dataset[prices_list].values\n",
    "    for array in cost_values:\n",
    "        new_array = []\n",
    "        for val in array:\n",
    "            new_val = (re.sub(\"[^0-9]\", \"\", val))\n",
    "            if new_val:\n",
    "                new_val = float(new_val)\n",
    "            else:\n",
    "                new_val = np.NaN\n",
    "            new_array.append(new_val)\n",
    "        new_2darray.append(new_array)\n",
    "new_2darray"
   ]
  },
  {
   "cell_type": "code",
   "execution_count": 123,
   "id": "b8c67341",
   "metadata": {},
   "outputs": [],
   "source": [
    "if(prices_list):\n",
    "    prices_data = pd.DataFrame(new_2darray,columns= prices_list)"
   ]
  },
  {
   "cell_type": "code",
   "execution_count": 124,
   "id": "cdcecfa9",
   "metadata": {},
   "outputs": [],
   "source": [
    "if(prices_list):\n",
    "    dataset.drop(prices_list,inplace=True,axis=1)"
   ]
  },
  {
   "cell_type": "code",
   "execution_count": 125,
   "id": "87260e9d",
   "metadata": {},
   "outputs": [],
   "source": [
    "if(prices_list):\n",
    "    dataset[prices_list] = prices_data"
   ]
  },
  {
   "cell_type": "markdown",
   "id": "4a67267b",
   "metadata": {},
   "source": [
    "### Define Index / ID Columns and Target Columns"
   ]
  },
  {
   "cell_type": "code",
   "execution_count": 126,
   "id": "a86ac7b7",
   "metadata": {},
   "outputs": [],
   "source": [
    "\n",
    "id1 = \"id\""
   ]
  },
  {
   "cell_type": "markdown",
   "id": "faa4a9d7",
   "metadata": {},
   "source": [
    "### Categorize into numerical and categorical"
   ]
  },
  {
   "cell_type": "code",
   "execution_count": 127,
   "id": "55583f00",
   "metadata": {},
   "outputs": [
    {
     "name": "stdout",
     "output_type": "stream",
     "text": [
      "<class 'pandas.core.frame.DataFrame'>\n",
      "RangeIndex: 5110 entries, 0 to 5109\n",
      "Data columns (total 12 columns):\n",
      " #   Column             Non-Null Count  Dtype  \n",
      "---  ------             --------------  -----  \n",
      " 0   id                 5110 non-null   int64  \n",
      " 1   gender             5110 non-null   object \n",
      " 2   age                5110 non-null   float64\n",
      " 3   hypertension       5110 non-null   int64  \n",
      " 4   heart_disease      5110 non-null   int64  \n",
      " 5   ever_married       5110 non-null   object \n",
      " 6   work_type          5110 non-null   object \n",
      " 7   Residence_type     5110 non-null   object \n",
      " 8   avg_glucose_level  5110 non-null   float64\n",
      " 9   bmi                4909 non-null   float64\n",
      " 10  smoking_status     5110 non-null   object \n",
      " 11  stroke             5110 non-null   int64  \n",
      "dtypes: float64(3), int64(4), object(5)\n",
      "memory usage: 479.2+ KB\n"
     ]
    }
   ],
   "source": [
    "dataset.info()"
   ]
  },
  {
   "cell_type": "code",
   "execution_count": 128,
   "id": "e899ef5e",
   "metadata": {},
   "outputs": [
    {
     "data": {
      "text/plain": [
       "id                     int64\n",
       "gender                object\n",
       "age                  float64\n",
       "hypertension           int64\n",
       "heart_disease          int64\n",
       "ever_married          object\n",
       "work_type             object\n",
       "Residence_type        object\n",
       "avg_glucose_level    float64\n",
       "bmi                  float64\n",
       "smoking_status        object\n",
       "stroke                 int64\n",
       "dtype: object"
      ]
     },
     "execution_count": 128,
     "metadata": {},
     "output_type": "execute_result"
    }
   ],
   "source": []
  },
  {
   "cell_type": "code",
   "execution_count": 129,
   "id": "cda04e15",
   "metadata": {},
   "outputs": [
    {
     "data": {
      "text/plain": [
       "['id', 'age', 'hypertension', 'heart_disease', 'avg_glucose_level', 'bmi']"
      ]
     },
     "execution_count": 129,
     "metadata": {},
     "output_type": "execute_result"
    }
   ],
   "source": [
    "cat_cols = []\n",
    "num_cols = []\n",
    "\n",
    "columns = dataset.columns\n",
    "if id1 in dataset.columns:\n",
    "    dataset.drop(id1,inplace=True,axis=1)\n",
    "\n",
    "datatypes = dataset.dtypes\n",
    "datatypes\n",
    "\n",
    "for i in range(len(datatypes)):\n",
    "    if datatypes.index[i] != target_column:\n",
    "        if datatypes[i]=='object':\n",
    "            unqval = dataset[datatypes.index[i]].nunique()\n",
    "            if (unqval < 30):\n",
    "                cat_cols.append(datatypes.index[i])\n",
    "            else:\n",
    "                del dataset[datatypes.index[i]]\n",
    "                print('Deleted: ',datatypes.index[i])\n",
    "        else:\n",
    "            num_cols.append(datatypes.index[i])\n",
    "num_cols"
   ]
  },
  {
   "cell_type": "code",
   "execution_count": 130,
   "id": "20372421",
   "metadata": {},
   "outputs": [
    {
     "data": {
      "text/plain": [
       "['gender', 'ever_married', 'work_type', 'Residence_type', 'smoking_status']"
      ]
     },
     "execution_count": 130,
     "metadata": {},
     "output_type": "execute_result"
    }
   ],
   "source": [
    "cat_cols"
   ]
  },
  {
   "cell_type": "code",
   "execution_count": 131,
   "id": "2bd50c52",
   "metadata": {},
   "outputs": [
    {
     "ename": "KeyError",
     "evalue": "\"['id'] not in index\"",
     "output_type": "error",
     "traceback": [
      "\u001b[1;31m---------------------------------------------------------------------------\u001b[0m",
      "\u001b[1;31mKeyError\u001b[0m                                  Traceback (most recent call last)",
      "\u001b[1;32m<ipython-input-131-e899a24c383b>\u001b[0m in \u001b[0;36m<module>\u001b[1;34m\u001b[0m\n\u001b[0;32m      4\u001b[0m     \u001b[0mcat_data\u001b[0m \u001b[1;33m=\u001b[0m \u001b[0mdataset\u001b[0m\u001b[1;33m[\u001b[0m\u001b[0mcat_cols\u001b[0m\u001b[1;33m]\u001b[0m\u001b[1;33m\u001b[0m\u001b[1;33m\u001b[0m\u001b[0m\n\u001b[0;32m      5\u001b[0m \u001b[1;32mif\u001b[0m\u001b[1;33m(\u001b[0m\u001b[0mlen\u001b[0m\u001b[1;33m(\u001b[0m\u001b[0mnum_cols\u001b[0m\u001b[1;33m)\u001b[0m\u001b[1;33m>\u001b[0m\u001b[1;36m0\u001b[0m\u001b[1;33m)\u001b[0m\u001b[1;33m:\u001b[0m\u001b[1;33m\u001b[0m\u001b[1;33m\u001b[0m\u001b[0m\n\u001b[1;32m----> 6\u001b[1;33m     \u001b[0mnum_data\u001b[0m \u001b[1;33m=\u001b[0m \u001b[0mdataset\u001b[0m\u001b[1;33m[\u001b[0m\u001b[0mnum_cols\u001b[0m\u001b[1;33m]\u001b[0m\u001b[1;33m\u001b[0m\u001b[1;33m\u001b[0m\u001b[0m\n\u001b[0m\u001b[0;32m      7\u001b[0m \u001b[0my_data\u001b[0m \u001b[1;33m=\u001b[0m \u001b[0mdataset\u001b[0m\u001b[1;33m[\u001b[0m\u001b[0mtarget_column\u001b[0m\u001b[1;33m]\u001b[0m\u001b[1;33m\u001b[0m\u001b[1;33m\u001b[0m\u001b[0m\n",
      "\u001b[1;32mC:\\Anaconda3\\envs\\tensorflow_en\\lib\\site-packages\\pandas\\core\\frame.py\u001b[0m in \u001b[0;36m__getitem__\u001b[1;34m(self, key)\u001b[0m\n\u001b[0;32m   2804\u001b[0m             \u001b[1;32mif\u001b[0m \u001b[0mis_iterator\u001b[0m\u001b[1;33m(\u001b[0m\u001b[0mkey\u001b[0m\u001b[1;33m)\u001b[0m\u001b[1;33m:\u001b[0m\u001b[1;33m\u001b[0m\u001b[1;33m\u001b[0m\u001b[0m\n\u001b[0;32m   2805\u001b[0m                 \u001b[0mkey\u001b[0m \u001b[1;33m=\u001b[0m \u001b[0mlist\u001b[0m\u001b[1;33m(\u001b[0m\u001b[0mkey\u001b[0m\u001b[1;33m)\u001b[0m\u001b[1;33m\u001b[0m\u001b[1;33m\u001b[0m\u001b[0m\n\u001b[1;32m-> 2806\u001b[1;33m             \u001b[0mindexer\u001b[0m \u001b[1;33m=\u001b[0m \u001b[0mself\u001b[0m\u001b[1;33m.\u001b[0m\u001b[0mloc\u001b[0m\u001b[1;33m.\u001b[0m\u001b[0m_get_listlike_indexer\u001b[0m\u001b[1;33m(\u001b[0m\u001b[0mkey\u001b[0m\u001b[1;33m,\u001b[0m \u001b[0maxis\u001b[0m\u001b[1;33m=\u001b[0m\u001b[1;36m1\u001b[0m\u001b[1;33m,\u001b[0m \u001b[0mraise_missing\u001b[0m\u001b[1;33m=\u001b[0m\u001b[1;32mTrue\u001b[0m\u001b[1;33m)\u001b[0m\u001b[1;33m[\u001b[0m\u001b[1;36m1\u001b[0m\u001b[1;33m]\u001b[0m\u001b[1;33m\u001b[0m\u001b[1;33m\u001b[0m\u001b[0m\n\u001b[0m\u001b[0;32m   2807\u001b[0m \u001b[1;33m\u001b[0m\u001b[0m\n\u001b[0;32m   2808\u001b[0m         \u001b[1;31m# take() does not accept boolean indexers\u001b[0m\u001b[1;33m\u001b[0m\u001b[1;33m\u001b[0m\u001b[1;33m\u001b[0m\u001b[0m\n",
      "\u001b[1;32mC:\\Anaconda3\\envs\\tensorflow_en\\lib\\site-packages\\pandas\\core\\indexing.py\u001b[0m in \u001b[0;36m_get_listlike_indexer\u001b[1;34m(self, key, axis, raise_missing)\u001b[0m\n\u001b[0;32m   1551\u001b[0m \u001b[1;33m\u001b[0m\u001b[0m\n\u001b[0;32m   1552\u001b[0m         self._validate_read_indexer(\n\u001b[1;32m-> 1553\u001b[1;33m             \u001b[0mkeyarr\u001b[0m\u001b[1;33m,\u001b[0m \u001b[0mindexer\u001b[0m\u001b[1;33m,\u001b[0m \u001b[0mo\u001b[0m\u001b[1;33m.\u001b[0m\u001b[0m_get_axis_number\u001b[0m\u001b[1;33m(\u001b[0m\u001b[0maxis\u001b[0m\u001b[1;33m)\u001b[0m\u001b[1;33m,\u001b[0m \u001b[0mraise_missing\u001b[0m\u001b[1;33m=\u001b[0m\u001b[0mraise_missing\u001b[0m\u001b[1;33m\u001b[0m\u001b[1;33m\u001b[0m\u001b[0m\n\u001b[0m\u001b[0;32m   1554\u001b[0m         )\n\u001b[0;32m   1555\u001b[0m         \u001b[1;32mreturn\u001b[0m \u001b[0mkeyarr\u001b[0m\u001b[1;33m,\u001b[0m \u001b[0mindexer\u001b[0m\u001b[1;33m\u001b[0m\u001b[1;33m\u001b[0m\u001b[0m\n",
      "\u001b[1;32mC:\\Anaconda3\\envs\\tensorflow_en\\lib\\site-packages\\pandas\\core\\indexing.py\u001b[0m in \u001b[0;36m_validate_read_indexer\u001b[1;34m(self, key, indexer, axis, raise_missing)\u001b[0m\n\u001b[0;32m   1644\u001b[0m             \u001b[1;32mif\u001b[0m \u001b[1;32mnot\u001b[0m \u001b[1;33m(\u001b[0m\u001b[0mself\u001b[0m\u001b[1;33m.\u001b[0m\u001b[0mname\u001b[0m \u001b[1;33m==\u001b[0m \u001b[1;34m\"loc\"\u001b[0m \u001b[1;32mand\u001b[0m \u001b[1;32mnot\u001b[0m \u001b[0mraise_missing\u001b[0m\u001b[1;33m)\u001b[0m\u001b[1;33m:\u001b[0m\u001b[1;33m\u001b[0m\u001b[1;33m\u001b[0m\u001b[0m\n\u001b[0;32m   1645\u001b[0m                 \u001b[0mnot_found\u001b[0m \u001b[1;33m=\u001b[0m \u001b[0mlist\u001b[0m\u001b[1;33m(\u001b[0m\u001b[0mset\u001b[0m\u001b[1;33m(\u001b[0m\u001b[0mkey\u001b[0m\u001b[1;33m)\u001b[0m \u001b[1;33m-\u001b[0m \u001b[0mset\u001b[0m\u001b[1;33m(\u001b[0m\u001b[0max\u001b[0m\u001b[1;33m)\u001b[0m\u001b[1;33m)\u001b[0m\u001b[1;33m\u001b[0m\u001b[1;33m\u001b[0m\u001b[0m\n\u001b[1;32m-> 1646\u001b[1;33m                 \u001b[1;32mraise\u001b[0m \u001b[0mKeyError\u001b[0m\u001b[1;33m(\u001b[0m\u001b[1;34mf\"{not_found} not in index\"\u001b[0m\u001b[1;33m)\u001b[0m\u001b[1;33m\u001b[0m\u001b[1;33m\u001b[0m\u001b[0m\n\u001b[0m\u001b[0;32m   1647\u001b[0m \u001b[1;33m\u001b[0m\u001b[0m\n\u001b[0;32m   1648\u001b[0m             \u001b[1;31m# we skip the warning on Categorical/Interval\u001b[0m\u001b[1;33m\u001b[0m\u001b[1;33m\u001b[0m\u001b[1;33m\u001b[0m\u001b[0m\n",
      "\u001b[1;31mKeyError\u001b[0m: \"['id'] not in index\""
     ]
    }
   ],
   "source": [
    "cat_data = []\n",
    "num_data = []\n",
    "if(len(cat_cols)>0):\n",
    "    cat_data = dataset[cat_cols]\n",
    "if(len(num_cols)>0):\n",
    "    num_data = dataset[num_cols]\n",
    "y_data = dataset[target_column]"
   ]
  },
  {
   "cell_type": "code",
   "execution_count": null,
   "id": "d86b5871",
   "metadata": {},
   "outputs": [],
   "source": [
    "num_data,cat_data"
   ]
  },
  {
   "cell_type": "markdown",
   "id": "4378eb92",
   "metadata": {},
   "source": [
    "### Outlier Detection "
   ]
  },
  {
   "cell_type": "code",
   "execution_count": null,
   "id": "936831f2",
   "metadata": {},
   "outputs": [],
   "source": [
    "def outlier_detect(df):\n",
    "    if (len(num_data)>0):        \n",
    "        for i in df.describe().columns:\n",
    "            Q1=df.describe().at['25%',i]\n",
    "            Q3=df.describe().at['75%',i]\n",
    "            IQR=Q3 - Q1\n",
    "            LB=Q1 - 1.5 * IQR\n",
    "            UB=Q3 + 1.5 * IQR\n",
    "            x=np.array(df[i])\n",
    "            p=[]\n",
    "            for j in x:\n",
    "                if j < LB or j>UB:\n",
    "                   p.append(j)\n",
    "            print('\\n Outliers for Column : ', i, ' Outliers count ', len(p))\n",
    "            print(p)\n",
    "    else:\n",
    "        print(\"Num_data is empty\")\n",
    "\n",
    "        \n",
    "outlier_detect(num_data)"
   ]
  },
  {
   "cell_type": "markdown",
   "id": "b2acd80f",
   "metadata": {},
   "source": [
    "### Treat Missing Values"
   ]
  },
  {
   "cell_type": "code",
   "execution_count": null,
   "id": "72968590",
   "metadata": {},
   "outputs": [],
   "source": [
    "if len(num_data):\n",
    "    from sklearn.impute import SimpleImputer\n",
    "    imputer = SimpleImputer(missing_values=np.nan, strategy = 'mean')\n",
    "    imputer.fit(num_data.iloc[:,:].values)\n",
    "    num_data = pd.DataFrame(imputer.transform(num_data.iloc[:,:].values))\n",
    "    num_data.columns = num_cols\n",
    "num_data"
   ]
  },
  {
   "cell_type": "code",
   "execution_count": null,
   "id": "d116358b",
   "metadata": {},
   "outputs": [],
   "source": [
    "if(len(cat_data)>0 and len(num_data)>0):\n",
    "    print(\"1\")\n",
    "    df = pd.concat([num_data,cat_data,y_data],axis=1)\n",
    "    df = df.dropna().reset_index(drop=True)\n",
    "    df.isnull().sum()\n",
    "elif(len(num_data) > 0):\n",
    "    print(\"2\")\n",
    "    df = pd.concat([num_data,y_data],axis=1)\n",
    "    df = df.dropna().reset_index(drop=True)\n",
    "else:\n",
    "    print(\"3\")\n",
    "    df = pd.concat([cat_data,y_data],axis=1)\n",
    "    df = df.dropna().reset_index(drop=True)\n",
    "(df)"
   ]
  },
  {
   "cell_type": "code",
   "execution_count": null,
   "id": "39bbd95a",
   "metadata": {},
   "outputs": [],
   "source": [
    "cat_data = df[cat_cols]\n",
    "num_data = df[num_cols]\n",
    "y_data = df[target_column]\n",
    "df.drop(target_column,inplace=True,axis=1)\n",
    "len(y_data)"
   ]
  },
  {
   "cell_type": "markdown",
   "id": "434667fe",
   "metadata": {},
   "source": [
    "### One-hot encoding the categorical data"
   ]
  },
  {
   "cell_type": "code",
   "execution_count": null,
   "id": "3c7e44ac",
   "metadata": {},
   "outputs": [],
   "source": [
    "#if len(cat_cols):\n",
    "from sklearn.preprocessing import OneHotEncoder\n",
    "\n",
    "# Apply one-hot encoder to each column with categorical data\n",
    "OH_encoder = OneHotEncoder(handle_unknown='ignore', sparse=False)\n",
    "X_encoded = pd.DataFrame(OH_encoder.fit_transform(df[cat_cols]))\n",
    "\n",
    "# One-hot encoding removed index; put it back\n",
    "X_encoded.index = df.index\n",
    "\n",
    "# Remove categorical columns (will replace with one-hot encoding)\n",
    "num_X = df.drop(cat_cols, axis=1)\n",
    "\n",
    "# Add one-hot encoded columns to numerical features\n",
    "OH_X = pd.concat([num_X, X_encoded], axis=1)"
   ]
  },
  {
   "cell_type": "code",
   "execution_count": null,
   "id": "7305d445",
   "metadata": {},
   "outputs": [],
   "source": [
    "OH_X"
   ]
  },
  {
   "cell_type": "markdown",
   "id": "de6e5f80",
   "metadata": {},
   "source": [
    "### Sampling/ Unbalanced Check"
   ]
  },
  {
   "cell_type": "code",
   "execution_count": null,
   "id": "f07016d3",
   "metadata": {},
   "outputs": [],
   "source": [
    "count = y_data.value_counts()\n",
    "print(count)\n",
    "print(max(count))\n",
    "print(min(count))\n",
    "cond = min(count)/max(count)\n",
    "print(cond)"
   ]
  },
  {
   "cell_type": "markdown",
   "id": "dced1889",
   "metadata": {},
   "source": [
    "### Label encoding y_data"
   ]
  },
  {
   "cell_type": "code",
   "execution_count": null,
   "id": "28a6a3c0",
   "metadata": {},
   "outputs": [],
   "source": [
    "from sklearn.preprocessing import LabelEncoder\n",
    "if(y_data.dtypes == \"object\"):\n",
    "    print(y_data.dtypes)\n",
    "    le = LabelEncoder()\n",
    "    y_data = le.fit_transform(y_data)\n",
    "    y_data"
   ]
  },
  {
   "cell_type": "code",
   "execution_count": null,
   "id": "09a77df8",
   "metadata": {},
   "outputs": [],
   "source": [
    "from imblearn.over_sampling import ADASYN\n",
    "from collections import Counter\n",
    "if(cond<0.3):\n",
    "    counter = Counter(y_data)\n",
    "    print('before :',counter)\n",
    "    ADA = ADASYN(random_state=130,sampling_strategy='minority')\n",
    "    OH_X,y_data = ADA.fit_resample(OH_X,y_data)\n",
    "    counter = Counter(y_data)\n",
    "    print(\"after :\",counter)"
   ]
  },
  {
   "cell_type": "markdown",
   "id": "311ddfe7",
   "metadata": {},
   "source": [
    "### Scaling"
   ]
  },
  {
   "cell_type": "code",
   "execution_count": null,
   "id": "b8c95b02",
   "metadata": {},
   "outputs": [],
   "source": [
    "from sklearn.preprocessing import StandardScaler"
   ]
  },
  {
   "cell_type": "code",
   "execution_count": null,
   "id": "5791ef66",
   "metadata": {},
   "outputs": [],
   "source": [
    "sc_x = StandardScaler()"
   ]
  },
  {
   "cell_type": "code",
   "execution_count": null,
   "id": "5f920e96",
   "metadata": {},
   "outputs": [],
   "source": [
    "OH_X = sc_x.fit_transform(OH_X)"
   ]
  },
  {
   "cell_type": "code",
   "execution_count": null,
   "id": "667128d8",
   "metadata": {},
   "outputs": [],
   "source": [
    "OH_X"
   ]
  },
  {
   "cell_type": "code",
   "execution_count": null,
   "id": "8343ddbf",
   "metadata": {},
   "outputs": [],
   "source": [
    "model_accuracies = {}"
   ]
  },
  {
   "cell_type": "code",
   "execution_count": null,
   "id": "732efca2",
   "metadata": {},
   "outputs": [],
   "source": [
    "from sklearn.metrics import roc_auc_score,accuracy_score, classification_report\n",
    "def write_report(model, remarks, model_name):\n",
    " preds = model.predict(X_test)\n",
    " report = classification_report(y_test,preds)\n",
    " balanced_accuracy = '-'\n",
    " roc_score = roc_auc_score(y_test, preds)\n",
    " accuracyscore = accuracy_score(y_test, preds)\n",
    " print(f'\\n{model}\\n {report}\\n  accuracy score: {accuracyscore}\\n Roc auc score: {roc_score}\\n Remarks: {remarks}')\n",
    " with open(\".//reports//\"+model_name+\"_report.txt\", \"w\") as myfile:\n",
    "   myfile.write(f'\\n{model}\\n {report}\\n accuracy score: {accuracyscore}\\n Roc auc score: {roc_score}\\n Remarks: {remarks}')"
   ]
  },
  {
   "cell_type": "markdown",
   "id": "9f9d0c8e",
   "metadata": {},
   "source": [
    "### Splitting Dataset"
   ]
  },
  {
   "cell_type": "code",
   "execution_count": null,
   "id": "ee6418d5",
   "metadata": {},
   "outputs": [],
   "source": [
    "from sklearn.model_selection import train_test_split"
   ]
  },
  {
   "cell_type": "code",
   "execution_count": null,
   "id": "03a7bcb7",
   "metadata": {},
   "outputs": [],
   "source": [
    "X_train,X_test,y_train,y_test = train_test_split(OH_X,y_data,test_size=0.2,random_state=0)"
   ]
  },
  {
   "cell_type": "markdown",
   "id": "ca7ff6a7",
   "metadata": {},
   "source": [
    "## MODEL TRAINING"
   ]
  },
  {
   "cell_type": "markdown",
   "id": "c5d9d5a9",
   "metadata": {},
   "source": [
    "### Logistic Regression"
   ]
  },
  {
   "cell_type": "code",
   "execution_count": null,
   "id": "6381cc81",
   "metadata": {},
   "outputs": [],
   "source": [
    "from sklearn.linear_model import LogisticRegression\n",
    "LR_classifier = LogisticRegression(random_state = 0)\n",
    "LR_classifier.fit(X_train, y_train)\n",
    "\n",
    "y_pred_lr = LR_classifier.predict(X_test)"
   ]
  },
  {
   "cell_type": "code",
   "execution_count": null,
   "id": "4e423124",
   "metadata": {},
   "outputs": [],
   "source": [
    "cm = confusion_matrix(y_test, y_pred_lr)\n",
    "print(cm)\n",
    "lr_accuracy = accuracy_score(y_test, y_pred_lr)\n",
    "model_accuracies[\"LogisticRegression\"] = lr_accuracy\n",
    "print(lr_accuracy)"
   ]
  },
  {
   "cell_type": "code",
   "execution_count": null,
   "id": "98bd9706",
   "metadata": {},
   "outputs": [],
   "source": [
    "# write_report(LR_classifier,\"good Model\",\"Logistic Regression\")"
   ]
  },
  {
   "cell_type": "markdown",
   "id": "d59c7904",
   "metadata": {},
   "source": [
    "### Decision Tree Classifier"
   ]
  },
  {
   "cell_type": "code",
   "execution_count": null,
   "id": "9bf78e3a",
   "metadata": {},
   "outputs": [],
   "source": [
    "from sklearn.tree import DecisionTreeClassifier\n",
    "DT_classifier = DecisionTreeClassifier(criterion = 'entropy', random_state = 0)\n",
    "DT_classifier.fit(X_train, y_train)\n",
    "\n",
    "y_pred_dr = DT_classifier.predict(X_test)"
   ]
  },
  {
   "cell_type": "code",
   "execution_count": null,
   "id": "fe4540bb",
   "metadata": {},
   "outputs": [],
   "source": [
    "cm = confusion_matrix(y_test, y_pred_dr)\n",
    "print(cm)\n",
    "dt_accuracy = accuracy_score(y_test, y_pred_dr)\n",
    "model_accuracies[\"DecisionTreeClassifer\"] = dt_accuracy\n",
    "print(dt_accuracy)"
   ]
  },
  {
   "cell_type": "code",
   "execution_count": null,
   "id": "5adbe831",
   "metadata": {},
   "outputs": [],
   "source": [
    "# write_report(DT_classifier,\"good Model\",\"Decision Tree Classifer\")"
   ]
  },
  {
   "cell_type": "markdown",
   "id": "358883cb",
   "metadata": {},
   "source": [
    "### Random Forest classifier"
   ]
  },
  {
   "cell_type": "code",
   "execution_count": null,
   "id": "3ad63af3",
   "metadata": {},
   "outputs": [],
   "source": [
    "from sklearn.ensemble import RandomForestClassifier\n",
    "nodes = [10,15,20,25,50,100,200]\n",
    "accuracy =[]\n",
    "for node in nodes:    \n",
    "    RandomForestclassifier = RandomForestClassifier(criterion = 'entropy', random_state=0, n_estimators=node)\n",
    "    RandomForestclassifier.fit(X_train,y_train)\n",
    "    preds = RandomForestclassifier.predict(X_test)\n",
    "    accs = accuracy_score(y_test,preds)\n",
    "    accuracy.append(accs)\n",
    "    print(confusion_matrix(y_test,preds),'No of Estimators: ', node,accs)\n",
    "\n",
    "# sns.lineplot(x=nodes,y=accuracy)\n",
    "model_accuracies[\"RandomForestclassifier\"] = accs"
   ]
  },
  {
   "cell_type": "code",
   "execution_count": null,
   "id": "eab15329",
   "metadata": {
    "scrolled": true
   },
   "outputs": [],
   "source": [
    "# write_report(RandomForestclassifier,\"good Model\",\"RandomForestClassifier\")"
   ]
  },
  {
   "cell_type": "markdown",
   "id": "28c29e3f",
   "metadata": {},
   "source": [
    "### XgBoost Classifier"
   ]
  },
  {
   "cell_type": "code",
   "execution_count": null,
   "id": "7404edea",
   "metadata": {},
   "outputs": [],
   "source": [
    "from xgboost import XGBClassifier   #XGBoostClassifier\n",
    "XGboostclassifier = XGBClassifier(max_depth=6)\n",
    "XGboostclassifier.fit(X_train, y_train)\n",
    "y_pred = XGboostclassifier.predict(X_test)\n",
    "cm = confusion_matrix(y_test, y_pred)\n",
    "print(cm)\n",
    "xgboost_accuracy = accuracy_score(y_test, y_pred)\n",
    "model_accuracies['XGboostclassifier'] = xgboost_accuracy"
   ]
  },
  {
   "cell_type": "code",
   "execution_count": null,
   "id": "d28d7c41",
   "metadata": {},
   "outputs": [],
   "source": [
    "# write_report(XGboostclassifier,\"good Model\",\"XGboostclassifier\")"
   ]
  },
  {
   "cell_type": "markdown",
   "id": "1b587752",
   "metadata": {},
   "source": [
    "### SVM Classifier\n"
   ]
  },
  {
   "cell_type": "code",
   "execution_count": null,
   "id": "53181392",
   "metadata": {},
   "outputs": [],
   "source": [
    "from sklearn.svm import SVC\n",
    "SVCclassifier = SVC(kernel=\"rbf\", random_state=0)\n",
    "SVCclassifier.fit(X_train, y_train)\n",
    "y_pred_svm = SVCclassifier.predict(X_test)"
   ]
  },
  {
   "cell_type": "code",
   "execution_count": null,
   "id": "0853a06c",
   "metadata": {},
   "outputs": [],
   "source": [
    "cm = confusion_matrix(y_test, y_pred_svm)\n",
    "print(cm)\n",
    "svc_accuracy = accuracy_score(y_test, y_pred_svm)\n",
    "model_accuracies[\"SVCclassifier\"] = svc_accuracy"
   ]
  },
  {
   "cell_type": "code",
   "execution_count": null,
   "id": "d9c5f081",
   "metadata": {},
   "outputs": [],
   "source": [
    "# write_report(SVCclassifier,\"good Model\",\"SVCclassifier\")"
   ]
  },
  {
   "cell_type": "markdown",
   "id": "dafdf274",
   "metadata": {},
   "source": [
    "### Naive Bayes "
   ]
  },
  {
   "cell_type": "code",
   "execution_count": null,
   "id": "54fbf389",
   "metadata": {},
   "outputs": [],
   "source": [
    "from sklearn.naive_bayes import GaussianNB\n",
    "GaussianNBclassifier = GaussianNB()\n",
    "GaussianNBclassifier.fit(X_train, y_train)\n",
    "y_pred_nb = GaussianNBclassifier.predict(X_test)"
   ]
  },
  {
   "cell_type": "code",
   "execution_count": null,
   "id": "3cca39da",
   "metadata": {},
   "outputs": [],
   "source": [
    "cm = confusion_matrix(y_test, y_pred_nb)\n",
    "print(cm)\n",
    "nb_accuracy = accuracy_score(y_test, y_pred_nb)\n",
    "model_accuracies[\"GaussianNBclassifie\"] = nb_accuracy"
   ]
  },
  {
   "cell_type": "code",
   "execution_count": null,
   "id": "1003ed8a",
   "metadata": {},
   "outputs": [],
   "source": [
    "# write_report(GaussianNBclassifier,\"good Model\",\"GaussianNBclassifier\")"
   ]
  },
  {
   "cell_type": "markdown",
   "id": "28deaa66",
   "metadata": {},
   "source": [
    "### Ada Boost"
   ]
  },
  {
   "cell_type": "code",
   "execution_count": null,
   "id": "37a3b573",
   "metadata": {},
   "outputs": [],
   "source": [
    "from sklearn.ensemble import AdaBoostClassifier\n",
    "AdaboostClassifier = AdaBoostClassifier(n_estimators=100,learning_rate=1)\n",
    "model = AdaboostClassifier.fit(X_train, y_train)\n",
    "y_pred_ada = AdaboostClassifier.predict(X_test)"
   ]
  },
  {
   "cell_type": "code",
   "execution_count": null,
   "id": "ba3a1421",
   "metadata": {},
   "outputs": [],
   "source": [
    "cm = confusion_matrix(y_test, y_pred_ada)\n",
    "print(cm)\n",
    "adaboost_accuracy = accuracy_score(y_test, y_pred_ada)\n",
    "model_accuracies[\"AdaboostClassifier\"] = adaboost_accuracy"
   ]
  },
  {
   "cell_type": "code",
   "execution_count": null,
   "id": "3fe8adae",
   "metadata": {},
   "outputs": [],
   "source": [
    "# write_report(AdaboostClassifier,\"Good report\",\"AdaboostClassifier\")"
   ]
  },
  {
   "cell_type": "markdown",
   "id": "2a4d8398",
   "metadata": {},
   "source": [
    "### Finding the best model"
   ]
  },
  {
   "cell_type": "code",
   "execution_count": null,
   "id": "4316475f",
   "metadata": {},
   "outputs": [],
   "source": [
    "bestmodel = max(model_accuracies, key = model_accuracies.get)\n",
    "print(bestmodel)\n",
    "print(model_accuracies[bestmodel])"
   ]
  },
  {
   "cell_type": "code",
   "execution_count": null,
   "id": "b7216c28",
   "metadata": {},
   "outputs": [],
   "source": [
    "# rfc=RandomForestClassifier(random_state=42)"
   ]
  },
  {
   "cell_type": "code",
   "execution_count": null,
   "id": "98823ab9",
   "metadata": {},
   "outputs": [],
   "source": [
    "# param_grid = { \n",
    "#     'n_estimators': [200, 500],\n",
    "#     'max_features': ['auto', 'sqrt', 'log2'],\n",
    "#     'max_depth' : [4,5,6,7,8],\n",
    "#     'criterion' :['gini', 'entropy']\n",
    "# }"
   ]
  },
  {
   "cell_type": "code",
   "execution_count": null,
   "id": "d11c0d39",
   "metadata": {},
   "outputs": [],
   "source": [
    "# from sklearn.model_selection import GridSearchCV\n",
    "# CV_rfc = GridSearchCV(estimator=rfc, param_grid=param_grid, cv= 5)\n",
    "# CV_rfc.fit(X_train, y_train)\n",
    "# CV_rfc.best_params_"
   ]
  },
  {
   "cell_type": "code",
   "execution_count": null,
   "id": "ba507431",
   "metadata": {},
   "outputs": [],
   "source": [
    "# rfc=RandomForestClassifier(random_state=42,criterion= 'gini',max_depth=4,max_features= 'auto',n_estimators= 200)"
   ]
  },
  {
   "cell_type": "code",
   "execution_count": null,
   "id": "f9285711",
   "metadata": {},
   "outputs": [],
   "source": [
    "# rfc.fit(X_train, y_train)\n",
    "# preds = rfc.predict(X_test)\n",
    "# accs = accuracy_score(y_test,preds)\n",
    "# accuracy.append(accs)\n",
    "# print(confusion_matrix(y_test,preds),'Accuracy: ',accs)"
   ]
  }
 ],
 "metadata": {
  "kernelspec": {
   "display_name": "Python 3",
   "language": "python",
   "name": "python3"
  },
  "language_info": {
   "codemirror_mode": {
    "name": "ipython",
    "version": 3
   },
   "file_extension": ".py",
   "mimetype": "text/x-python",
   "name": "python",
   "nbconvert_exporter": "python",
   "pygments_lexer": "ipython3",
   "version": "3.7.10"
  }
 },
 "nbformat": 4,
 "nbformat_minor": 5
}
